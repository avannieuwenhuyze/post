{
  "nbformat": 4,
  "nbformat_minor": 0,
  "metadata": {
    "colab": {
      "name": "Mot_De_Passe.ipynb",
      "provenance": [],
      "collapsed_sections": []
    },
    "kernelspec": {
      "name": "python3",
      "display_name": "Python 3"
    },
    "language_info": {
      "name": "python"
    }
  },
  "cells": [
    {
      "cell_type": "markdown",
      "source": [
        "#IDENTIFICATION DE LA FORCE D'UN MOT DE PASSE\n",
        "#### Aurélien Vannieuwenhuyze - 10 Juin 2022 - Machine Learning / Deep Learning\n",
        "##### https://aurelienvannieuwenhuyze.com | https://qstom-it.com\n",
        "<img src=\"https://www.gnu.org/graphics/gplv3-127x51.png\"/>"
      ],
      "metadata": {
        "id": "KO2Q2sHztZYh"
      }
    },
    {
      "cell_type": "markdown",
      "source": [
        "\n",
        "\n",
        "---\n",
        "\n"
      ],
      "metadata": {
        "id": "f5g4JQivfNPz"
      }
    },
    {
      "cell_type": "markdown",
      "source": [
        "Objectif : Qualifier la force d'un mot de passe (tres faible, faible, moyen, fort)\n",
        "\n",
        "> Etant donné que le dataset est généré il se peut que vous ayez des résultats différents. Afin de reproduire ceux obtenus lors de l'écriture de ce note book, il vous est possible de télécharger le dataset utilisé sur le github associé à ce projet."
      ],
      "metadata": {
        "id": "gDpxlpIyeSWd"
      }
    },
    {
      "cell_type": "markdown",
      "source": [
        "## Génération des données"
      ],
      "metadata": {
        "id": "PqcPIH-Steps"
      }
    },
    {
      "cell_type": "markdown",
      "source": [
        "Génération de mots de passe selon les critères de l'ANSSI (Agence Nationale de la sécurité des systèmes d'information) :  \n",
        "> https://www.ssi.gouv.fr/administration/precautions-elementaires/calculer-la-force-dun-mot-de-passe/"
      ],
      "metadata": {
        "id": "PKRiw8brtjUZ"
      }
    },
    {
      "cell_type": "markdown",
      "source": [
        "Le dataset généré comporte les caractéristiques suivantes :   \n",
        "\n",
        "*   Le mot de passe\n",
        "*   Le nombre de lettres en minuscules\n",
        "*   Le nombre de lettres en majuscules\n",
        "*   Le nombre de chiffres\n",
        "*   Le nombres de symboles compris dans la liste !#$%?*_;\n",
        "*   Le nombres de symboles compris dans la liste &{(-@)=}]/|[§µ.;<>£+\n",
        "*   La longueur du mot de passe\n",
        "*   La force ANSSI du mot de passe (cf site ANSSI pour le calcul)\n",
        "*   La categorie du mot de passe\n",
        "\n",
        "Encodage de la catégorie\n",
        "*   Indication que le mot de passe soit trés faible\n",
        "*   Indication que le mot de passe soit faible\n",
        "*   Indication que le mot de passe soit moyennement faible\n",
        "*   Indication que le mot de passe soit fort\n",
        "\n",
        "Les mots de passes sont générés pour les couples longueur/alphabet comme précisé sur le site de l'ANSSI:\n",
        "- Longueur 4 - Alphabet 2 symboles\n",
        "- Longueur 4 - Alphabet 10 symboles\n",
        "- ...\n",
        "- Longueur 30 - Alphabet 90 symboles\n",
        "\n",
        "Chaque couple fait l'objet de 1000 générations\n",
        "\n",
        "Les classes seront ensuites rééquilibrées"
      ],
      "metadata": {
        "id": "Tc9Qu19gt6t9"
      }
    },
    {
      "cell_type": "code",
      "source": [
        "'''\n",
        "  FONCTION DE GENERATION DE MOTS DE PASSE\n",
        "'''\n",
        "\n",
        "import random\n",
        "def GenerateurMotsDePasse(longueur,nbSymboles,nombreDP):\n",
        "  \n",
        "  chiffres = [0,1,2,3,4,5,6,7,8,9]\n",
        "  lettresMAJ = [\"A\",\"B\",\"C\",\"D\",\"E\",\"F\",\"G\",\"H\",\"I\",\"J\",\"K\",\"L\",\"M\",\"N\",\"O\",\"P\",\"Q\",\"R\",\"S\",\"T\",\"U\",\"V\",\"W\",\"X\",\"Y\",\"Z\"]\n",
        "  lettresMIN = [\"a\",\"b\",\"c\",\"s\",\"e\",\"f\",\"g\",\"h\",\"i\",\"j\",\"k\",\"l\",\"m\",\"n\",\"o\",\"p\",\"q\",\"r\",\"s\",\"t\",\"u\",\"v\",\"w\",\"x\",\"y\",\"z\"]\n",
        "  symboles1 = [\"!\",\"#\",\"$\",\"%\",\"?\",\"*\",\"_\",\";\"]\n",
        "  symboles2 = [\"&\",\"{\",\"(\",\"-\",\"@\",\")\",\"=\",\"}\",\"]\",\"/\",\"|\",\"[\",\"§\",\"µ\",\".\",\";\",\"<\",\">\",\"£\",\"+\"]\n",
        "\n",
        "  n = 0\n",
        "  #Choix de l'alphabet\n",
        "  if (nbSymboles == 2):\n",
        "    n = 1\n",
        "    a = [0,1]\n",
        "  if (nbSymboles == 16):\n",
        "    n = 3.32\n",
        "    a = chiffres+[\"A\",\"B\",\"C\",\"D\",\"E\",\"F\"]\n",
        "  if (nbSymboles == 26):\n",
        "    n = 4\n",
        "    a = lettresMAJ\n",
        "  if (nbSymboles == 36):\n",
        "    n = 4.7\n",
        "    a = chiffres+lettresMAJ\n",
        "  if (nbSymboles == 52):\n",
        "    n = 5.17\n",
        "    a = lettresMAJ+lettresMIN\n",
        "  if (nbSymboles == 62):\n",
        "    n = 5.95\n",
        "    a = chiffres+lettresMAJ+lettresMIN\n",
        "  if (nbSymboles == 70):\n",
        "    n = 6.13\n",
        "    a = chiffres+lettresMAJ+lettresMIN+symboles1\n",
        "  if (nbSymboles == 90):\n",
        "    n = 6.49\n",
        "    a = chiffres+lettresMAJ+lettresMIN+symboles1+symboles2\n",
        "\n",
        "  #Generation des mots de passe, calcul de la force, details et categorisation\n",
        "  MDPS = []\n",
        "  for i in range(nombreDP):\n",
        "    mdp = \"\"\n",
        "    elements=[]\n",
        "    for k in range(longueur):\n",
        "      elements.append(str(random.choice(a)))\n",
        "    mdp = mdp.join(elements)\n",
        "\n",
        "    #Calcul de la force\n",
        "    force =round ((n*longueur),0)\n",
        "\n",
        "    #Identification de la catégorie\n",
        "    categorie = \"\"\n",
        "    categorie_tres_faible = 0\n",
        "    categorie_faible = 0\n",
        "    categorie_moyen = 0\n",
        "    categorie_fort = 0\n",
        "    if (force < 64 ):\n",
        "      categorie=\"TresFaible\"\n",
        "      categorie_tres_faible = 1\n",
        "    if (force >= 64 and force<80):\n",
        "      categorie=\"Faible\"\n",
        "      categorie_faible = 1\n",
        "    if (force >= 80 and force<100):\n",
        "      categorie=\"Moyen\"\n",
        "      categorie_moyen = 1\n",
        "    if (force >= 100 ):\n",
        "      categorie=\"Fort\"\n",
        "      categorie_fort = 1\n",
        "\n",
        "    #Detail du mot de passe\n",
        "    nbMin = 0\n",
        "    nbMaj =0\n",
        "    nbChiffres = 0\n",
        "    nbSymboles_1 =0\n",
        "    nbSymboles_2 = 0\n",
        "    \n",
        "    for l in mdp:\n",
        "      if l in lettresMIN:\n",
        "        nbMin+=1\n",
        "      if l in lettresMAJ:\n",
        "        nbMaj+=1\n",
        "      if l in str(chiffres):\n",
        "        nbChiffres+=1\n",
        "      if l in symboles1:\n",
        "        nbSymboles_1+=1\n",
        "      if l in symboles2:\n",
        "        nbSymboles_2+=1\n",
        "\n",
        "    MDPS.append([mdp,nbMin,nbMaj,nbChiffres,nbSymboles_1,nbSymboles_2,longueur,force,categorie])\n",
        "\n",
        "  return MDPS\n",
        " \n",
        "    \n"
      ],
      "metadata": {
        "id": "qJaROHPBWZBQ"
      },
      "execution_count": 1,
      "outputs": []
    },
    {
      "cell_type": "code",
      "source": [
        "#Generation des mots de passe\n",
        "longueurs=[4,6,8,10,12,16,20,25,30]\n",
        "alphabets=[2,16,26,36,52,62,70,90]\n",
        "datas=[]\n",
        "for longueur in longueurs:\n",
        "  for alphabet in alphabets:\n",
        "    mdps = GenerateurMotsDePasse(longueur,alphabet,1000)\n",
        "    for mdp in mdps:\n",
        "      datas.append(mdp)\n",
        "\n",
        "print(len(datas), \"mots de passe générés.\")\n"
      ],
      "metadata": {
        "colab": {
          "base_uri": "https://localhost:8080/"
        },
        "id": "iiKfVd0TdtPA",
        "outputId": "d7669eed-b9ce-4a59-98cb-182d552c06b9"
      },
      "execution_count": 2,
      "outputs": [
        {
          "output_type": "stream",
          "name": "stdout",
          "text": [
            "72000 mots de passe générés.\n"
          ]
        }
      ]
    },
    {
      "cell_type": "code",
      "source": [
        "import pandas as pnd\n",
        "df  = pnd.DataFrame(datas, columns=[\"MotDePasse\",\"NbMinuscules\",\"NbMajuscules\",\"NbChiffres\",\"NbSymboles1\",\"NbSymboles2\",\"Longueur\",\"ForceANSSI\",\"Categorie\"])\n",
        "\n",
        "df.head()"
      ],
      "metadata": {
        "colab": {
          "base_uri": "https://localhost:8080/",
          "height": 250
        },
        "id": "57uO41GGnsV4",
        "outputId": "10d0a057-7110-4974-e32e-e9ab5bfcea43"
      },
      "execution_count": 10,
      "outputs": [
        {
          "output_type": "execute_result",
          "data": {
            "text/plain": [
              "             MotDePasse  NbMinuscules  NbMajuscules  NbChiffres  NbSymboles1  \\\n",
              "0      PMDNPSGRBDHOITDL             0            16           0            0   \n",
              "1          EVl*oKFlKeUK             4             7           0            1   \n",
              "2          wG5nt67Na$i0             5             2           4            1   \n",
              "3      xQXeJSuLsEnPJsML             6            10           0            0   \n",
              "4  2PC5W0HYUB91V4WASXPM             0            14           6            0   \n",
              "\n",
              "   NbSymboles2  Longueur  ForceANSSI Categorie  \n",
              "0            0        16        64.0    Faible  \n",
              "1            0        12        74.0    Faible  \n",
              "2            0        12        74.0    Faible  \n",
              "3            0        16        83.0     Moyen  \n",
              "4            0        20        94.0     Moyen  "
            ],
            "text/html": [
              "\n",
              "  <div id=\"df-824872c1-5bd7-4a82-9e28-9e2c4cf39ac1\">\n",
              "    <div class=\"colab-df-container\">\n",
              "      <div>\n",
              "<style scoped>\n",
              "    .dataframe tbody tr th:only-of-type {\n",
              "        vertical-align: middle;\n",
              "    }\n",
              "\n",
              "    .dataframe tbody tr th {\n",
              "        vertical-align: top;\n",
              "    }\n",
              "\n",
              "    .dataframe thead th {\n",
              "        text-align: right;\n",
              "    }\n",
              "</style>\n",
              "<table border=\"1\" class=\"dataframe\">\n",
              "  <thead>\n",
              "    <tr style=\"text-align: right;\">\n",
              "      <th></th>\n",
              "      <th>MotDePasse</th>\n",
              "      <th>NbMinuscules</th>\n",
              "      <th>NbMajuscules</th>\n",
              "      <th>NbChiffres</th>\n",
              "      <th>NbSymboles1</th>\n",
              "      <th>NbSymboles2</th>\n",
              "      <th>Longueur</th>\n",
              "      <th>ForceANSSI</th>\n",
              "      <th>Categorie</th>\n",
              "    </tr>\n",
              "  </thead>\n",
              "  <tbody>\n",
              "    <tr>\n",
              "      <th>0</th>\n",
              "      <td>PMDNPSGRBDHOITDL</td>\n",
              "      <td>0</td>\n",
              "      <td>16</td>\n",
              "      <td>0</td>\n",
              "      <td>0</td>\n",
              "      <td>0</td>\n",
              "      <td>16</td>\n",
              "      <td>64.0</td>\n",
              "      <td>Faible</td>\n",
              "    </tr>\n",
              "    <tr>\n",
              "      <th>1</th>\n",
              "      <td>EVl*oKFlKeUK</td>\n",
              "      <td>4</td>\n",
              "      <td>7</td>\n",
              "      <td>0</td>\n",
              "      <td>1</td>\n",
              "      <td>0</td>\n",
              "      <td>12</td>\n",
              "      <td>74.0</td>\n",
              "      <td>Faible</td>\n",
              "    </tr>\n",
              "    <tr>\n",
              "      <th>2</th>\n",
              "      <td>wG5nt67Na$i0</td>\n",
              "      <td>5</td>\n",
              "      <td>2</td>\n",
              "      <td>4</td>\n",
              "      <td>1</td>\n",
              "      <td>0</td>\n",
              "      <td>12</td>\n",
              "      <td>74.0</td>\n",
              "      <td>Faible</td>\n",
              "    </tr>\n",
              "    <tr>\n",
              "      <th>3</th>\n",
              "      <td>xQXeJSuLsEnPJsML</td>\n",
              "      <td>6</td>\n",
              "      <td>10</td>\n",
              "      <td>0</td>\n",
              "      <td>0</td>\n",
              "      <td>0</td>\n",
              "      <td>16</td>\n",
              "      <td>83.0</td>\n",
              "      <td>Moyen</td>\n",
              "    </tr>\n",
              "    <tr>\n",
              "      <th>4</th>\n",
              "      <td>2PC5W0HYUB91V4WASXPM</td>\n",
              "      <td>0</td>\n",
              "      <td>14</td>\n",
              "      <td>6</td>\n",
              "      <td>0</td>\n",
              "      <td>0</td>\n",
              "      <td>20</td>\n",
              "      <td>94.0</td>\n",
              "      <td>Moyen</td>\n",
              "    </tr>\n",
              "  </tbody>\n",
              "</table>\n",
              "</div>\n",
              "      <button class=\"colab-df-convert\" onclick=\"convertToInteractive('df-824872c1-5bd7-4a82-9e28-9e2c4cf39ac1')\"\n",
              "              title=\"Convert this dataframe to an interactive table.\"\n",
              "              style=\"display:none;\">\n",
              "        \n",
              "  <svg xmlns=\"http://www.w3.org/2000/svg\" height=\"24px\"viewBox=\"0 0 24 24\"\n",
              "       width=\"24px\">\n",
              "    <path d=\"M0 0h24v24H0V0z\" fill=\"none\"/>\n",
              "    <path d=\"M18.56 5.44l.94 2.06.94-2.06 2.06-.94-2.06-.94-.94-2.06-.94 2.06-2.06.94zm-11 1L8.5 8.5l.94-2.06 2.06-.94-2.06-.94L8.5 2.5l-.94 2.06-2.06.94zm10 10l.94 2.06.94-2.06 2.06-.94-2.06-.94-.94-2.06-.94 2.06-2.06.94z\"/><path d=\"M17.41 7.96l-1.37-1.37c-.4-.4-.92-.59-1.43-.59-.52 0-1.04.2-1.43.59L10.3 9.45l-7.72 7.72c-.78.78-.78 2.05 0 2.83L4 21.41c.39.39.9.59 1.41.59.51 0 1.02-.2 1.41-.59l7.78-7.78 2.81-2.81c.8-.78.8-2.07 0-2.86zM5.41 20L4 18.59l7.72-7.72 1.47 1.35L5.41 20z\"/>\n",
              "  </svg>\n",
              "      </button>\n",
              "      \n",
              "  <style>\n",
              "    .colab-df-container {\n",
              "      display:flex;\n",
              "      flex-wrap:wrap;\n",
              "      gap: 12px;\n",
              "    }\n",
              "\n",
              "    .colab-df-convert {\n",
              "      background-color: #E8F0FE;\n",
              "      border: none;\n",
              "      border-radius: 50%;\n",
              "      cursor: pointer;\n",
              "      display: none;\n",
              "      fill: #1967D2;\n",
              "      height: 32px;\n",
              "      padding: 0 0 0 0;\n",
              "      width: 32px;\n",
              "    }\n",
              "\n",
              "    .colab-df-convert:hover {\n",
              "      background-color: #E2EBFA;\n",
              "      box-shadow: 0px 1px 2px rgba(60, 64, 67, 0.3), 0px 1px 3px 1px rgba(60, 64, 67, 0.15);\n",
              "      fill: #174EA6;\n",
              "    }\n",
              "\n",
              "    [theme=dark] .colab-df-convert {\n",
              "      background-color: #3B4455;\n",
              "      fill: #D2E3FC;\n",
              "    }\n",
              "\n",
              "    [theme=dark] .colab-df-convert:hover {\n",
              "      background-color: #434B5C;\n",
              "      box-shadow: 0px 1px 3px 1px rgba(0, 0, 0, 0.15);\n",
              "      filter: drop-shadow(0px 1px 2px rgba(0, 0, 0, 0.3));\n",
              "      fill: #FFFFFF;\n",
              "    }\n",
              "  </style>\n",
              "\n",
              "      <script>\n",
              "        const buttonEl =\n",
              "          document.querySelector('#df-824872c1-5bd7-4a82-9e28-9e2c4cf39ac1 button.colab-df-convert');\n",
              "        buttonEl.style.display =\n",
              "          google.colab.kernel.accessAllowed ? 'block' : 'none';\n",
              "\n",
              "        async function convertToInteractive(key) {\n",
              "          const element = document.querySelector('#df-824872c1-5bd7-4a82-9e28-9e2c4cf39ac1');\n",
              "          const dataTable =\n",
              "            await google.colab.kernel.invokeFunction('convertToInteractive',\n",
              "                                                     [key], {});\n",
              "          if (!dataTable) return;\n",
              "\n",
              "          const docLinkHtml = 'Like what you see? Visit the ' +\n",
              "            '<a target=\"_blank\" href=https://colab.research.google.com/notebooks/data_table.ipynb>data table notebook</a>'\n",
              "            + ' to learn more about interactive tables.';\n",
              "          element.innerHTML = '';\n",
              "          dataTable['output_type'] = 'display_data';\n",
              "          await google.colab.output.renderOutput(dataTable, element);\n",
              "          const docLink = document.createElement('div');\n",
              "          docLink.innerHTML = docLinkHtml;\n",
              "          element.appendChild(docLink);\n",
              "        }\n",
              "      </script>\n",
              "    </div>\n",
              "  </div>\n",
              "  "
            ]
          },
          "metadata": {},
          "execution_count": 10
        }
      ]
    },
    {
      "cell_type": "code",
      "source": [
        "#Mélange des données\n",
        "df = df.sample(frac=1).reset_index(drop=True)\n",
        "df.head()"
      ],
      "metadata": {
        "colab": {
          "base_uri": "https://localhost:8080/",
          "height": 270
        },
        "id": "sZibWYzAQV_c",
        "outputId": "3a2cc62d-b05f-4854-be8c-eb9559abe282"
      },
      "execution_count": 11,
      "outputs": [
        {
          "output_type": "execute_result",
          "data": {
            "text/plain": [
              "                       MotDePasse  NbMinuscules  NbMajuscules  NbChiffres  \\\n",
              "0  VPHJWTTRZLUUQAXBACPNQNMVORXIUD             0            30           0   \n",
              "1  UH4S6XSA2H5Q53S5ORWWJNR1CE9D4R             0            20          10   \n",
              "2  DMOPYLLIPPQHBWSUPZOSFPCNTAPVNB             0            30           0   \n",
              "3            GP4.B/WT](nZn][N7LJo             3             9           5   \n",
              "4                    ?#bFGJPfS356             2             5           3   \n",
              "\n",
              "   NbSymboles1  NbSymboles2  Longueur  ForceANSSI Categorie  \n",
              "0            0            0        30       120.0      Fort  \n",
              "1            0            0        30       141.0      Fort  \n",
              "2            0            0        30       120.0      Fort  \n",
              "3            0            6        20       130.0      Fort  \n",
              "4            2            0        12        74.0    Faible  "
            ],
            "text/html": [
              "\n",
              "  <div id=\"df-a337dd6b-c176-47c3-b6a8-2e0d1aec483c\">\n",
              "    <div class=\"colab-df-container\">\n",
              "      <div>\n",
              "<style scoped>\n",
              "    .dataframe tbody tr th:only-of-type {\n",
              "        vertical-align: middle;\n",
              "    }\n",
              "\n",
              "    .dataframe tbody tr th {\n",
              "        vertical-align: top;\n",
              "    }\n",
              "\n",
              "    .dataframe thead th {\n",
              "        text-align: right;\n",
              "    }\n",
              "</style>\n",
              "<table border=\"1\" class=\"dataframe\">\n",
              "  <thead>\n",
              "    <tr style=\"text-align: right;\">\n",
              "      <th></th>\n",
              "      <th>MotDePasse</th>\n",
              "      <th>NbMinuscules</th>\n",
              "      <th>NbMajuscules</th>\n",
              "      <th>NbChiffres</th>\n",
              "      <th>NbSymboles1</th>\n",
              "      <th>NbSymboles2</th>\n",
              "      <th>Longueur</th>\n",
              "      <th>ForceANSSI</th>\n",
              "      <th>Categorie</th>\n",
              "    </tr>\n",
              "  </thead>\n",
              "  <tbody>\n",
              "    <tr>\n",
              "      <th>0</th>\n",
              "      <td>VPHJWTTRZLUUQAXBACPNQNMVORXIUD</td>\n",
              "      <td>0</td>\n",
              "      <td>30</td>\n",
              "      <td>0</td>\n",
              "      <td>0</td>\n",
              "      <td>0</td>\n",
              "      <td>30</td>\n",
              "      <td>120.0</td>\n",
              "      <td>Fort</td>\n",
              "    </tr>\n",
              "    <tr>\n",
              "      <th>1</th>\n",
              "      <td>UH4S6XSA2H5Q53S5ORWWJNR1CE9D4R</td>\n",
              "      <td>0</td>\n",
              "      <td>20</td>\n",
              "      <td>10</td>\n",
              "      <td>0</td>\n",
              "      <td>0</td>\n",
              "      <td>30</td>\n",
              "      <td>141.0</td>\n",
              "      <td>Fort</td>\n",
              "    </tr>\n",
              "    <tr>\n",
              "      <th>2</th>\n",
              "      <td>DMOPYLLIPPQHBWSUPZOSFPCNTAPVNB</td>\n",
              "      <td>0</td>\n",
              "      <td>30</td>\n",
              "      <td>0</td>\n",
              "      <td>0</td>\n",
              "      <td>0</td>\n",
              "      <td>30</td>\n",
              "      <td>120.0</td>\n",
              "      <td>Fort</td>\n",
              "    </tr>\n",
              "    <tr>\n",
              "      <th>3</th>\n",
              "      <td>GP4.B/WT](nZn][N7LJo</td>\n",
              "      <td>3</td>\n",
              "      <td>9</td>\n",
              "      <td>5</td>\n",
              "      <td>0</td>\n",
              "      <td>6</td>\n",
              "      <td>20</td>\n",
              "      <td>130.0</td>\n",
              "      <td>Fort</td>\n",
              "    </tr>\n",
              "    <tr>\n",
              "      <th>4</th>\n",
              "      <td>?#bFGJPfS356</td>\n",
              "      <td>2</td>\n",
              "      <td>5</td>\n",
              "      <td>3</td>\n",
              "      <td>2</td>\n",
              "      <td>0</td>\n",
              "      <td>12</td>\n",
              "      <td>74.0</td>\n",
              "      <td>Faible</td>\n",
              "    </tr>\n",
              "  </tbody>\n",
              "</table>\n",
              "</div>\n",
              "      <button class=\"colab-df-convert\" onclick=\"convertToInteractive('df-a337dd6b-c176-47c3-b6a8-2e0d1aec483c')\"\n",
              "              title=\"Convert this dataframe to an interactive table.\"\n",
              "              style=\"display:none;\">\n",
              "        \n",
              "  <svg xmlns=\"http://www.w3.org/2000/svg\" height=\"24px\"viewBox=\"0 0 24 24\"\n",
              "       width=\"24px\">\n",
              "    <path d=\"M0 0h24v24H0V0z\" fill=\"none\"/>\n",
              "    <path d=\"M18.56 5.44l.94 2.06.94-2.06 2.06-.94-2.06-.94-.94-2.06-.94 2.06-2.06.94zm-11 1L8.5 8.5l.94-2.06 2.06-.94-2.06-.94L8.5 2.5l-.94 2.06-2.06.94zm10 10l.94 2.06.94-2.06 2.06-.94-2.06-.94-.94-2.06-.94 2.06-2.06.94z\"/><path d=\"M17.41 7.96l-1.37-1.37c-.4-.4-.92-.59-1.43-.59-.52 0-1.04.2-1.43.59L10.3 9.45l-7.72 7.72c-.78.78-.78 2.05 0 2.83L4 21.41c.39.39.9.59 1.41.59.51 0 1.02-.2 1.41-.59l7.78-7.78 2.81-2.81c.8-.78.8-2.07 0-2.86zM5.41 20L4 18.59l7.72-7.72 1.47 1.35L5.41 20z\"/>\n",
              "  </svg>\n",
              "      </button>\n",
              "      \n",
              "  <style>\n",
              "    .colab-df-container {\n",
              "      display:flex;\n",
              "      flex-wrap:wrap;\n",
              "      gap: 12px;\n",
              "    }\n",
              "\n",
              "    .colab-df-convert {\n",
              "      background-color: #E8F0FE;\n",
              "      border: none;\n",
              "      border-radius: 50%;\n",
              "      cursor: pointer;\n",
              "      display: none;\n",
              "      fill: #1967D2;\n",
              "      height: 32px;\n",
              "      padding: 0 0 0 0;\n",
              "      width: 32px;\n",
              "    }\n",
              "\n",
              "    .colab-df-convert:hover {\n",
              "      background-color: #E2EBFA;\n",
              "      box-shadow: 0px 1px 2px rgba(60, 64, 67, 0.3), 0px 1px 3px 1px rgba(60, 64, 67, 0.15);\n",
              "      fill: #174EA6;\n",
              "    }\n",
              "\n",
              "    [theme=dark] .colab-df-convert {\n",
              "      background-color: #3B4455;\n",
              "      fill: #D2E3FC;\n",
              "    }\n",
              "\n",
              "    [theme=dark] .colab-df-convert:hover {\n",
              "      background-color: #434B5C;\n",
              "      box-shadow: 0px 1px 3px 1px rgba(0, 0, 0, 0.15);\n",
              "      filter: drop-shadow(0px 1px 2px rgba(0, 0, 0, 0.3));\n",
              "      fill: #FFFFFF;\n",
              "    }\n",
              "  </style>\n",
              "\n",
              "      <script>\n",
              "        const buttonEl =\n",
              "          document.querySelector('#df-a337dd6b-c176-47c3-b6a8-2e0d1aec483c button.colab-df-convert');\n",
              "        buttonEl.style.display =\n",
              "          google.colab.kernel.accessAllowed ? 'block' : 'none';\n",
              "\n",
              "        async function convertToInteractive(key) {\n",
              "          const element = document.querySelector('#df-a337dd6b-c176-47c3-b6a8-2e0d1aec483c');\n",
              "          const dataTable =\n",
              "            await google.colab.kernel.invokeFunction('convertToInteractive',\n",
              "                                                     [key], {});\n",
              "          if (!dataTable) return;\n",
              "\n",
              "          const docLinkHtml = 'Like what you see? Visit the ' +\n",
              "            '<a target=\"_blank\" href=https://colab.research.google.com/notebooks/data_table.ipynb>data table notebook</a>'\n",
              "            + ' to learn more about interactive tables.';\n",
              "          element.innerHTML = '';\n",
              "          dataTable['output_type'] = 'display_data';\n",
              "          await google.colab.output.renderOutput(dataTable, element);\n",
              "          const docLink = document.createElement('div');\n",
              "          docLink.innerHTML = docLinkHtml;\n",
              "          element.appendChild(docLink);\n",
              "        }\n",
              "      </script>\n",
              "    </div>\n",
              "  </div>\n",
              "  "
            ]
          },
          "metadata": {},
          "execution_count": 11
        }
      ]
    },
    {
      "cell_type": "code",
      "source": [
        "#On rééquilibre les classes\n",
        "df = df.groupby('Categorie')\n",
        "df = df.apply(lambda x: x.sample(df.size().min()).reset_index(drop=True))\n",
        "df.reset_index(drop=True, inplace=True)\n",
        "df[\"Categorie\"].value_counts()\n"
      ],
      "metadata": {
        "colab": {
          "base_uri": "https://localhost:8080/"
        },
        "id": "SrEeMMszy-ua",
        "outputId": "05a6a218-87e0-42c9-b93a-098d6346b585"
      },
      "execution_count": 12,
      "outputs": [
        {
          "output_type": "execute_result",
          "data": {
            "text/plain": [
              "Faible        6000\n",
              "Fort          6000\n",
              "Moyen         6000\n",
              "TresFaible    6000\n",
              "Name: Categorie, dtype: int64"
            ]
          },
          "metadata": {},
          "execution_count": 12
        }
      ]
    },
    {
      "cell_type": "code",
      "source": [
        "#Sauvegarde du dataset complet\n",
        "df.to_csv(\"dataset_mdp.csv\",index=False)"
      ],
      "metadata": {
        "id": "4x8WK66SbeqT"
      },
      "execution_count": 82,
      "outputs": []
    },
    {
      "cell_type": "markdown",
      "source": [
        "## Modelisation"
      ],
      "metadata": {
        "id": "NMXYyuiRxIME"
      }
    },
    {
      "cell_type": "code",
      "source": [
        "from sklearn.model_selection import train_test_split\n",
        "\n",
        "datas = df.copy()\n",
        "Y = datas[\"Categorie\"]\n",
        "datas = datas.drop(columns=[\"Categorie\",\"ForceANSSI\",\"MotDePasse\"])\n",
        "X = datas\n"
      ],
      "metadata": {
        "id": "r-Zrv2_e0bmG"
      },
      "execution_count": 73,
      "outputs": []
    },
    {
      "cell_type": "code",
      "source": [
        "X_train, X_test, y_train, y_test = train_test_split(X,Y,test_size=0.30,random_state=42)"
      ],
      "metadata": {
        "id": "aLSerefR4Mao"
      },
      "execution_count": 74,
      "outputs": []
    },
    {
      "cell_type": "code",
      "source": [
        "#Sauvegarde des datasets\n",
        "X_train.to_csv(\"XTrainML.csv\",index=False)\n",
        "y_train.to_csv(\"YTrainML.csv\",index=False)\n",
        "X_test.to_csv(\"XTestML.csv\",index=False)\n",
        "y_test.to_csv(\"YTestML.csv\",index=False)"
      ],
      "metadata": {
        "id": "MFFEZbbsadb1"
      },
      "execution_count": 75,
      "outputs": []
    },
    {
      "cell_type": "markdown",
      "source": [
        "### Arbre de décision"
      ],
      "metadata": {
        "id": "cc_g-ipB4mvc"
      }
    },
    {
      "cell_type": "code",
      "source": [
        "from sklearn.tree import DecisionTreeClassifier\n",
        "from sklearn.metrics import f1_score\n",
        "\n",
        "from sklearn.metrics import plot_confusion_matrix\n",
        "\n",
        "arbreDecision = DecisionTreeClassifier()\n",
        "arbreDecision.fit(X_train,y_train)\n",
        "\n",
        "plot_confusion_matrix(arbreDecision, X_test, y_test) "
      ],
      "metadata": {
        "colab": {
          "base_uri": "https://localhost:8080/",
          "height": 353
        },
        "id": "kEQNqLbu4ODC",
        "outputId": "beb263f0-5a68-48bf-9251-9998c265d9af"
      },
      "execution_count": 16,
      "outputs": [
        {
          "output_type": "stream",
          "name": "stderr",
          "text": [
            "/usr/local/lib/python3.7/dist-packages/sklearn/utils/deprecation.py:87: FutureWarning: Function plot_confusion_matrix is deprecated; Function `plot_confusion_matrix` is deprecated in 1.0 and will be removed in 1.2. Use one of the class methods: ConfusionMatrixDisplay.from_predictions or ConfusionMatrixDisplay.from_estimator.\n",
            "  warnings.warn(msg, category=FutureWarning)\n"
          ]
        },
        {
          "output_type": "execute_result",
          "data": {
            "text/plain": [
              "<sklearn.metrics._plot.confusion_matrix.ConfusionMatrixDisplay at 0x7f7706cbdf50>"
            ]
          },
          "metadata": {},
          "execution_count": 16
        },
        {
          "output_type": "display_data",
          "data": {
            "text/plain": [
              "<Figure size 432x288 with 2 Axes>"
            ],
            "image/png": "[encoded data removed]"
          },
          "metadata": {
            "needs_background": "light"
          }
        }
      ]
    },
    {
      "cell_type": "code",
      "source": [
        "from sklearn.metrics import f1_score\n",
        "predictions = arbreDecision.predict(X_test)\n",
        "f1_score(y_test, predictions, average='macro')"
      ],
      "metadata": {
        "id": "KJs7J-4b8Aei",
        "colab": {
          "base_uri": "https://localhost:8080/"
        },
        "outputId": "ab4aaa58-d397-4568-9188-fc970cc71c9b"
      },
      "execution_count": 17,
      "outputs": [
        {
          "output_type": "execute_result",
          "data": {
            "text/plain": [
              "0.9794326699007425"
            ]
          },
          "metadata": {},
          "execution_count": 17
        }
      ]
    },
    {
      "cell_type": "code",
      "source": [
        "#Sauvegarde du modèle\n",
        "import pickle\n",
        "pickle.dump(arbreDecision, open(\"arbreDecision.sav\", 'wb'))"
      ],
      "metadata": {
        "id": "4YCgyHf4aqKp"
      },
      "execution_count": 83,
      "outputs": []
    },
    {
      "cell_type": "markdown",
      "source": [
        "### Random Forest"
      ],
      "metadata": {
        "id": "spd0nUjV7OrZ"
      }
    },
    {
      "cell_type": "code",
      "source": [
        "from sklearn.ensemble import RandomForestClassifier\n",
        "randomForest = RandomForestClassifier()\n",
        "randomForest.fit(X_train,y_train)"
      ],
      "metadata": {
        "colab": {
          "base_uri": "https://localhost:8080/"
        },
        "id": "v9EFbGxG7RCP",
        "outputId": "7acdf8c7-f279-4423-ece9-2e3b95933aca"
      },
      "execution_count": 78,
      "outputs": [
        {
          "output_type": "execute_result",
          "data": {
            "text/plain": [
              "RandomForestClassifier()"
            ]
          },
          "metadata": {},
          "execution_count": 78
        }
      ]
    },
    {
      "cell_type": "code",
      "source": [
        "plot_confusion_matrix(randomForest, X_test, y_test)"
      ],
      "metadata": {
        "colab": {
          "base_uri": "https://localhost:8080/",
          "height": 297
        },
        "id": "-CORZWN47bkD",
        "outputId": "8ef664a4-65e8-4dc2-a864-18502b4574fe"
      },
      "execution_count": 79,
      "outputs": [
        {
          "output_type": "execute_result",
          "data": {
            "text/plain": [
              "<sklearn.metrics._plot.confusion_matrix.ConfusionMatrixDisplay at 0x7f769759e550>"
            ]
          },
          "metadata": {},
          "execution_count": 79
        },
        {
          "output_type": "display_data",
          "data": {
            "text/plain": [
              "<Figure size 432x288 with 2 Axes>"
            ],
            "image/png": "[encoded data removed]"
          },
          "metadata": {
            "needs_background": "light"
          }
        }
      ]
    },
    {
      "cell_type": "code",
      "source": [
        "from sklearn.metrics import f1_score\n",
        "predictions = randomForest.predict(X_test)\n",
        "f1_score(y_test, predictions, average='macro')"
      ],
      "metadata": {
        "colab": {
          "base_uri": "https://localhost:8080/"
        },
        "id": "Gvficq3Q7uIt",
        "outputId": "74f5e4e2-3831-4c28-c2fe-0ea2bdcf8f47"
      },
      "execution_count": 80,
      "outputs": [
        {
          "output_type": "execute_result",
          "data": {
            "text/plain": [
              "0.9805414600377862"
            ]
          },
          "metadata": {},
          "execution_count": 80
        }
      ]
    },
    {
      "cell_type": "code",
      "source": [
        "#Sauvegarde du modèle\n",
        "import pickle\n",
        "pickle.dump(randomForest, open(\"randomForest.sav\", 'wb'))"
      ],
      "metadata": {
        "id": "baLLTpsBbEhP"
      },
      "execution_count": 84,
      "outputs": []
    },
    {
      "cell_type": "markdown",
      "source": [
        "## Reseau de neurones"
      ],
      "metadata": {
        "id": "sFaYI5u092T9"
      }
    },
    {
      "cell_type": "code",
      "source": [
        "\n",
        "#On reprend les données avant le découpage train/test utilisé par les autres\n",
        "#algorithmes\n",
        "datas_ReseauxNeurones = df.copy()\n",
        "\n",
        "\n",
        "#Selection des caractéristiques explicatives et de la caractéristique expliquée\n",
        "Y = datas_ReseauxNeurones[\"Categorie\"]\n",
        "datas_ReseauxNeurones = datas_ReseauxNeurones.drop(columns=[\"Categorie\",\"ForceANSSI\",\"MotDePasse\"])\n",
        "X = datas_ReseauxNeurones\n",
        "\n",
        "#On normalise les données.\n",
        "#A titre pédagogique vous pouvez passer cette étape est constater son importance\n",
        "#sur la mise en oeuvre des réseaux de neurones\n",
        "from sklearn.preprocessing import MinMaxScaler\n",
        "outilNormalisation = MinMaxScaler()\n",
        "X_normalise = pnd.DataFrame(outilNormalisation.fit_transform(X))\n",
        "\n",
        "\n",
        "#Dummies variables\n",
        "y_dummies = pnd.get_dummies(Y)\n",
        "y_dummies"
      ],
      "metadata": {
        "id": "yi_VCFQS94vN",
        "colab": {
          "base_uri": "https://localhost:8080/",
          "height": 424
        },
        "outputId": "09c193ce-ff06-48c3-f883-789d8feff463"
      },
      "execution_count": 21,
      "outputs": [
        {
          "output_type": "execute_result",
          "data": {
            "text/plain": [
              "       Faible  Fort  Moyen  TresFaible\n",
              "0           1     0      0           0\n",
              "1           1     0      0           0\n",
              "2           1     0      0           0\n",
              "3           1     0      0           0\n",
              "4           1     0      0           0\n",
              "...       ...   ...    ...         ...\n",
              "23995       0     0      0           1\n",
              "23996       0     0      0           1\n",
              "23997       0     0      0           1\n",
              "23998       0     0      0           1\n",
              "23999       0     0      0           1\n",
              "\n",
              "[24000 rows x 4 columns]"
            ],
            "text/html": [
              "\n",
              "  <div id=\"df-f50a39c8-5fb5-42a7-bfca-9fdae74b5426\">\n",
              "    <div class=\"colab-df-container\">\n",
              "      <div>\n",
              "<style scoped>\n",
              "    .dataframe tbody tr th:only-of-type {\n",
              "        vertical-align: middle;\n",
              "    }\n",
              "\n",
              "    .dataframe tbody tr th {\n",
              "        vertical-align: top;\n",
              "    }\n",
              "\n",
              "    .dataframe thead th {\n",
              "        text-align: right;\n",
              "    }\n",
              "</style>\n",
              "<table border=\"1\" class=\"dataframe\">\n",
              "  <thead>\n",
              "    <tr style=\"text-align: right;\">\n",
              "      <th></th>\n",
              "      <th>Faible</th>\n",
              "      <th>Fort</th>\n",
              "      <th>Moyen</th>\n",
              "      <th>TresFaible</th>\n",
              "    </tr>\n",
              "  </thead>\n",
              "  <tbody>\n",
              "    <tr>\n",
              "      <th>0</th>\n",
              "      <td>1</td>\n",
              "      <td>0</td>\n",
              "      <td>0</td>\n",
              "      <td>0</td>\n",
              "    </tr>\n",
              "    <tr>\n",
              "      <th>1</th>\n",
              "      <td>1</td>\n",
              "      <td>0</td>\n",
              "      <td>0</td>\n",
              "      <td>0</td>\n",
              "    </tr>\n",
              "    <tr>\n",
              "      <th>2</th>\n",
              "      <td>1</td>\n",
              "      <td>0</td>\n",
              "      <td>0</td>\n",
              "      <td>0</td>\n",
              "    </tr>\n",
              "    <tr>\n",
              "      <th>3</th>\n",
              "      <td>1</td>\n",
              "      <td>0</td>\n",
              "      <td>0</td>\n",
              "      <td>0</td>\n",
              "    </tr>\n",
              "    <tr>\n",
              "      <th>4</th>\n",
              "      <td>1</td>\n",
              "      <td>0</td>\n",
              "      <td>0</td>\n",
              "      <td>0</td>\n",
              "    </tr>\n",
              "    <tr>\n",
              "      <th>...</th>\n",
              "      <td>...</td>\n",
              "      <td>...</td>\n",
              "      <td>...</td>\n",
              "      <td>...</td>\n",
              "    </tr>\n",
              "    <tr>\n",
              "      <th>23995</th>\n",
              "      <td>0</td>\n",
              "      <td>0</td>\n",
              "      <td>0</td>\n",
              "      <td>1</td>\n",
              "    </tr>\n",
              "    <tr>\n",
              "      <th>23996</th>\n",
              "      <td>0</td>\n",
              "      <td>0</td>\n",
              "      <td>0</td>\n",
              "      <td>1</td>\n",
              "    </tr>\n",
              "    <tr>\n",
              "      <th>23997</th>\n",
              "      <td>0</td>\n",
              "      <td>0</td>\n",
              "      <td>0</td>\n",
              "      <td>1</td>\n",
              "    </tr>\n",
              "    <tr>\n",
              "      <th>23998</th>\n",
              "      <td>0</td>\n",
              "      <td>0</td>\n",
              "      <td>0</td>\n",
              "      <td>1</td>\n",
              "    </tr>\n",
              "    <tr>\n",
              "      <th>23999</th>\n",
              "      <td>0</td>\n",
              "      <td>0</td>\n",
              "      <td>0</td>\n",
              "      <td>1</td>\n",
              "    </tr>\n",
              "  </tbody>\n",
              "</table>\n",
              "<p>24000 rows × 4 columns</p>\n",
              "</div>\n",
              "      <button class=\"colab-df-convert\" onclick=\"convertToInteractive('df-f50a39c8-5fb5-42a7-bfca-9fdae74b5426')\"\n",
              "              title=\"Convert this dataframe to an interactive table.\"\n",
              "              style=\"display:none;\">\n",
              "        \n",
              "  <svg xmlns=\"http://www.w3.org/2000/svg\" height=\"24px\"viewBox=\"0 0 24 24\"\n",
              "       width=\"24px\">\n",
              "    <path d=\"M0 0h24v24H0V0z\" fill=\"none\"/>\n",
              "    <path d=\"M18.56 5.44l.94 2.06.94-2.06 2.06-.94-2.06-.94-.94-2.06-.94 2.06-2.06.94zm-11 1L8.5 8.5l.94-2.06 2.06-.94-2.06-.94L8.5 2.5l-.94 2.06-2.06.94zm10 10l.94 2.06.94-2.06 2.06-.94-2.06-.94-.94-2.06-.94 2.06-2.06.94z\"/><path d=\"M17.41 7.96l-1.37-1.37c-.4-.4-.92-.59-1.43-.59-.52 0-1.04.2-1.43.59L10.3 9.45l-7.72 7.72c-.78.78-.78 2.05 0 2.83L4 21.41c.39.39.9.59 1.41.59.51 0 1.02-.2 1.41-.59l7.78-7.78 2.81-2.81c.8-.78.8-2.07 0-2.86zM5.41 20L4 18.59l7.72-7.72 1.47 1.35L5.41 20z\"/>\n",
              "  </svg>\n",
              "      </button>\n",
              "      \n",
              "  <style>\n",
              "    .colab-df-container {\n",
              "      display:flex;\n",
              "      flex-wrap:wrap;\n",
              "      gap: 12px;\n",
              "    }\n",
              "\n",
              "    .colab-df-convert {\n",
              "      background-color: #E8F0FE;\n",
              "      border: none;\n",
              "      border-radius: 50%;\n",
              "      cursor: pointer;\n",
              "      display: none;\n",
              "      fill: #1967D2;\n",
              "      height: 32px;\n",
              "      padding: 0 0 0 0;\n",
              "      width: 32px;\n",
              "    }\n",
              "\n",
              "    .colab-df-convert:hover {\n",
              "      background-color: #E2EBFA;\n",
              "      box-shadow: 0px 1px 2px rgba(60, 64, 67, 0.3), 0px 1px 3px 1px rgba(60, 64, 67, 0.15);\n",
              "      fill: #174EA6;\n",
              "    }\n",
              "\n",
              "    [theme=dark] .colab-df-convert {\n",
              "      background-color: #3B4455;\n",
              "      fill: #D2E3FC;\n",
              "    }\n",
              "\n",
              "    [theme=dark] .colab-df-convert:hover {\n",
              "      background-color: #434B5C;\n",
              "      box-shadow: 0px 1px 3px 1px rgba(0, 0, 0, 0.15);\n",
              "      filter: drop-shadow(0px 1px 2px rgba(0, 0, 0, 0.3));\n",
              "      fill: #FFFFFF;\n",
              "    }\n",
              "  </style>\n",
              "\n",
              "      <script>\n",
              "        const buttonEl =\n",
              "          document.querySelector('#df-f50a39c8-5fb5-42a7-bfca-9fdae74b5426 button.colab-df-convert');\n",
              "        buttonEl.style.display =\n",
              "          google.colab.kernel.accessAllowed ? 'block' : 'none';\n",
              "\n",
              "        async function convertToInteractive(key) {\n",
              "          const element = document.querySelector('#df-f50a39c8-5fb5-42a7-bfca-9fdae74b5426');\n",
              "          const dataTable =\n",
              "            await google.colab.kernel.invokeFunction('convertToInteractive',\n",
              "                                                     [key], {});\n",
              "          if (!dataTable) return;\n",
              "\n",
              "          const docLinkHtml = 'Like what you see? Visit the ' +\n",
              "            '<a target=\"_blank\" href=https://colab.research.google.com/notebooks/data_table.ipynb>data table notebook</a>'\n",
              "            + ' to learn more about interactive tables.';\n",
              "          element.innerHTML = '';\n",
              "          dataTable['output_type'] = 'display_data';\n",
              "          await google.colab.output.renderOutput(dataTable, element);\n",
              "          const docLink = document.createElement('div');\n",
              "          docLink.innerHTML = docLinkHtml;\n",
              "          element.appendChild(docLink);\n",
              "        }\n",
              "      </script>\n",
              "    </div>\n",
              "  </div>\n",
              "  "
            ]
          },
          "metadata": {},
          "execution_count": 21
        }
      ]
    },
    {
      "cell_type": "code",
      "source": [
        "#Dummies variables\n",
        "y_dummies = pnd.get_dummies(Y)\n",
        "y_dummies"
      ],
      "metadata": {
        "colab": {
          "base_uri": "https://localhost:8080/",
          "height": 424
        },
        "id": "IekNZ1oJy7RJ",
        "outputId": "f38327c2-ed51-44f5-de16-08abb0f7317e"
      },
      "execution_count": 28,
      "outputs": [
        {
          "output_type": "execute_result",
          "data": {
            "text/plain": [
              "       Faible  Fort  Moyen  TresFaible\n",
              "0           1     0      0           0\n",
              "1           1     0      0           0\n",
              "2           1     0      0           0\n",
              "3           1     0      0           0\n",
              "4           1     0      0           0\n",
              "...       ...   ...    ...         ...\n",
              "23995       0     0      0           1\n",
              "23996       0     0      0           1\n",
              "23997       0     0      0           1\n",
              "23998       0     0      0           1\n",
              "23999       0     0      0           1\n",
              "\n",
              "[24000 rows x 4 columns]"
            ],
            "text/html": [
              "\n",
              "  <div id=\"df-f0e1d8f1-41a5-4d02-a29f-3c160219755d\">\n",
              "    <div class=\"colab-df-container\">\n",
              "      <div>\n",
              "<style scoped>\n",
              "    .dataframe tbody tr th:only-of-type {\n",
              "        vertical-align: middle;\n",
              "    }\n",
              "\n",
              "    .dataframe tbody tr th {\n",
              "        vertical-align: top;\n",
              "    }\n",
              "\n",
              "    .dataframe thead th {\n",
              "        text-align: right;\n",
              "    }\n",
              "</style>\n",
              "<table border=\"1\" class=\"dataframe\">\n",
              "  <thead>\n",
              "    <tr style=\"text-align: right;\">\n",
              "      <th></th>\n",
              "      <th>Faible</th>\n",
              "      <th>Fort</th>\n",
              "      <th>Moyen</th>\n",
              "      <th>TresFaible</th>\n",
              "    </tr>\n",
              "  </thead>\n",
              "  <tbody>\n",
              "    <tr>\n",
              "      <th>0</th>\n",
              "      <td>1</td>\n",
              "      <td>0</td>\n",
              "      <td>0</td>\n",
              "      <td>0</td>\n",
              "    </tr>\n",
              "    <tr>\n",
              "      <th>1</th>\n",
              "      <td>1</td>\n",
              "      <td>0</td>\n",
              "      <td>0</td>\n",
              "      <td>0</td>\n",
              "    </tr>\n",
              "    <tr>\n",
              "      <th>2</th>\n",
              "      <td>1</td>\n",
              "      <td>0</td>\n",
              "      <td>0</td>\n",
              "      <td>0</td>\n",
              "    </tr>\n",
              "    <tr>\n",
              "      <th>3</th>\n",
              "      <td>1</td>\n",
              "      <td>0</td>\n",
              "      <td>0</td>\n",
              "      <td>0</td>\n",
              "    </tr>\n",
              "    <tr>\n",
              "      <th>4</th>\n",
              "      <td>1</td>\n",
              "      <td>0</td>\n",
              "      <td>0</td>\n",
              "      <td>0</td>\n",
              "    </tr>\n",
              "    <tr>\n",
              "      <th>...</th>\n",
              "      <td>...</td>\n",
              "      <td>...</td>\n",
              "      <td>...</td>\n",
              "      <td>...</td>\n",
              "    </tr>\n",
              "    <tr>\n",
              "      <th>23995</th>\n",
              "      <td>0</td>\n",
              "      <td>0</td>\n",
              "      <td>0</td>\n",
              "      <td>1</td>\n",
              "    </tr>\n",
              "    <tr>\n",
              "      <th>23996</th>\n",
              "      <td>0</td>\n",
              "      <td>0</td>\n",
              "      <td>0</td>\n",
              "      <td>1</td>\n",
              "    </tr>\n",
              "    <tr>\n",
              "      <th>23997</th>\n",
              "      <td>0</td>\n",
              "      <td>0</td>\n",
              "      <td>0</td>\n",
              "      <td>1</td>\n",
              "    </tr>\n",
              "    <tr>\n",
              "      <th>23998</th>\n",
              "      <td>0</td>\n",
              "      <td>0</td>\n",
              "      <td>0</td>\n",
              "      <td>1</td>\n",
              "    </tr>\n",
              "    <tr>\n",
              "      <th>23999</th>\n",
              "      <td>0</td>\n",
              "      <td>0</td>\n",
              "      <td>0</td>\n",
              "      <td>1</td>\n",
              "    </tr>\n",
              "  </tbody>\n",
              "</table>\n",
              "<p>24000 rows × 4 columns</p>\n",
              "</div>\n",
              "      <button class=\"colab-df-convert\" onclick=\"convertToInteractive('df-f0e1d8f1-41a5-4d02-a29f-3c160219755d')\"\n",
              "              title=\"Convert this dataframe to an interactive table.\"\n",
              "              style=\"display:none;\">\n",
              "        \n",
              "  <svg xmlns=\"http://www.w3.org/2000/svg\" height=\"24px\"viewBox=\"0 0 24 24\"\n",
              "       width=\"24px\">\n",
              "    <path d=\"M0 0h24v24H0V0z\" fill=\"none\"/>\n",
              "    <path d=\"M18.56 5.44l.94 2.06.94-2.06 2.06-.94-2.06-.94-.94-2.06-.94 2.06-2.06.94zm-11 1L8.5 8.5l.94-2.06 2.06-.94-2.06-.94L8.5 2.5l-.94 2.06-2.06.94zm10 10l.94 2.06.94-2.06 2.06-.94-2.06-.94-.94-2.06-.94 2.06-2.06.94z\"/><path d=\"M17.41 7.96l-1.37-1.37c-.4-.4-.92-.59-1.43-.59-.52 0-1.04.2-1.43.59L10.3 9.45l-7.72 7.72c-.78.78-.78 2.05 0 2.83L4 21.41c.39.39.9.59 1.41.59.51 0 1.02-.2 1.41-.59l7.78-7.78 2.81-2.81c.8-.78.8-2.07 0-2.86zM5.41 20L4 18.59l7.72-7.72 1.47 1.35L5.41 20z\"/>\n",
              "  </svg>\n",
              "      </button>\n",
              "      \n",
              "  <style>\n",
              "    .colab-df-container {\n",
              "      display:flex;\n",
              "      flex-wrap:wrap;\n",
              "      gap: 12px;\n",
              "    }\n",
              "\n",
              "    .colab-df-convert {\n",
              "      background-color: #E8F0FE;\n",
              "      border: none;\n",
              "      border-radius: 50%;\n",
              "      cursor: pointer;\n",
              "      display: none;\n",
              "      fill: #1967D2;\n",
              "      height: 32px;\n",
              "      padding: 0 0 0 0;\n",
              "      width: 32px;\n",
              "    }\n",
              "\n",
              "    .colab-df-convert:hover {\n",
              "      background-color: #E2EBFA;\n",
              "      box-shadow: 0px 1px 2px rgba(60, 64, 67, 0.3), 0px 1px 3px 1px rgba(60, 64, 67, 0.15);\n",
              "      fill: #174EA6;\n",
              "    }\n",
              "\n",
              "    [theme=dark] .colab-df-convert {\n",
              "      background-color: #3B4455;\n",
              "      fill: #D2E3FC;\n",
              "    }\n",
              "\n",
              "    [theme=dark] .colab-df-convert:hover {\n",
              "      background-color: #434B5C;\n",
              "      box-shadow: 0px 1px 3px 1px rgba(0, 0, 0, 0.15);\n",
              "      filter: drop-shadow(0px 1px 2px rgba(0, 0, 0, 0.3));\n",
              "      fill: #FFFFFF;\n",
              "    }\n",
              "  </style>\n",
              "\n",
              "      <script>\n",
              "        const buttonEl =\n",
              "          document.querySelector('#df-f0e1d8f1-41a5-4d02-a29f-3c160219755d button.colab-df-convert');\n",
              "        buttonEl.style.display =\n",
              "          google.colab.kernel.accessAllowed ? 'block' : 'none';\n",
              "\n",
              "        async function convertToInteractive(key) {\n",
              "          const element = document.querySelector('#df-f0e1d8f1-41a5-4d02-a29f-3c160219755d');\n",
              "          const dataTable =\n",
              "            await google.colab.kernel.invokeFunction('convertToInteractive',\n",
              "                                                     [key], {});\n",
              "          if (!dataTable) return;\n",
              "\n",
              "          const docLinkHtml = 'Like what you see? Visit the ' +\n",
              "            '<a target=\"_blank\" href=https://colab.research.google.com/notebooks/data_table.ipynb>data table notebook</a>'\n",
              "            + ' to learn more about interactive tables.';\n",
              "          element.innerHTML = '';\n",
              "          dataTable['output_type'] = 'display_data';\n",
              "          await google.colab.output.renderOutput(dataTable, element);\n",
              "          const docLink = document.createElement('div');\n",
              "          docLink.innerHTML = docLinkHtml;\n",
              "          element.appendChild(docLink);\n",
              "        }\n",
              "      </script>\n",
              "    </div>\n",
              "  </div>\n",
              "  "
            ]
          },
          "metadata": {},
          "execution_count": 28
        }
      ]
    },
    {
      "cell_type": "code",
      "source": [
        "#On mémorise les catégories encodées (l'ordre peut changer à chaque execution du note book)\n",
        "categories = y_dummies.columns.values\n",
        "print(categories)"
      ],
      "metadata": {
        "colab": {
          "base_uri": "https://localhost:8080/"
        },
        "id": "3UoUf_wQRaCu",
        "outputId": "9120e91b-1a53-486e-a188-0c8a1b3a6bda"
      },
      "execution_count": 26,
      "outputs": [
        {
          "output_type": "stream",
          "name": "stdout",
          "text": [
            "['Faible' 'Fort' 'Moyen' 'TresFaible']\n"
          ]
        }
      ]
    },
    {
      "cell_type": "code",
      "source": [
        "X_train, X_test, y_train, y_test = train_test_split(X_normalise,y_dummies,test_size=0.30,random_state=42)"
      ],
      "metadata": {
        "id": "ukWpmnB172iO"
      },
      "execution_count": 27,
      "outputs": []
    },
    {
      "cell_type": "code",
      "source": [
        "#Creation d'un réseau de neurones\n",
        "from keras.models import Sequential\n",
        "from keras import models, layers\n",
        "import keras\n",
        "\n",
        "keras_model = keras.Sequential()\n",
        "\n",
        "#6 Neurones d'entrées correspondants aux caractéristiques\n",
        "keras_model.add(keras.layers.Input((6,)))\n",
        "\n",
        "#Une couche cachée de 4 neurons avec une fonction d'activation de type Relu\n",
        "keras_model.add(keras.layers.Dense(4, activation='relu', use_bias=True))\n",
        "\n",
        "#Une couche de sortie composée de 4 neurones (1 par catégorie de mot de passe)\n",
        "#Une fonction d'activation de type softmax\n",
        "keras_model.add(keras.layers.Dense(4, activation='softmax'))\n",
        "\n",
        "#Compilation du réseau avec une fonction de perte de type categorical_crossentropy \n",
        "#car nous avons plus de 2 classes\n",
        "#L'optimiseur est une descente de gradient stochastique.\n",
        "keras_model.compile(optimizer=\"sgd\", loss=\"categorical_crossentropy\", metrics=[\"accuracy\"])\n",
        "\n",
        "#Apprentissage\n",
        "historique = keras_model.fit(X_train, y_train,epochs=10, batch_size=2, verbose=1,validation_split=.3)"
      ],
      "metadata": {
        "colab": {
          "base_uri": "https://localhost:8080/"
        },
        "id": "x1AMeoX8wNTH",
        "outputId": "cf4015e7-29e3-4e31-9a0b-d897e878a773"
      },
      "execution_count": 32,
      "outputs": [
        {
          "output_type": "stream",
          "name": "stdout",
          "text": [
            "Epoch 1/10\n",
            "5880/5880 [==============================] - 11s 2ms/step - loss: 1.0380 - accuracy: 0.5410 - val_loss: 0.7131 - val_accuracy: 0.8232\n",
            "Epoch 2/10\n",
            "5880/5880 [==============================] - 16s 3ms/step - loss: 0.5806 - accuracy: 0.8699 - val_loss: 0.4882 - val_accuracy: 0.9121\n",
            "Epoch 3/10\n",
            "5880/5880 [==============================] - 12s 2ms/step - loss: 0.4260 - accuracy: 0.9087 - val_loss: 0.3801 - val_accuracy: 0.9109\n",
            "Epoch 4/10\n",
            "5880/5880 [==============================] - 15s 2ms/step - loss: 0.3470 - accuracy: 0.9211 - val_loss: 0.3237 - val_accuracy: 0.9173\n",
            "Epoch 5/10\n",
            "5880/5880 [==============================] - 15s 3ms/step - loss: 0.3010 - accuracy: 0.9242 - val_loss: 0.2881 - val_accuracy: 0.9224\n",
            "Epoch 6/10\n",
            "5880/5880 [==============================] - 10s 2ms/step - loss: 0.2714 - accuracy: 0.9271 - val_loss: 0.2693 - val_accuracy: 0.9220\n",
            "Epoch 7/10\n",
            "5880/5880 [==============================] - 10s 2ms/step - loss: 0.2498 - accuracy: 0.9291 - val_loss: 0.2476 - val_accuracy: 0.9240\n",
            "Epoch 8/10\n",
            "5880/5880 [==============================] - 10s 2ms/step - loss: 0.2355 - accuracy: 0.9296 - val_loss: 0.2328 - val_accuracy: 0.9248\n",
            "Epoch 9/10\n",
            "5880/5880 [==============================] - 10s 2ms/step - loss: 0.2234 - accuracy: 0.9316 - val_loss: 0.2221 - val_accuracy: 0.9296\n",
            "Epoch 10/10\n",
            "5880/5880 [==============================] - 10s 2ms/step - loss: 0.2143 - accuracy: 0.9335 - val_loss: 0.2145 - val_accuracy: 0.9341\n"
          ]
        }
      ]
    },
    {
      "cell_type": "code",
      "source": [
        "#En fonction du jeu de données il se peut que l'on rencontre un sur-apprentissage.\n",
        "#Il convient donc\n",
        "# - D'executer l'apprentissage plusieurs fois\n",
        "# - D'adapter le nombre d'epoque / architecture le cas échéant.\n",
        "\n",
        "import matplotlib.pyplot as plt\n",
        "import numpy as np\n",
        "plt.plot(np.arange(1, 11), historique.history[\"val_loss\"], label=\"ERREURS_VALIDATION\")\n",
        "plt.plot(np.arange(1, 11), historique.history[\"loss\"], label=\"ERREURS_APPRENTISSAGE\")\n",
        "plt.legend()\n",
        "plt.show()"
      ],
      "metadata": {
        "colab": {
          "base_uri": "https://localhost:8080/",
          "height": 265
        },
        "id": "Ywx-CHJXzvM4",
        "outputId": "d1d3cf3a-0dc9-4e83-bfd8-6a0a361559fe"
      },
      "execution_count": 33,
      "outputs": [
        {
          "output_type": "display_data",
          "data": {
            "text/plain": [
              "<Figure size 432x288 with 1 Axes>"
            ],
            "image/png": "[encoded data removed]"
          },
          "metadata": {
            "needs_background": "light"
          }
        }
      ]
    },
    {
      "cell_type": "code",
      "source": [
        "\n",
        "predictions = keras_model.predict(X_test)\n",
        "\n",
        "#Conversion des predictions en 1/0 pour effectuer le F1 Score\n",
        "for i in range (0,len(predictions)):\n",
        "  prediction = predictions[i]\n",
        "  valMax = np.max(prediction)\n",
        "  for j in range(0,len(prediction)):\n",
        "    if(prediction[j]==valMax):\n",
        "      prediction[j]=1\n",
        "    else:\n",
        "      prediction[j]=0\n",
        "  predictions[i] = prediction\n",
        "\n"
      ],
      "metadata": {
        "colab": {
          "base_uri": "https://localhost:8080/"
        },
        "id": "ZTU7LGwg-U2n",
        "outputId": "0829aae0-96fb-4b5c-d967-776877af3376"
      },
      "execution_count": 34,
      "outputs": [
        {
          "output_type": "stream",
          "name": "stdout",
          "text": [
            "[[1. 0. 0. 0.]\n",
            " [0. 0. 0. 1.]\n",
            " [0. 0. 1. 0.]\n",
            " ...\n",
            " [0. 0. 0. 1.]\n",
            " [0. 1. 0. 0.]\n",
            " [1. 0. 0. 0.]]\n",
            "       Faible  Fort  Moyen  TresFaible\n",
            "3111        1     0      0           0\n",
            "18679       0     0      0           1\n",
            "17472       0     0      1           0\n",
            "21451       0     0      0           1\n",
            "20800       0     0      0           1\n",
            "...       ...   ...    ...         ...\n",
            "18801       0     0      0           1\n",
            "542         1     0      0           0\n",
            "22332       0     0      0           1\n",
            "7958        0     1      0           0\n",
            "5176        1     0      0           0\n",
            "\n",
            "[7200 rows x 4 columns]\n"
          ]
        }
      ]
    },
    {
      "cell_type": "code",
      "source": [
        "f1_score(y_test, predictions, average='macro')"
      ],
      "metadata": {
        "colab": {
          "base_uri": "https://localhost:8080/"
        },
        "id": "T3RtMBuUCDVK",
        "outputId": "9784079b-8439-417a-b59a-58a500ba90db"
      },
      "execution_count": null,
      "outputs": [
        {
          "output_type": "execute_result",
          "data": {
            "text/plain": [
              "0.9427843656196556"
            ]
          },
          "metadata": {},
          "execution_count": 103
        }
      ]
    },
    {
      "cell_type": "code",
      "source": [
        "#Sauvegarde des datasets\n",
        "X_train.to_csv(\"XTrainRN.csv\",index=False)\n",
        "y_train.to_csv(\"YTrainRN.csv\",index=False)\n",
        "X_test.to_csv(\"XTestRN.csv\",index=False)\n",
        "y_test.to_csv(\"YTestRN.csv\",index=False)"
      ],
      "metadata": {
        "id": "SkxAvBQ3ThFs"
      },
      "execution_count": 36,
      "outputs": []
    },
    {
      "cell_type": "code",
      "source": [
        "#Sauvegarde du modele\n",
        "keras_model.save(\"reseau_neurones.h5\")"
      ],
      "metadata": {
        "id": "piL48xrnUbc-"
      },
      "execution_count": 44,
      "outputs": []
    },
    {
      "cell_type": "code",
      "source": [
        "#Sauvegarde de l'outil de normalisation\n",
        "from pickle import dump\n",
        "dump(outilNormalisation, open('outilNormalisation.pkl', 'wb'))"
      ],
      "metadata": {
        "id": "T4nYiUwvUoyl"
      },
      "execution_count": 45,
      "outputs": []
    },
    {
      "cell_type": "code",
      "source": [
        "#Sauvegarde de l'ordre des categories de l'encodage\n",
        "df_cat = pnd.DataFrame(categories)\n",
        "df_cat.head()\n",
        "df_cat.to_csv(\"ordre_categories.csv\",index=False)"
      ],
      "metadata": {
        "id": "q6fM6ir6XJTx"
      },
      "execution_count": 58,
      "outputs": []
    },
    {
      "cell_type": "markdown",
      "source": [
        "## Utilisation des modèles"
      ],
      "metadata": {
        "id": "taMFymedCKzm"
      }
    },
    {
      "cell_type": "code",
      "source": [
        "#Mots de passes\n",
        "mdp_tresfaible = \"ECAB2E0B85\"\n",
        "mdp_faible = \"B.ytosvmhw\"\n",
        "mdp_moyen = \"7u8kq7OIhGUjLVJx\"\n",
        "mdp_fort = \"u1xc=;£uls16U}$f?2%Tw;W9U26Y<B\"\n",
        "\n",
        "listeMDP = [[mdp_tresfaible,\"TresFaible\"],[mdp_faible,\"Faible\"],[mdp_moyen,\"Moyen\"],[mdp_fort,\"Fort\"]]\n"
      ],
      "metadata": {
        "id": "rVkdBxs8CObX"
      },
      "execution_count": 69,
      "outputs": []
    },
    {
      "cell_type": "code",
      "source": [
        "def preparerMotDePasse(mdp):\n",
        "  chiffres = [0,1,2,3,4,5,6,7,8,9]\n",
        "  lettresMAJ = [\"A\",\"B\",\"C\",\"D\",\"E\",\"F\",\"G\",\"H\",\"I\",\"J\",\"K\",\"L\",\"M\",\"N\",\"O\",\"P\",\"Q\",\"R\",\"S\",\"T\",\"U\",\"V\",\"W\",\"X\",\"Y\",\"Z\"]\n",
        "  lettresMIN = [\"a\",\"b\",\"c\",\"s\",\"e\",\"f\",\"g\",\"h\",\"i\",\"j\",\"k\",\"l\",\"m\",\"n\",\"o\",\"p\",\"q\",\"r\",\"s\",\"t\",\"u\",\"v\",\"w\",\"x\",\"y\",\"z\"]\n",
        "  symboles1 = [\"!\",\"#\",\"$\",\"%\",\"?\",\"*\",\"_\",\";\"]\n",
        "  symboles2 = [\"&\",\"{\",\"(\",\"-\",\"@\",\")\",\"=\",\"}\",\"]\",\"/\",\"|\",\"[\",\"§\",\"µ\",\".\",\";\",\"<\",\">\",\"£\",\"+\"]\n",
        "\n",
        "  nbMin = 0\n",
        "  nbMaj =0\n",
        "  nbChiffres = 0\n",
        "  nbSymboles_1 =0\n",
        "  nbSymboles_2 = 0\n",
        "  for l in mdp:\n",
        "    if l in lettresMIN:\n",
        "      nbMin+=1\n",
        "    if l in lettresMAJ:\n",
        "      nbMaj+=1\n",
        "    if l in str(chiffres):\n",
        "      nbChiffres+=1\n",
        "    if l in symboles1:\n",
        "      nbSymboles_1+=1\n",
        "    if l in symboles2:\n",
        "      nbSymboles_2+=1\n",
        "\n",
        "  longueur = len(mdp)\n",
        "  return [nbMin,nbMaj,nbChiffres,nbSymboles_1,nbSymboles_2,longueur]\n",
        "\n"
      ],
      "metadata": {
        "id": "4oJqJwAEDcPn"
      },
      "execution_count": 39,
      "outputs": []
    },
    {
      "cell_type": "markdown",
      "source": [
        "### Arbre de décision"
      ],
      "metadata": {
        "id": "Eh3rBO3VEQ71"
      }
    },
    {
      "cell_type": "code",
      "source": [
        "#Chargement du modèle\n",
        "arbreDecision = pickle.load(open(\"arbreDecision.sav\", 'rb'))"
      ],
      "metadata": {
        "id": "VKejXZnsWBeT"
      },
      "execution_count": 85,
      "outputs": []
    },
    {
      "cell_type": "code",
      "source": [
        "#Predictions\n",
        "import warnings\n",
        "warnings.filterwarnings(\"ignore\")\n",
        "from prettytable import PrettyTable\n",
        "resultats = PrettyTable()\n",
        "\n",
        "resultats.field_names = [\"MDP\", \"Attendu\", \"Predit\"]\n",
        "\n",
        "for mdp in listeMDP:\n",
        "  preparation = preparerMotDePasse(mdp[0])\n",
        "  classification = arbreDecision.predict(np.array(preparation).reshape(1,-1))\n",
        "  resultats.add_row([mdp[0], mdp[1],classification[0]])\n",
        "\n",
        "print(resultats)"
      ],
      "metadata": {
        "colab": {
          "base_uri": "https://localhost:8080/"
        },
        "id": "tKSJRHKOEixl",
        "outputId": "650d573a-10e4-4791-dc53-4d0f045703df"
      },
      "execution_count": 91,
      "outputs": [
        {
          "output_type": "stream",
          "name": "stdout",
          "text": [
            "+--------------------------------+------------+------------+\n",
            "|              MDP               |  Attendu   |   Predit   |\n",
            "+--------------------------------+------------+------------+\n",
            "|           ECAB2E0B85           | TresFaible | TresFaible |\n",
            "|           B.ytosvmhw           |   Faible   |   Faible   |\n",
            "|        7u8kq7OIhGUjLVJx        |   Moyen    |   Moyen    |\n",
            "| u1xc=;£uls16U}$f?2%Tw;W9U26Y<B |    Fort    |    Fort    |\n",
            "+--------------------------------+------------+------------+\n"
          ]
        }
      ]
    },
    {
      "cell_type": "markdown",
      "source": [
        "### Random Forest"
      ],
      "metadata": {
        "id": "mF_nYGvXES7b"
      }
    },
    {
      "cell_type": "code",
      "source": [
        "#Chargement du modèle\n",
        "randomForest = pickle.load(open(\"randomForest.sav\", 'rb'))"
      ],
      "metadata": {
        "id": "L0D60xoScYm2"
      },
      "execution_count": 87,
      "outputs": []
    },
    {
      "cell_type": "code",
      "source": [
        "#Predictions\n",
        "import warnings\n",
        "warnings.filterwarnings(\"ignore\")\n",
        "from prettytable import PrettyTable\n",
        "resultats = PrettyTable()\n",
        "\n",
        "resultats.field_names = [\"MDP\", \"Attendu\", \"Predit\"]\n",
        "\n",
        "for mdp in listeMDP:\n",
        "  preparation = preparerMotDePasse(mdp[0])\n",
        "  classification = randomForest.predict(np.array(preparation).reshape(1,-1))\n",
        "  resultats.add_row([mdp[0], mdp[1],classification[0]])\n",
        "\n",
        "print(resultats)\n"
      ],
      "metadata": {
        "colab": {
          "base_uri": "https://localhost:8080/"
        },
        "id": "kmGXaTIPFUM1",
        "outputId": "8720af2b-36eb-410c-eb7a-ee7fe65f15cd"
      },
      "execution_count": 92,
      "outputs": [
        {
          "output_type": "stream",
          "name": "stdout",
          "text": [
            "+--------------------------------+------------+------------+\n",
            "|              MDP               |  Attendu   |   Predit   |\n",
            "+--------------------------------+------------+------------+\n",
            "|           ECAB2E0B85           | TresFaible | TresFaible |\n",
            "|           B.ytosvmhw           |   Faible   |   Faible   |\n",
            "|        7u8kq7OIhGUjLVJx        |   Moyen    |   Moyen    |\n",
            "| u1xc=;£uls16U}$f?2%Tw;W9U26Y<B |    Fort    |    Fort    |\n",
            "+--------------------------------+------------+------------+\n"
          ]
        }
      ]
    },
    {
      "cell_type": "markdown",
      "source": [
        "### Réseau de neurones"
      ],
      "metadata": {
        "id": "ZpU6WzsPEUi6"
      }
    },
    {
      "cell_type": "code",
      "source": [
        "#Chargement de l'outil de normalisation\n",
        "from pickle import load\n",
        "outilNormalisation = load(open('outilNormalisation.pkl', 'rb'))"
      ],
      "metadata": {
        "id": "tPSwCdEHWCei"
      },
      "execution_count": 46,
      "outputs": []
    },
    {
      "cell_type": "code",
      "source": [
        "#Chargement du modèle\n",
        "from tensorflow import keras\n",
        "model = keras.models.load_model('reseau.md5')"
      ],
      "metadata": {
        "id": "lfMbLXqtWQcc"
      },
      "execution_count": 51,
      "outputs": []
    },
    {
      "cell_type": "code",
      "source": [
        "#Chargement de l'ordre des categories telles qu'elles ont été encodées\n",
        "#(Cet ordre dépend de l'ordre des données d'apprentissage)\n",
        "cat = pnd.read_csv(\"ordre_categories.csv\")\n",
        "cat.head()\n",
        "categories = []\n",
        "for index, row in cat.iterrows():\n",
        "  categories.append(row[0])\n"
      ],
      "metadata": {
        "id": "hFLiDqWuXtv_"
      },
      "execution_count": 63,
      "outputs": []
    },
    {
      "cell_type": "code",
      "source": [
        "#Predictions\n",
        "import warnings\n",
        "warnings.filterwarnings(\"ignore\")\n",
        "from prettytable import PrettyTable\n",
        "resultats = PrettyTable()\n",
        "\n",
        "resultats.field_names = [\"MDP\", \"Attendu\", \"Predit\"]\n",
        "\n",
        "for mdp in listeMDP:\n",
        "  preparation = preparerMotDePasse(mdp[0])\n",
        "  normalisation = outilNormalisation.transform(np.array(preparation).reshape(1,-1))\n",
        "  classification = model.predict(normalisation.reshape(1,-1))\n",
        "  resultats.add_row([mdp[0], mdp[1],categories[np.argmax(classification)]])\n",
        "\n",
        "print(resultats)\n"
      ],
      "metadata": {
        "colab": {
          "base_uri": "https://localhost:8080/"
        },
        "id": "qvWagnk4z8y5",
        "outputId": "ed1a52ed-91cd-4781-9fc8-1168d5fd3a7c"
      },
      "execution_count": 72,
      "outputs": [
        {
          "output_type": "stream",
          "name": "stdout",
          "text": [
            "+--------------------------------+------------+------------+\n",
            "|              MDP               |  Attendu   |   Predit   |\n",
            "+--------------------------------+------------+------------+\n",
            "|           ECAB2E0B85           | TresFaible | TresFaible |\n",
            "|           B.ytosvmhw           |   Faible   |   Faible   |\n",
            "|        7u8kq7OIhGUjLVJx        |   Moyen    |   Moyen    |\n",
            "| u1xc=;£uls16U}$f?2%Tw;W9U26Y<B |    Fort    |    Fort    |\n",
            "+--------------------------------+------------+------------+\n"
          ]
        }
      ]
    }
  ]
}