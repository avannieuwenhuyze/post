{
  "nbformat": 4,
  "nbformat_minor": 0,
  "metadata": {
    "colab": {
      "name": "monkeypox_(variole_du_singe)_modeling.ipynb",
      "provenance": [],
      "collapsed_sections": [
        "Fl9aWt2Hk3ST"
      ]
    },
    "kernelspec": {
      "name": "python3",
      "display_name": "Python 3"
    },
    "language_info": {
      "name": "python"
    },
    "widgets": {
      "application/vnd.jupyter.widget-state+json": {
        "c95b38d03cf4484aaa315f6c981859f8": {
          "model_module": "@jupyter-widgets/controls",
          "model_name": "VBoxModel",
          "model_module_version": "1.5.0",
          "state": {
            "_dom_classes": [
              "widget-interact"
            ],
            "_model_module": "@jupyter-widgets/controls",
            "_model_module_version": "1.5.0",
            "_model_name": "VBoxModel",
            "_view_count": null,
            "_view_module": "@jupyter-widgets/controls",
            "_view_module_version": "1.5.0",
            "_view_name": "VBoxView",
            "box_style": "",
            "children": [
              "IPY_MODEL_46ec6b16ba6c484a95d10d5a41f32ae0",
              "IPY_MODEL_a8c0f1ecf58e470b956aedc912a0f0e7"
            ],
            "layout": "IPY_MODEL_8645012a436f49a6802509b334a3c4a5"
          }
        },
        "46ec6b16ba6c484a95d10d5a41f32ae0": {
          "model_module": "@jupyter-widgets/controls",
          "model_name": "IntSliderModel",
          "model_module_version": "1.5.0",
          "state": {
            "_dom_classes": [],
            "_model_module": "@jupyter-widgets/controls",
            "_model_module_version": "1.5.0",
            "_model_name": "IntSliderModel",
            "_view_count": null,
            "_view_module": "@jupyter-widgets/controls",
            "_view_module_version": "1.5.0",
            "_view_name": "IntSliderView",
            "continuous_update": true,
            "description": "day",
            "description_tooltip": null,
            "disabled": false,
            "layout": "IPY_MODEL_7770224644704a3d95bde7aaed14789c",
            "max": 100,
            "min": 1,
            "orientation": "horizontal",
            "readout": true,
            "readout_format": "d",
            "step": 1,
            "style": "IPY_MODEL_09cc7df03a55475f8c3f269ff8a824ce",
            "value": 1
          }
        },
        "a8c0f1ecf58e470b956aedc912a0f0e7": {
          "model_module": "@jupyter-widgets/output",
          "model_name": "OutputModel",
          "model_module_version": "1.0.0",
          "state": {
            "_dom_classes": [],
            "_model_module": "@jupyter-widgets/output",
            "_model_module_version": "1.0.0",
            "_model_name": "OutputModel",
            "_view_count": null,
            "_view_module": "@jupyter-widgets/output",
            "_view_module_version": "1.0.0",
            "_view_name": "OutputView",
            "layout": "IPY_MODEL_d5b9e75e33a24316bf98086e41a4a0a8",
            "msg_id": "",
            "outputs": [
              {
                "output_type": "stream",
                "name": "stdout",
                "text": [
                  "S (number)= 21.0\n",
                  "I (number)= 49.0\n",
                  "R (number)= 30.000000000000004\n"
                ]
              },
              {
                "output_type": "display_data",
                "data": {
                  "text/plain": "<Figure size 720x720 with 1 Axes>",
                  "image/png": "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\n"
                },
                "metadata": {
                  "needs_background": "light"
                }
              }
            ]
          }
        },
        "8645012a436f49a6802509b334a3c4a5": {
          "model_module": "@jupyter-widgets/base",
          "model_name": "LayoutModel",
          "model_module_version": "1.2.0",
          "state": {
            "_model_module": "@jupyter-widgets/base",
            "_model_module_version": "1.2.0",
            "_model_name": "LayoutModel",
            "_view_count": null,
            "_view_module": "@jupyter-widgets/base",
            "_view_module_version": "1.2.0",
            "_view_name": "LayoutView",
            "align_content": null,
            "align_items": null,
            "align_self": null,
            "border": null,
            "bottom": null,
            "display": null,
            "flex": null,
            "flex_flow": null,
            "grid_area": null,
            "grid_auto_columns": null,
            "grid_auto_flow": null,
            "grid_auto_rows": null,
            "grid_column": null,
            "grid_gap": null,
            "grid_row": null,
            "grid_template_areas": null,
            "grid_template_columns": null,
            "grid_template_rows": null,
            "height": null,
            "justify_content": null,
            "justify_items": null,
            "left": null,
            "margin": null,
            "max_height": null,
            "max_width": null,
            "min_height": null,
            "min_width": null,
            "object_fit": null,
            "object_position": null,
            "order": null,
            "overflow": null,
            "overflow_x": null,
            "overflow_y": null,
            "padding": null,
            "right": null,
            "top": null,
            "visibility": null,
            "width": null
          }
        },
        "7770224644704a3d95bde7aaed14789c": {
          "model_module": "@jupyter-widgets/base",
          "model_name": "LayoutModel",
          "model_module_version": "1.2.0",
          "state": {
            "_model_module": "@jupyter-widgets/base",
            "_model_module_version": "1.2.0",
            "_model_name": "LayoutModel",
            "_view_count": null,
            "_view_module": "@jupyter-widgets/base",
            "_view_module_version": "1.2.0",
            "_view_name": "LayoutView",
            "align_content": null,
            "align_items": null,
            "align_self": null,
            "border": null,
            "bottom": null,
            "display": null,
            "flex": null,
            "flex_flow": null,
            "grid_area": null,
            "grid_auto_columns": null,
            "grid_auto_flow": null,
            "grid_auto_rows": null,
            "grid_column": null,
            "grid_gap": null,
            "grid_row": null,
            "grid_template_areas": null,
            "grid_template_columns": null,
            "grid_template_rows": null,
            "height": null,
            "justify_content": null,
            "justify_items": null,
            "left": null,
            "margin": null,
            "max_height": null,
            "max_width": null,
            "min_height": null,
            "min_width": null,
            "object_fit": null,
            "object_position": null,
            "order": null,
            "overflow": null,
            "overflow_x": null,
            "overflow_y": null,
            "padding": null,
            "right": null,
            "top": null,
            "visibility": null,
            "width": null
          }
        },
        "09cc7df03a55475f8c3f269ff8a824ce": {
          "model_module": "@jupyter-widgets/controls",
          "model_name": "SliderStyleModel",
          "model_module_version": "1.5.0",
          "state": {
            "_model_module": "@jupyter-widgets/controls",
            "_model_module_version": "1.5.0",
            "_model_name": "SliderStyleModel",
            "_view_count": null,
            "_view_module": "@jupyter-widgets/base",
            "_view_module_version": "1.2.0",
            "_view_name": "StyleView",
            "description_width": "",
            "handle_color": null
          }
        },
        "d5b9e75e33a24316bf98086e41a4a0a8": {
          "model_module": "@jupyter-widgets/base",
          "model_name": "LayoutModel",
          "model_module_version": "1.2.0",
          "state": {
            "_model_module": "@jupyter-widgets/base",
            "_model_module_version": "1.2.0",
            "_model_name": "LayoutModel",
            "_view_count": null,
            "_view_module": "@jupyter-widgets/base",
            "_view_module_version": "1.2.0",
            "_view_name": "LayoutView",
            "align_content": null,
            "align_items": null,
            "align_self": null,
            "border": null,
            "bottom": null,
            "display": null,
            "flex": null,
            "flex_flow": null,
            "grid_area": null,
            "grid_auto_columns": null,
            "grid_auto_flow": null,
            "grid_auto_rows": null,
            "grid_column": null,
            "grid_gap": null,
            "grid_row": null,
            "grid_template_areas": null,
            "grid_template_columns": null,
            "grid_template_rows": null,
            "height": null,
            "justify_content": null,
            "justify_items": null,
            "left": null,
            "margin": null,
            "max_height": null,
            "max_width": null,
            "min_height": null,
            "min_width": null,
            "object_fit": null,
            "object_position": null,
            "order": null,
            "overflow": null,
            "overflow_x": null,
            "overflow_y": null,
            "padding": null,
            "right": null,
            "top": null,
            "visibility": null,
            "width": null
          }
        },
        "0f1c74e09483400493658261fd8899ba": {
          "model_module": "@jupyter-widgets/controls",
          "model_name": "VBoxModel",
          "model_module_version": "1.5.0",
          "state": {
            "_dom_classes": [
              "widget-interact"
            ],
            "_model_module": "@jupyter-widgets/controls",
            "_model_module_version": "1.5.0",
            "_model_name": "VBoxModel",
            "_view_count": null,
            "_view_module": "@jupyter-widgets/controls",
            "_view_module_version": "1.5.0",
            "_view_name": "VBoxView",
            "box_style": "",
            "children": [
              "IPY_MODEL_b7ccd21fd1ee46e7a8b7395dc6c3d468",
              "IPY_MODEL_169b4aac9c45437a8afe64b66c37a5a0",
              "IPY_MODEL_91b2f29da774414a9c73dc1ede177bd2",
              "IPY_MODEL_c3d84f9b67d943d996264fdac9b30a19",
              "IPY_MODEL_16dcb726fc984f5c8c30a99616f33ced",
              "IPY_MODEL_92fa122c48c541839f2d7db4506265f8",
              "IPY_MODEL_c197eaf1d50343718b16cb4079bd0fb0",
              "IPY_MODEL_abd92b1f920e43889d3c51cacd9cd0a6",
              "IPY_MODEL_91ad2122b2b048c3951061d6da0c9125",
              "IPY_MODEL_d809850d0468470ebf33a05eaaedaaa3",
              "IPY_MODEL_dd3442e6e7944e05adbe3518ea38cbd1",
              "IPY_MODEL_de57af523ef84e05994d3aa7466ae215",
              "IPY_MODEL_bcf6a5eb5b864aec9e65237f79fafa0f",
              "IPY_MODEL_124c7f1a91404153bf8c78eef5f0eb87",
              "IPY_MODEL_9418611ead8f43f2b62c75755446f680",
              "IPY_MODEL_11b5afed31b045c28ebb8948336af7da",
              "IPY_MODEL_4aa05ecff3ce4c4aa65f52b725fb7cc1"
            ],
            "layout": "IPY_MODEL_7ce6af5c25b54a0dabeaedd59769a479"
          }
        },
        "b7ccd21fd1ee46e7a8b7395dc6c3d468": {
          "model_module": "@jupyter-widgets/controls",
          "model_name": "FloatSliderModel",
          "model_module_version": "1.5.0",
          "state": {
            "_dom_classes": [],
            "_model_module": "@jupyter-widgets/controls",
            "_model_module_version": "1.5.0",
            "_model_name": "FloatSliderModel",
            "_view_count": null,
            "_view_module": "@jupyter-widgets/controls",
            "_view_module_version": "1.5.0",
            "_view_name": "FloatSliderView",
            "continuous_update": true,
            "description": "Lambda_n",
            "description_tooltip": null,
            "disabled": false,
            "layout": "IPY_MODEL_5ebbf814389643c581d530f8c6cdd813",
            "max": 1,
            "min": 0,
            "orientation": "horizontal",
            "readout": true,
            "readout_format": ".2f",
            "step": 0.05,
            "style": "IPY_MODEL_122e8182fdee4ca9912ae4076ece6aaf",
            "value": 0.2
          }
        },
        "169b4aac9c45437a8afe64b66c37a5a0": {
          "model_module": "@jupyter-widgets/controls",
          "model_name": "FloatSliderModel",
          "model_module_version": "1.5.0",
          "state": {
            "_dom_classes": [],
            "_model_module": "@jupyter-widgets/controls",
            "_model_module_version": "1.5.0",
            "_model_name": "FloatSliderModel",
            "_view_count": null,
            "_view_module": "@jupyter-widgets/controls",
            "_view_module_version": "1.5.0",
            "_view_name": "FloatSliderView",
            "continuous_update": true,
            "description": "mu_n",
            "description_tooltip": null,
            "disabled": false,
            "layout": "IPY_MODEL_3e0130fddd7d407ca197915903c70b4b",
            "max": 1,
            "min": 0,
            "orientation": "horizontal",
            "readout": true,
            "readout_format": ".2f",
            "step": 0.05,
            "style": "IPY_MODEL_1583cd9214d44f149853eb579fa792de",
            "value": 0.1
          }
        },
        "91b2f29da774414a9c73dc1ede177bd2": {
          "model_module": "@jupyter-widgets/controls",
          "model_name": "FloatSliderModel",
          "model_module_version": "1.5.0",
          "state": {
            "_dom_classes": [],
            "_model_module": "@jupyter-widgets/controls",
            "_model_module_version": "1.5.0",
            "_model_name": "FloatSliderModel",
            "_view_count": null,
            "_view_module": "@jupyter-widgets/controls",
            "_view_module_version": "1.5.0",
            "_view_name": "FloatSliderView",
            "continuous_update": true,
            "description": "d_n",
            "description_tooltip": null,
            "disabled": false,
            "layout": "IPY_MODEL_cd4e4bf1adfa49d5a3784cad32bc42c2",
            "max": 1,
            "min": 0,
            "orientation": "horizontal",
            "readout": true,
            "readout_format": ".2f",
            "step": 0.05,
            "style": "IPY_MODEL_8db42054d8624af0a79f6d873253c597",
            "value": 0.2
          }
        },
        "c3d84f9b67d943d996264fdac9b30a19": {
          "model_module": "@jupyter-widgets/controls",
          "model_name": "FloatSliderModel",
          "model_module_version": "1.5.0",
          "state": {
            "_dom_classes": [],
            "_model_module": "@jupyter-widgets/controls",
            "_model_module_version": "1.5.0",
            "_model_name": "FloatSliderModel",
            "_view_count": null,
            "_view_module": "@jupyter-widgets/controls",
            "_view_module_version": "1.5.0",
            "_view_name": "FloatSliderView",
            "continuous_update": true,
            "description": "rho_n",
            "description_tooltip": null,
            "disabled": false,
            "layout": "IPY_MODEL_82117ba6e48a4b2ab8a3117c8536966a",
            "max": 1,
            "min": 0,
            "orientation": "horizontal",
            "readout": true,
            "readout_format": ".2f",
            "step": 0.05,
            "style": "IPY_MODEL_3a4e2ef66ca7498a98ff9446ab01cfc4",
            "value": 0
          }
        },
        "16dcb726fc984f5c8c30a99616f33ced": {
          "model_module": "@jupyter-widgets/controls",
          "model_name": "FloatSliderModel",
          "model_module_version": "1.5.0",
          "state": {
            "_dom_classes": [],
            "_model_module": "@jupyter-widgets/controls",
            "_model_module_version": "1.5.0",
            "_model_name": "FloatSliderModel",
            "_view_count": null,
            "_view_module": "@jupyter-widgets/controls",
            "_view_module_version": "1.5.0",
            "_view_name": "FloatSliderView",
            "continuous_update": true,
            "description": "v_n",
            "description_tooltip": null,
            "disabled": false,
            "layout": "IPY_MODEL_d06e1642e0aa4842b2f2b07b2710e295",
            "max": 1,
            "min": 0,
            "orientation": "horizontal",
            "readout": true,
            "readout_format": ".2f",
            "step": 0.05,
            "style": "IPY_MODEL_103eb01e6b064f1d81c7a12d785bb8a1",
            "value": 1
          }
        },
        "92fa122c48c541839f2d7db4506265f8": {
          "model_module": "@jupyter-widgets/controls",
          "model_name": "FloatSliderModel",
          "model_module_version": "1.5.0",
          "state": {
            "_dom_classes": [],
            "_model_module": "@jupyter-widgets/controls",
            "_model_module_version": "1.5.0",
            "_model_name": "FloatSliderModel",
            "_view_count": null,
            "_view_module": "@jupyter-widgets/controls",
            "_view_module_version": "1.5.0",
            "_view_name": "FloatSliderView",
            "continuous_update": true,
            "description": "beta_n1",
            "description_tooltip": null,
            "disabled": false,
            "layout": "IPY_MODEL_3421f5b694e4491ea56b33b1af681b70",
            "max": 1,
            "min": 0,
            "orientation": "horizontal",
            "readout": true,
            "readout_format": ".2f",
            "step": 0.05,
            "style": "IPY_MODEL_a9cd8ed511e94c0c9ba2899882724451",
            "value": 0.6
          }
        },
        "c197eaf1d50343718b16cb4079bd0fb0": {
          "model_module": "@jupyter-widgets/controls",
          "model_name": "IntSliderModel",
          "model_module_version": "1.5.0",
          "state": {
            "_dom_classes": [],
            "_model_module": "@jupyter-widgets/controls",
            "_model_module_version": "1.5.0",
            "_model_name": "IntSliderModel",
            "_view_count": null,
            "_view_module": "@jupyter-widgets/controls",
            "_view_module_version": "1.5.0",
            "_view_name": "IntSliderView",
            "continuous_update": true,
            "description": "N_n",
            "description_tooltip": null,
            "disabled": false,
            "layout": "IPY_MODEL_f377361b7c404dbc8c4eb8361604d5ab",
            "max": 1500,
            "min": -500,
            "orientation": "horizontal",
            "readout": true,
            "readout_format": "d",
            "step": 1,
            "style": "IPY_MODEL_2b2b4d44d7804bca81c279794b134d49",
            "value": 500
          }
        },
        "abd92b1f920e43889d3c51cacd9cd0a6": {
          "model_module": "@jupyter-widgets/controls",
          "model_name": "FloatSliderModel",
          "model_module_version": "1.5.0",
          "state": {
            "_dom_classes": [],
            "_model_module": "@jupyter-widgets/controls",
            "_model_module_version": "1.5.0",
            "_model_name": "FloatSliderModel",
            "_view_count": null,
            "_view_module": "@jupyter-widgets/controls",
            "_view_module_version": "1.5.0",
            "_view_name": "FloatSliderView",
            "continuous_update": true,
            "description": "Lambda_h",
            "description_tooltip": null,
            "disabled": false,
            "layout": "IPY_MODEL_fffcb3ed01f94f37aa263301089fa986",
            "max": 1,
            "min": 0,
            "orientation": "horizontal",
            "readout": true,
            "readout_format": ".2f",
            "step": 0.05,
            "style": "IPY_MODEL_1997472fd391477c9b1b29271a8f0d72",
            "value": 0.03
          }
        },
        "91ad2122b2b048c3951061d6da0c9125": {
          "model_module": "@jupyter-widgets/controls",
          "model_name": "FloatSliderModel",
          "model_module_version": "1.5.0",
          "state": {
            "_dom_classes": [],
            "_model_module": "@jupyter-widgets/controls",
            "_model_module_version": "1.5.0",
            "_model_name": "FloatSliderModel",
            "_view_count": null,
            "_view_module": "@jupyter-widgets/controls",
            "_view_module_version": "1.5.0",
            "_view_name": "FloatSliderView",
            "continuous_update": true,
            "description": "mu_h",
            "description_tooltip": null,
            "disabled": false,
            "layout": "IPY_MODEL_a8da4db1148d46b3a96c064856252e6a",
            "max": 1,
            "min": 0,
            "orientation": "horizontal",
            "readout": true,
            "readout_format": ".2f",
            "step": 0.05,
            "style": "IPY_MODEL_0cbb9a4c67ce41cdbd2e85bdda3ea33b",
            "value": 0.02
          }
        },
        "d809850d0468470ebf33a05eaaedaaa3": {
          "model_module": "@jupyter-widgets/controls",
          "model_name": "FloatSliderModel",
          "model_module_version": "1.5.0",
          "state": {
            "_dom_classes": [],
            "_model_module": "@jupyter-widgets/controls",
            "_model_module_version": "1.5.0",
            "_model_name": "FloatSliderModel",
            "_view_count": null,
            "_view_module": "@jupyter-widgets/controls",
            "_view_module_version": "1.5.0",
            "_view_name": "FloatSliderView",
            "continuous_update": true,
            "description": "d_h",
            "description_tooltip": null,
            "disabled": false,
            "layout": "IPY_MODEL_c0861dbbd347410eaeb37bd0abb70bc4",
            "max": 1,
            "min": 0,
            "orientation": "horizontal",
            "readout": true,
            "readout_format": ".2f",
            "step": 0.05,
            "style": "IPY_MODEL_5e8ad09421034a67a7f4779839d4168d",
            "value": 0.1
          }
        },
        "dd3442e6e7944e05adbe3518ea38cbd1": {
          "model_module": "@jupyter-widgets/controls",
          "model_name": "FloatSliderModel",
          "model_module_version": "1.5.0",
          "state": {
            "_dom_classes": [],
            "_model_module": "@jupyter-widgets/controls",
            "_model_module_version": "1.5.0",
            "_model_name": "FloatSliderModel",
            "_view_count": null,
            "_view_module": "@jupyter-widgets/controls",
            "_view_module_version": "1.5.0",
            "_view_name": "FloatSliderView",
            "continuous_update": true,
            "description": "rho_h",
            "description_tooltip": null,
            "disabled": false,
            "layout": "IPY_MODEL_87633cd8519a4a6aa5701d29bf482d72",
            "max": 1,
            "min": 0,
            "orientation": "horizontal",
            "readout": true,
            "readout_format": ".2f",
            "step": 0.05,
            "style": "IPY_MODEL_32c52a51def24c5a9392c7952d2cd0b1",
            "value": 0.05
          }
        },
        "de57af523ef84e05994d3aa7466ae215": {
          "model_module": "@jupyter-widgets/controls",
          "model_name": "FloatSliderModel",
          "model_module_version": "1.5.0",
          "state": {
            "_dom_classes": [],
            "_model_module": "@jupyter-widgets/controls",
            "_model_module_version": "1.5.0",
            "_model_name": "FloatSliderModel",
            "_view_count": null,
            "_view_module": "@jupyter-widgets/controls",
            "_view_module_version": "1.5.0",
            "_view_name": "FloatSliderView",
            "continuous_update": true,
            "description": "v_h",
            "description_tooltip": null,
            "disabled": false,
            "layout": "IPY_MODEL_46b9bb0e2f0e4540a4048472a1845fef",
            "max": 1,
            "min": 0,
            "orientation": "horizontal",
            "readout": true,
            "readout_format": ".2f",
            "step": 0.05,
            "style": "IPY_MODEL_5f4f0dc82bd94eefb7f9f1c3fe14d718",
            "value": 0.85
          }
        },
        "bcf6a5eb5b864aec9e65237f79fafa0f": {
          "model_module": "@jupyter-widgets/controls",
          "model_name": "FloatSliderModel",
          "model_module_version": "1.5.0",
          "state": {
            "_dom_classes": [],
            "_model_module": "@jupyter-widgets/controls",
            "_model_module_version": "1.5.0",
            "_model_name": "FloatSliderModel",
            "_view_count": null,
            "_view_module": "@jupyter-widgets/controls",
            "_view_module_version": "1.5.0",
            "_view_name": "FloatSliderView",
            "continuous_update": true,
            "description": "alpha_h",
            "description_tooltip": null,
            "disabled": false,
            "layout": "IPY_MODEL_d1aa1a26533d4980b3dcb09df4162ea8",
            "max": 1,
            "min": 0,
            "orientation": "horizontal",
            "readout": true,
            "readout_format": ".2f",
            "step": 0.05,
            "style": "IPY_MODEL_b68e8b6035384a63803d550d50b3d0df",
            "value": 0.05
          }
        },
        "124c7f1a91404153bf8c78eef5f0eb87": {
          "model_module": "@jupyter-widgets/controls",
          "model_name": "FloatSliderModel",
          "model_module_version": "1.5.0",
          "state": {
            "_dom_classes": [],
            "_model_module": "@jupyter-widgets/controls",
            "_model_module_version": "1.5.0",
            "_model_name": "FloatSliderModel",
            "_view_count": null,
            "_view_module": "@jupyter-widgets/controls",
            "_view_module_version": "1.5.0",
            "_view_name": "FloatSliderView",
            "continuous_update": true,
            "description": "beta_n2",
            "description_tooltip": null,
            "disabled": false,
            "layout": "IPY_MODEL_ffb935338e324620acaa113ced47657a",
            "max": 1,
            "min": 0,
            "orientation": "horizontal",
            "readout": true,
            "readout_format": ".2f",
            "step": 0.05,
            "style": "IPY_MODEL_3250b412dc9c43638bc717badd488ab1",
            "value": 0.2
          }
        },
        "9418611ead8f43f2b62c75755446f680": {
          "model_module": "@jupyter-widgets/controls",
          "model_name": "FloatSliderModel",
          "model_module_version": "1.5.0",
          "state": {
            "_dom_classes": [],
            "_model_module": "@jupyter-widgets/controls",
            "_model_module_version": "1.5.0",
            "_model_name": "FloatSliderModel",
            "_view_count": null,
            "_view_module": "@jupyter-widgets/controls",
            "_view_module_version": "1.5.0",
            "_view_name": "FloatSliderView",
            "continuous_update": true,
            "description": "beta_h",
            "description_tooltip": null,
            "disabled": false,
            "layout": "IPY_MODEL_8681570db8bb41b08cc110fe13766958",
            "max": 1,
            "min": 0,
            "orientation": "horizontal",
            "readout": true,
            "readout_format": ".2f",
            "step": 0.05,
            "style": "IPY_MODEL_05904699a6ba42debe26217e3cefcd83",
            "value": 0
          }
        },
        "11b5afed31b045c28ebb8948336af7da": {
          "model_module": "@jupyter-widgets/controls",
          "model_name": "IntSliderModel",
          "model_module_version": "1.5.0",
          "state": {
            "_dom_classes": [],
            "_model_module": "@jupyter-widgets/controls",
            "_model_module_version": "1.5.0",
            "_model_name": "IntSliderModel",
            "_view_count": null,
            "_view_module": "@jupyter-widgets/controls",
            "_view_module_version": "1.5.0",
            "_view_name": "IntSliderView",
            "continuous_update": true,
            "description": "N_h",
            "description_tooltip": null,
            "disabled": false,
            "layout": "IPY_MODEL_70642cc77674492daf96d40610fa4729",
            "max": 60000,
            "min": -20000,
            "orientation": "horizontal",
            "readout": true,
            "readout_format": "d",
            "step": 1,
            "style": "IPY_MODEL_df513e3520a84ad880d784ddb3115f1f",
            "value": 20000
          }
        },
        "4aa05ecff3ce4c4aa65f52b725fb7cc1": {
          "model_module": "@jupyter-widgets/output",
          "model_name": "OutputModel",
          "model_module_version": "1.0.0",
          "state": {
            "_dom_classes": [],
            "_model_module": "@jupyter-widgets/output",
            "_model_module_version": "1.0.0",
            "_model_name": "OutputModel",
            "_view_count": null,
            "_view_module": "@jupyter-widgets/output",
            "_view_module_version": "1.0.0",
            "_view_name": "OutputView",
            "layout": "IPY_MODEL_1900e778811646daa0e4983ab37cab77",
            "msg_id": "",
            "outputs": [
              {
                "output_type": "stream",
                "name": "stdout",
                "text": [
                  "R0 for non-human:  1.8181818181818177\n",
                  "R0 for human:  0.0\n",
                  "R0 : 1.8181818181818177\n",
                  "Epidmic !!\n"
                ]
              },
              {
                "output_type": "display_data",
                "data": {
                  "text/plain": "<Figure size 720x720 with 1 Axes>",
                  "image/png": "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\n"
                },
                "metadata": {
                  "needs_background": "light"
                }
              }
            ]
          }
        },
        "7ce6af5c25b54a0dabeaedd59769a479": {
          "model_module": "@jupyter-widgets/base",
          "model_name": "LayoutModel",
          "model_module_version": "1.2.0",
          "state": {
            "_model_module": "@jupyter-widgets/base",
            "_model_module_version": "1.2.0",
            "_model_name": "LayoutModel",
            "_view_count": null,
            "_view_module": "@jupyter-widgets/base",
            "_view_module_version": "1.2.0",
            "_view_name": "LayoutView",
            "align_content": null,
            "align_items": null,
            "align_self": null,
            "border": null,
            "bottom": null,
            "display": null,
            "flex": null,
            "flex_flow": null,
            "grid_area": null,
            "grid_auto_columns": null,
            "grid_auto_flow": null,
            "grid_auto_rows": null,
            "grid_column": null,
            "grid_gap": null,
            "grid_row": null,
            "grid_template_areas": null,
            "grid_template_columns": null,
            "grid_template_rows": null,
            "height": null,
            "justify_content": null,
            "justify_items": null,
            "left": null,
            "margin": null,
            "max_height": null,
            "max_width": null,
            "min_height": null,
            "min_width": null,
            "object_fit": null,
            "object_position": null,
            "order": null,
            "overflow": null,
            "overflow_x": null,
            "overflow_y": null,
            "padding": null,
            "right": null,
            "top": null,
            "visibility": null,
            "width": null
          }
        },
        "5ebbf814389643c581d530f8c6cdd813": {
          "model_module": "@jupyter-widgets/base",
          "model_name": "LayoutModel",
          "model_module_version": "1.2.0",
          "state": {
            "_model_module": "@jupyter-widgets/base",
            "_model_module_version": "1.2.0",
            "_model_name": "LayoutModel",
            "_view_count": null,
            "_view_module": "@jupyter-widgets/base",
            "_view_module_version": "1.2.0",
            "_view_name": "LayoutView",
            "align_content": null,
            "align_items": null,
            "align_self": null,
            "border": null,
            "bottom": null,
            "display": null,
            "flex": null,
            "flex_flow": null,
            "grid_area": null,
            "grid_auto_columns": null,
            "grid_auto_flow": null,
            "grid_auto_rows": null,
            "grid_column": null,
            "grid_gap": null,
            "grid_row": null,
            "grid_template_areas": null,
            "grid_template_columns": null,
            "grid_template_rows": null,
            "height": null,
            "justify_content": null,
            "justify_items": null,
            "left": null,
            "margin": null,
            "max_height": null,
            "max_width": null,
            "min_height": null,
            "min_width": null,
            "object_fit": null,
            "object_position": null,
            "order": null,
            "overflow": null,
            "overflow_x": null,
            "overflow_y": null,
            "padding": null,
            "right": null,
            "top": null,
            "visibility": null,
            "width": null
          }
        },
        "122e8182fdee4ca9912ae4076ece6aaf": {
          "model_module": "@jupyter-widgets/controls",
          "model_name": "SliderStyleModel",
          "model_module_version": "1.5.0",
          "state": {
            "_model_module": "@jupyter-widgets/controls",
            "_model_module_version": "1.5.0",
            "_model_name": "SliderStyleModel",
            "_view_count": null,
            "_view_module": "@jupyter-widgets/base",
            "_view_module_version": "1.2.0",
            "_view_name": "StyleView",
            "description_width": "",
            "handle_color": null
          }
        },
        "3e0130fddd7d407ca197915903c70b4b": {
          "model_module": "@jupyter-widgets/base",
          "model_name": "LayoutModel",
          "model_module_version": "1.2.0",
          "state": {
            "_model_module": "@jupyter-widgets/base",
            "_model_module_version": "1.2.0",
            "_model_name": "LayoutModel",
            "_view_count": null,
            "_view_module": "@jupyter-widgets/base",
            "_view_module_version": "1.2.0",
            "_view_name": "LayoutView",
            "align_content": null,
            "align_items": null,
            "align_self": null,
            "border": null,
            "bottom": null,
            "display": null,
            "flex": null,
            "flex_flow": null,
            "grid_area": null,
            "grid_auto_columns": null,
            "grid_auto_flow": null,
            "grid_auto_rows": null,
            "grid_column": null,
            "grid_gap": null,
            "grid_row": null,
            "grid_template_areas": null,
            "grid_template_columns": null,
            "grid_template_rows": null,
            "height": null,
            "justify_content": null,
            "justify_items": null,
            "left": null,
            "margin": null,
            "max_height": null,
            "max_width": null,
            "min_height": null,
            "min_width": null,
            "object_fit": null,
            "object_position": null,
            "order": null,
            "overflow": null,
            "overflow_x": null,
            "overflow_y": null,
            "padding": null,
            "right": null,
            "top": null,
            "visibility": null,
            "width": null
          }
        },
        "1583cd9214d44f149853eb579fa792de": {
          "model_module": "@jupyter-widgets/controls",
          "model_name": "SliderStyleModel",
          "model_module_version": "1.5.0",
          "state": {
            "_model_module": "@jupyter-widgets/controls",
            "_model_module_version": "1.5.0",
            "_model_name": "SliderStyleModel",
            "_view_count": null,
            "_view_module": "@jupyter-widgets/base",
            "_view_module_version": "1.2.0",
            "_view_name": "StyleView",
            "description_width": "",
            "handle_color": null
          }
        },
        "cd4e4bf1adfa49d5a3784cad32bc42c2": {
          "model_module": "@jupyter-widgets/base",
          "model_name": "LayoutModel",
          "model_module_version": "1.2.0",
          "state": {
            "_model_module": "@jupyter-widgets/base",
            "_model_module_version": "1.2.0",
            "_model_name": "LayoutModel",
            "_view_count": null,
            "_view_module": "@jupyter-widgets/base",
            "_view_module_version": "1.2.0",
            "_view_name": "LayoutView",
            "align_content": null,
            "align_items": null,
            "align_self": null,
            "border": null,
            "bottom": null,
            "display": null,
            "flex": null,
            "flex_flow": null,
            "grid_area": null,
            "grid_auto_columns": null,
            "grid_auto_flow": null,
            "grid_auto_rows": null,
            "grid_column": null,
            "grid_gap": null,
            "grid_row": null,
            "grid_template_areas": null,
            "grid_template_columns": null,
            "grid_template_rows": null,
            "height": null,
            "justify_content": null,
            "justify_items": null,
            "left": null,
            "margin": null,
            "max_height": null,
            "max_width": null,
            "min_height": null,
            "min_width": null,
            "object_fit": null,
            "object_position": null,
            "order": null,
            "overflow": null,
            "overflow_x": null,
            "overflow_y": null,
            "padding": null,
            "right": null,
            "top": null,
            "visibility": null,
            "width": null
          }
        },
        "8db42054d8624af0a79f6d873253c597": {
          "model_module": "@jupyter-widgets/controls",
          "model_name": "SliderStyleModel",
          "model_module_version": "1.5.0",
          "state": {
            "_model_module": "@jupyter-widgets/controls",
            "_model_module_version": "1.5.0",
            "_model_name": "SliderStyleModel",
            "_view_count": null,
            "_view_module": "@jupyter-widgets/base",
            "_view_module_version": "1.2.0",
            "_view_name": "StyleView",
            "description_width": "",
            "handle_color": null
          }
        },
        "82117ba6e48a4b2ab8a3117c8536966a": {
          "model_module": "@jupyter-widgets/base",
          "model_name": "LayoutModel",
          "model_module_version": "1.2.0",
          "state": {
            "_model_module": "@jupyter-widgets/base",
            "_model_module_version": "1.2.0",
            "_model_name": "LayoutModel",
            "_view_count": null,
            "_view_module": "@jupyter-widgets/base",
            "_view_module_version": "1.2.0",
            "_view_name": "LayoutView",
            "align_content": null,
            "align_items": null,
            "align_self": null,
            "border": null,
            "bottom": null,
            "display": null,
            "flex": null,
            "flex_flow": null,
            "grid_area": null,
            "grid_auto_columns": null,
            "grid_auto_flow": null,
            "grid_auto_rows": null,
            "grid_column": null,
            "grid_gap": null,
            "grid_row": null,
            "grid_template_areas": null,
            "grid_template_columns": null,
            "grid_template_rows": null,
            "height": null,
            "justify_content": null,
            "justify_items": null,
            "left": null,
            "margin": null,
            "max_height": null,
            "max_width": null,
            "min_height": null,
            "min_width": null,
            "object_fit": null,
            "object_position": null,
            "order": null,
            "overflow": null,
            "overflow_x": null,
            "overflow_y": null,
            "padding": null,
            "right": null,
            "top": null,
            "visibility": null,
            "width": null
          }
        },
        "3a4e2ef66ca7498a98ff9446ab01cfc4": {
          "model_module": "@jupyter-widgets/controls",
          "model_name": "SliderStyleModel",
          "model_module_version": "1.5.0",
          "state": {
            "_model_module": "@jupyter-widgets/controls",
            "_model_module_version": "1.5.0",
            "_model_name": "SliderStyleModel",
            "_view_count": null,
            "_view_module": "@jupyter-widgets/base",
            "_view_module_version": "1.2.0",
            "_view_name": "StyleView",
            "description_width": "",
            "handle_color": null
          }
        },
        "d06e1642e0aa4842b2f2b07b2710e295": {
          "model_module": "@jupyter-widgets/base",
          "model_name": "LayoutModel",
          "model_module_version": "1.2.0",
          "state": {
            "_model_module": "@jupyter-widgets/base",
            "_model_module_version": "1.2.0",
            "_model_name": "LayoutModel",
            "_view_count": null,
            "_view_module": "@jupyter-widgets/base",
            "_view_module_version": "1.2.0",
            "_view_name": "LayoutView",
            "align_content": null,
            "align_items": null,
            "align_self": null,
            "border": null,
            "bottom": null,
            "display": null,
            "flex": null,
            "flex_flow": null,
            "grid_area": null,
            "grid_auto_columns": null,
            "grid_auto_flow": null,
            "grid_auto_rows": null,
            "grid_column": null,
            "grid_gap": null,
            "grid_row": null,
            "grid_template_areas": null,
            "grid_template_columns": null,
            "grid_template_rows": null,
            "height": null,
            "justify_content": null,
            "justify_items": null,
            "left": null,
            "margin": null,
            "max_height": null,
            "max_width": null,
            "min_height": null,
            "min_width": null,
            "object_fit": null,
            "object_position": null,
            "order": null,
            "overflow": null,
            "overflow_x": null,
            "overflow_y": null,
            "padding": null,
            "right": null,
            "top": null,
            "visibility": null,
            "width": null
          }
        },
        "103eb01e6b064f1d81c7a12d785bb8a1": {
          "model_module": "@jupyter-widgets/controls",
          "model_name": "SliderStyleModel",
          "model_module_version": "1.5.0",
          "state": {
            "_model_module": "@jupyter-widgets/controls",
            "_model_module_version": "1.5.0",
            "_model_name": "SliderStyleModel",
            "_view_count": null,
            "_view_module": "@jupyter-widgets/base",
            "_view_module_version": "1.2.0",
            "_view_name": "StyleView",
            "description_width": "",
            "handle_color": null
          }
        },
        "3421f5b694e4491ea56b33b1af681b70": {
          "model_module": "@jupyter-widgets/base",
          "model_name": "LayoutModel",
          "model_module_version": "1.2.0",
          "state": {
            "_model_module": "@jupyter-widgets/base",
            "_model_module_version": "1.2.0",
            "_model_name": "LayoutModel",
            "_view_count": null,
            "_view_module": "@jupyter-widgets/base",
            "_view_module_version": "1.2.0",
            "_view_name": "LayoutView",
            "align_content": null,
            "align_items": null,
            "align_self": null,
            "border": null,
            "bottom": null,
            "display": null,
            "flex": null,
            "flex_flow": null,
            "grid_area": null,
            "grid_auto_columns": null,
            "grid_auto_flow": null,
            "grid_auto_rows": null,
            "grid_column": null,
            "grid_gap": null,
            "grid_row": null,
            "grid_template_areas": null,
            "grid_template_columns": null,
            "grid_template_rows": null,
            "height": null,
            "justify_content": null,
            "justify_items": null,
            "left": null,
            "margin": null,
            "max_height": null,
            "max_width": null,
            "min_height": null,
            "min_width": null,
            "object_fit": null,
            "object_position": null,
            "order": null,
            "overflow": null,
            "overflow_x": null,
            "overflow_y": null,
            "padding": null,
            "right": null,
            "top": null,
            "visibility": null,
            "width": null
          }
        },
        "a9cd8ed511e94c0c9ba2899882724451": {
          "model_module": "@jupyter-widgets/controls",
          "model_name": "SliderStyleModel",
          "model_module_version": "1.5.0",
          "state": {
            "_model_module": "@jupyter-widgets/controls",
            "_model_module_version": "1.5.0",
            "_model_name": "SliderStyleModel",
            "_view_count": null,
            "_view_module": "@jupyter-widgets/base",
            "_view_module_version": "1.2.0",
            "_view_name": "StyleView",
            "description_width": "",
            "handle_color": null
          }
        },
        "f377361b7c404dbc8c4eb8361604d5ab": {
          "model_module": "@jupyter-widgets/base",
          "model_name": "LayoutModel",
          "model_module_version": "1.2.0",
          "state": {
            "_model_module": "@jupyter-widgets/base",
            "_model_module_version": "1.2.0",
            "_model_name": "LayoutModel",
            "_view_count": null,
            "_view_module": "@jupyter-widgets/base",
            "_view_module_version": "1.2.0",
            "_view_name": "LayoutView",
            "align_content": null,
            "align_items": null,
            "align_self": null,
            "border": null,
            "bottom": null,
            "display": null,
            "flex": null,
            "flex_flow": null,
            "grid_area": null,
            "grid_auto_columns": null,
            "grid_auto_flow": null,
            "grid_auto_rows": null,
            "grid_column": null,
            "grid_gap": null,
            "grid_row": null,
            "grid_template_areas": null,
            "grid_template_columns": null,
            "grid_template_rows": null,
            "height": null,
            "justify_content": null,
            "justify_items": null,
            "left": null,
            "margin": null,
            "max_height": null,
            "max_width": null,
            "min_height": null,
            "min_width": null,
            "object_fit": null,
            "object_position": null,
            "order": null,
            "overflow": null,
            "overflow_x": null,
            "overflow_y": null,
            "padding": null,
            "right": null,
            "top": null,
            "visibility": null,
            "width": null
          }
        },
        "2b2b4d44d7804bca81c279794b134d49": {
          "model_module": "@jupyter-widgets/controls",
          "model_name": "SliderStyleModel",
          "model_module_version": "1.5.0",
          "state": {
            "_model_module": "@jupyter-widgets/controls",
            "_model_module_version": "1.5.0",
            "_model_name": "SliderStyleModel",
            "_view_count": null,
            "_view_module": "@jupyter-widgets/base",
            "_view_module_version": "1.2.0",
            "_view_name": "StyleView",
            "description_width": "",
            "handle_color": null
          }
        },
        "fffcb3ed01f94f37aa263301089fa986": {
          "model_module": "@jupyter-widgets/base",
          "model_name": "LayoutModel",
          "model_module_version": "1.2.0",
          "state": {
            "_model_module": "@jupyter-widgets/base",
            "_model_module_version": "1.2.0",
            "_model_name": "LayoutModel",
            "_view_count": null,
            "_view_module": "@jupyter-widgets/base",
            "_view_module_version": "1.2.0",
            "_view_name": "LayoutView",
            "align_content": null,
            "align_items": null,
            "align_self": null,
            "border": null,
            "bottom": null,
            "display": null,
            "flex": null,
            "flex_flow": null,
            "grid_area": null,
            "grid_auto_columns": null,
            "grid_auto_flow": null,
            "grid_auto_rows": null,
            "grid_column": null,
            "grid_gap": null,
            "grid_row": null,
            "grid_template_areas": null,
            "grid_template_columns": null,
            "grid_template_rows": null,
            "height": null,
            "justify_content": null,
            "justify_items": null,
            "left": null,
            "margin": null,
            "max_height": null,
            "max_width": null,
            "min_height": null,
            "min_width": null,
            "object_fit": null,
            "object_position": null,
            "order": null,
            "overflow": null,
            "overflow_x": null,
            "overflow_y": null,
            "padding": null,
            "right": null,
            "top": null,
            "visibility": null,
            "width": null
          }
        },
        "1997472fd391477c9b1b29271a8f0d72": {
          "model_module": "@jupyter-widgets/controls",
          "model_name": "SliderStyleModel",
          "model_module_version": "1.5.0",
          "state": {
            "_model_module": "@jupyter-widgets/controls",
            "_model_module_version": "1.5.0",
            "_model_name": "SliderStyleModel",
            "_view_count": null,
            "_view_module": "@jupyter-widgets/base",
            "_view_module_version": "1.2.0",
            "_view_name": "StyleView",
            "description_width": "",
            "handle_color": null
          }
        },
        "a8da4db1148d46b3a96c064856252e6a": {
          "model_module": "@jupyter-widgets/base",
          "model_name": "LayoutModel",
          "model_module_version": "1.2.0",
          "state": {
            "_model_module": "@jupyter-widgets/base",
            "_model_module_version": "1.2.0",
            "_model_name": "LayoutModel",
            "_view_count": null,
            "_view_module": "@jupyter-widgets/base",
            "_view_module_version": "1.2.0",
            "_view_name": "LayoutView",
            "align_content": null,
            "align_items": null,
            "align_self": null,
            "border": null,
            "bottom": null,
            "display": null,
            "flex": null,
            "flex_flow": null,
            "grid_area": null,
            "grid_auto_columns": null,
            "grid_auto_flow": null,
            "grid_auto_rows": null,
            "grid_column": null,
            "grid_gap": null,
            "grid_row": null,
            "grid_template_areas": null,
            "grid_template_columns": null,
            "grid_template_rows": null,
            "height": null,
            "justify_content": null,
            "justify_items": null,
            "left": null,
            "margin": null,
            "max_height": null,
            "max_width": null,
            "min_height": null,
            "min_width": null,
            "object_fit": null,
            "object_position": null,
            "order": null,
            "overflow": null,
            "overflow_x": null,
            "overflow_y": null,
            "padding": null,
            "right": null,
            "top": null,
            "visibility": null,
            "width": null
          }
        },
        "0cbb9a4c67ce41cdbd2e85bdda3ea33b": {
          "model_module": "@jupyter-widgets/controls",
          "model_name": "SliderStyleModel",
          "model_module_version": "1.5.0",
          "state": {
            "_model_module": "@jupyter-widgets/controls",
            "_model_module_version": "1.5.0",
            "_model_name": "SliderStyleModel",
            "_view_count": null,
            "_view_module": "@jupyter-widgets/base",
            "_view_module_version": "1.2.0",
            "_view_name": "StyleView",
            "description_width": "",
            "handle_color": null
          }
        },
        "c0861dbbd347410eaeb37bd0abb70bc4": {
          "model_module": "@jupyter-widgets/base",
          "model_name": "LayoutModel",
          "model_module_version": "1.2.0",
          "state": {
            "_model_module": "@jupyter-widgets/base",
            "_model_module_version": "1.2.0",
            "_model_name": "LayoutModel",
            "_view_count": null,
            "_view_module": "@jupyter-widgets/base",
            "_view_module_version": "1.2.0",
            "_view_name": "LayoutView",
            "align_content": null,
            "align_items": null,
            "align_self": null,
            "border": null,
            "bottom": null,
            "display": null,
            "flex": null,
            "flex_flow": null,
            "grid_area": null,
            "grid_auto_columns": null,
            "grid_auto_flow": null,
            "grid_auto_rows": null,
            "grid_column": null,
            "grid_gap": null,
            "grid_row": null,
            "grid_template_areas": null,
            "grid_template_columns": null,
            "grid_template_rows": null,
            "height": null,
            "justify_content": null,
            "justify_items": null,
            "left": null,
            "margin": null,
            "max_height": null,
            "max_width": null,
            "min_height": null,
            "min_width": null,
            "object_fit": null,
            "object_position": null,
            "order": null,
            "overflow": null,
            "overflow_x": null,
            "overflow_y": null,
            "padding": null,
            "right": null,
            "top": null,
            "visibility": null,
            "width": null
          }
        },
        "5e8ad09421034a67a7f4779839d4168d": {
          "model_module": "@jupyter-widgets/controls",
          "model_name": "SliderStyleModel",
          "model_module_version": "1.5.0",
          "state": {
            "_model_module": "@jupyter-widgets/controls",
            "_model_module_version": "1.5.0",
            "_model_name": "SliderStyleModel",
            "_view_count": null,
            "_view_module": "@jupyter-widgets/base",
            "_view_module_version": "1.2.0",
            "_view_name": "StyleView",
            "description_width": "",
            "handle_color": null
          }
        },
        "87633cd8519a4a6aa5701d29bf482d72": {
          "model_module": "@jupyter-widgets/base",
          "model_name": "LayoutModel",
          "model_module_version": "1.2.0",
          "state": {
            "_model_module": "@jupyter-widgets/base",
            "_model_module_version": "1.2.0",
            "_model_name": "LayoutModel",
            "_view_count": null,
            "_view_module": "@jupyter-widgets/base",
            "_view_module_version": "1.2.0",
            "_view_name": "LayoutView",
            "align_content": null,
            "align_items": null,
            "align_self": null,
            "border": null,
            "bottom": null,
            "display": null,
            "flex": null,
            "flex_flow": null,
            "grid_area": null,
            "grid_auto_columns": null,
            "grid_auto_flow": null,
            "grid_auto_rows": null,
            "grid_column": null,
            "grid_gap": null,
            "grid_row": null,
            "grid_template_areas": null,
            "grid_template_columns": null,
            "grid_template_rows": null,
            "height": null,
            "justify_content": null,
            "justify_items": null,
            "left": null,
            "margin": null,
            "max_height": null,
            "max_width": null,
            "min_height": null,
            "min_width": null,
            "object_fit": null,
            "object_position": null,
            "order": null,
            "overflow": null,
            "overflow_x": null,
            "overflow_y": null,
            "padding": null,
            "right": null,
            "top": null,
            "visibility": null,
            "width": null
          }
        },
        "32c52a51def24c5a9392c7952d2cd0b1": {
          "model_module": "@jupyter-widgets/controls",
          "model_name": "SliderStyleModel",
          "model_module_version": "1.5.0",
          "state": {
            "_model_module": "@jupyter-widgets/controls",
            "_model_module_version": "1.5.0",
            "_model_name": "SliderStyleModel",
            "_view_count": null,
            "_view_module": "@jupyter-widgets/base",
            "_view_module_version": "1.2.0",
            "_view_name": "StyleView",
            "description_width": "",
            "handle_color": null
          }
        },
        "46b9bb0e2f0e4540a4048472a1845fef": {
          "model_module": "@jupyter-widgets/base",
          "model_name": "LayoutModel",
          "model_module_version": "1.2.0",
          "state": {
            "_model_module": "@jupyter-widgets/base",
            "_model_module_version": "1.2.0",
            "_model_name": "LayoutModel",
            "_view_count": null,
            "_view_module": "@jupyter-widgets/base",
            "_view_module_version": "1.2.0",
            "_view_name": "LayoutView",
            "align_content": null,
            "align_items": null,
            "align_self": null,
            "border": null,
            "bottom": null,
            "display": null,
            "flex": null,
            "flex_flow": null,
            "grid_area": null,
            "grid_auto_columns": null,
            "grid_auto_flow": null,
            "grid_auto_rows": null,
            "grid_column": null,
            "grid_gap": null,
            "grid_row": null,
            "grid_template_areas": null,
            "grid_template_columns": null,
            "grid_template_rows": null,
            "height": null,
            "justify_content": null,
            "justify_items": null,
            "left": null,
            "margin": null,
            "max_height": null,
            "max_width": null,
            "min_height": null,
            "min_width": null,
            "object_fit": null,
            "object_position": null,
            "order": null,
            "overflow": null,
            "overflow_x": null,
            "overflow_y": null,
            "padding": null,
            "right": null,
            "top": null,
            "visibility": null,
            "width": null
          }
        },
        "5f4f0dc82bd94eefb7f9f1c3fe14d718": {
          "model_module": "@jupyter-widgets/controls",
          "model_name": "SliderStyleModel",
          "model_module_version": "1.5.0",
          "state": {
            "_model_module": "@jupyter-widgets/controls",
            "_model_module_version": "1.5.0",
            "_model_name": "SliderStyleModel",
            "_view_count": null,
            "_view_module": "@jupyter-widgets/base",
            "_view_module_version": "1.2.0",
            "_view_name": "StyleView",
            "description_width": "",
            "handle_color": null
          }
        },
        "d1aa1a26533d4980b3dcb09df4162ea8": {
          "model_module": "@jupyter-widgets/base",
          "model_name": "LayoutModel",
          "model_module_version": "1.2.0",
          "state": {
            "_model_module": "@jupyter-widgets/base",
            "_model_module_version": "1.2.0",
            "_model_name": "LayoutModel",
            "_view_count": null,
            "_view_module": "@jupyter-widgets/base",
            "_view_module_version": "1.2.0",
            "_view_name": "LayoutView",
            "align_content": null,
            "align_items": null,
            "align_self": null,
            "border": null,
            "bottom": null,
            "display": null,
            "flex": null,
            "flex_flow": null,
            "grid_area": null,
            "grid_auto_columns": null,
            "grid_auto_flow": null,
            "grid_auto_rows": null,
            "grid_column": null,
            "grid_gap": null,
            "grid_row": null,
            "grid_template_areas": null,
            "grid_template_columns": null,
            "grid_template_rows": null,
            "height": null,
            "justify_content": null,
            "justify_items": null,
            "left": null,
            "margin": null,
            "max_height": null,
            "max_width": null,
            "min_height": null,
            "min_width": null,
            "object_fit": null,
            "object_position": null,
            "order": null,
            "overflow": null,
            "overflow_x": null,
            "overflow_y": null,
            "padding": null,
            "right": null,
            "top": null,
            "visibility": null,
            "width": null
          }
        },
        "b68e8b6035384a63803d550d50b3d0df": {
          "model_module": "@jupyter-widgets/controls",
          "model_name": "SliderStyleModel",
          "model_module_version": "1.5.0",
          "state": {
            "_model_module": "@jupyter-widgets/controls",
            "_model_module_version": "1.5.0",
            "_model_name": "SliderStyleModel",
            "_view_count": null,
            "_view_module": "@jupyter-widgets/base",
            "_view_module_version": "1.2.0",
            "_view_name": "StyleView",
            "description_width": "",
            "handle_color": null
          }
        },
        "ffb935338e324620acaa113ced47657a": {
          "model_module": "@jupyter-widgets/base",
          "model_name": "LayoutModel",
          "model_module_version": "1.2.0",
          "state": {
            "_model_module": "@jupyter-widgets/base",
            "_model_module_version": "1.2.0",
            "_model_name": "LayoutModel",
            "_view_count": null,
            "_view_module": "@jupyter-widgets/base",
            "_view_module_version": "1.2.0",
            "_view_name": "LayoutView",
            "align_content": null,
            "align_items": null,
            "align_self": null,
            "border": null,
            "bottom": null,
            "display": null,
            "flex": null,
            "flex_flow": null,
            "grid_area": null,
            "grid_auto_columns": null,
            "grid_auto_flow": null,
            "grid_auto_rows": null,
            "grid_column": null,
            "grid_gap": null,
            "grid_row": null,
            "grid_template_areas": null,
            "grid_template_columns": null,
            "grid_template_rows": null,
            "height": null,
            "justify_content": null,
            "justify_items": null,
            "left": null,
            "margin": null,
            "max_height": null,
            "max_width": null,
            "min_height": null,
            "min_width": null,
            "object_fit": null,
            "object_position": null,
            "order": null,
            "overflow": null,
            "overflow_x": null,
            "overflow_y": null,
            "padding": null,
            "right": null,
            "top": null,
            "visibility": null,
            "width": null
          }
        },
        "3250b412dc9c43638bc717badd488ab1": {
          "model_module": "@jupyter-widgets/controls",
          "model_name": "SliderStyleModel",
          "model_module_version": "1.5.0",
          "state": {
            "_model_module": "@jupyter-widgets/controls",
            "_model_module_version": "1.5.0",
            "_model_name": "SliderStyleModel",
            "_view_count": null,
            "_view_module": "@jupyter-widgets/base",
            "_view_module_version": "1.2.0",
            "_view_name": "StyleView",
            "description_width": "",
            "handle_color": null
          }
        },
        "8681570db8bb41b08cc110fe13766958": {
          "model_module": "@jupyter-widgets/base",
          "model_name": "LayoutModel",
          "model_module_version": "1.2.0",
          "state": {
            "_model_module": "@jupyter-widgets/base",
            "_model_module_version": "1.2.0",
            "_model_name": "LayoutModel",
            "_view_count": null,
            "_view_module": "@jupyter-widgets/base",
            "_view_module_version": "1.2.0",
            "_view_name": "LayoutView",
            "align_content": null,
            "align_items": null,
            "align_self": null,
            "border": null,
            "bottom": null,
            "display": null,
            "flex": null,
            "flex_flow": null,
            "grid_area": null,
            "grid_auto_columns": null,
            "grid_auto_flow": null,
            "grid_auto_rows": null,
            "grid_column": null,
            "grid_gap": null,
            "grid_row": null,
            "grid_template_areas": null,
            "grid_template_columns": null,
            "grid_template_rows": null,
            "height": null,
            "justify_content": null,
            "justify_items": null,
            "left": null,
            "margin": null,
            "max_height": null,
            "max_width": null,
            "min_height": null,
            "min_width": null,
            "object_fit": null,
            "object_position": null,
            "order": null,
            "overflow": null,
            "overflow_x": null,
            "overflow_y": null,
            "padding": null,
            "right": null,
            "top": null,
            "visibility": null,
            "width": null
          }
        },
        "05904699a6ba42debe26217e3cefcd83": {
          "model_module": "@jupyter-widgets/controls",
          "model_name": "SliderStyleModel",
          "model_module_version": "1.5.0",
          "state": {
            "_model_module": "@jupyter-widgets/controls",
            "_model_module_version": "1.5.0",
            "_model_name": "SliderStyleModel",
            "_view_count": null,
            "_view_module": "@jupyter-widgets/base",
            "_view_module_version": "1.2.0",
            "_view_name": "StyleView",
            "description_width": "",
            "handle_color": null
          }
        },
        "70642cc77674492daf96d40610fa4729": {
          "model_module": "@jupyter-widgets/base",
          "model_name": "LayoutModel",
          "model_module_version": "1.2.0",
          "state": {
            "_model_module": "@jupyter-widgets/base",
            "_model_module_version": "1.2.0",
            "_model_name": "LayoutModel",
            "_view_count": null,
            "_view_module": "@jupyter-widgets/base",
            "_view_module_version": "1.2.0",
            "_view_name": "LayoutView",
            "align_content": null,
            "align_items": null,
            "align_self": null,
            "border": null,
            "bottom": null,
            "display": null,
            "flex": null,
            "flex_flow": null,
            "grid_area": null,
            "grid_auto_columns": null,
            "grid_auto_flow": null,
            "grid_auto_rows": null,
            "grid_column": null,
            "grid_gap": null,
            "grid_row": null,
            "grid_template_areas": null,
            "grid_template_columns": null,
            "grid_template_rows": null,
            "height": null,
            "justify_content": null,
            "justify_items": null,
            "left": null,
            "margin": null,
            "max_height": null,
            "max_width": null,
            "min_height": null,
            "min_width": null,
            "object_fit": null,
            "object_position": null,
            "order": null,
            "overflow": null,
            "overflow_x": null,
            "overflow_y": null,
            "padding": null,
            "right": null,
            "top": null,
            "visibility": null,
            "width": null
          }
        },
        "df513e3520a84ad880d784ddb3115f1f": {
          "model_module": "@jupyter-widgets/controls",
          "model_name": "SliderStyleModel",
          "model_module_version": "1.5.0",
          "state": {
            "_model_module": "@jupyter-widgets/controls",
            "_model_module_version": "1.5.0",
            "_model_name": "SliderStyleModel",
            "_view_count": null,
            "_view_module": "@jupyter-widgets/base",
            "_view_module_version": "1.2.0",
            "_view_name": "StyleView",
            "description_width": "",
            "handle_color": null
          }
        },
        "1900e778811646daa0e4983ab37cab77": {
          "model_module": "@jupyter-widgets/base",
          "model_name": "LayoutModel",
          "model_module_version": "1.2.0",
          "state": {
            "_model_module": "@jupyter-widgets/base",
            "_model_module_version": "1.2.0",
            "_model_name": "LayoutModel",
            "_view_count": null,
            "_view_module": "@jupyter-widgets/base",
            "_view_module_version": "1.2.0",
            "_view_name": "LayoutView",
            "align_content": null,
            "align_items": null,
            "align_self": null,
            "border": null,
            "bottom": null,
            "display": null,
            "flex": null,
            "flex_flow": null,
            "grid_area": null,
            "grid_auto_columns": null,
            "grid_auto_flow": null,
            "grid_auto_rows": null,
            "grid_column": null,
            "grid_gap": null,
            "grid_row": null,
            "grid_template_areas": null,
            "grid_template_columns": null,
            "grid_template_rows": null,
            "height": null,
            "justify_content": null,
            "justify_items": null,
            "left": null,
            "margin": null,
            "max_height": null,
            "max_width": null,
            "min_height": null,
            "min_width": null,
            "object_fit": null,
            "object_position": null,
            "order": null,
            "overflow": null,
            "overflow_x": null,
            "overflow_y": null,
            "padding": null,
            "right": null,
            "top": null,
            "visibility": null,
            "width": null
          }
        }
      }
    }
  },
  "cells": [
    {
      "cell_type": "markdown",
      "source": [
        "#**MONKEYPOX - MATHEMATICAL MODELING**  \n",
        "#### Aurélien Vannieuwenhuyze - 2022/08/03 - Mathematics  \n",
        "##### https://aurelienvannieuwenhuyze.com | https://qstom-it.com  \n",
        "<img src=\"https://www.gnu.org/graphics/gplv3-127x51.png\"/>\n",
        "\n",
        "<hr>\n"
      ],
      "metadata": {
        "id": "uijJ3IJDXL1q"
      }
    },
    {
      "cell_type": "markdown",
      "source": [
        "\n",
        "#Abstract\n",
        "\n",
        "Monkeypox is a disease that has been on the rise again across several continents in recent months.(Aout 2022)\n",
        "\n",
        "This notebook allows you to :\n",
        "- Visualize the development of the actual disease (2022)  \n",
        "- Modeling an epidemic with SIR model\n",
        "- Use the Euler method to create a SIR model\n",
        "- Use SciPy to create a SIR model\n",
        "- Understand an SVEIR Model\n",
        "- Visualize the impact of the use of a vaccine on this disease with the help of mathematical modeling\n",
        "- Make a tool for epidemic interactive modeling\n",
        "\n",
        "The modeling work of the Monkeypox disease is based on the scientific publication of\n",
        "> Usman, S. and\n",
        "Adamu, I.I. (2017) Modeling the Transmission Dynamics of the Monkeypox Virus\n",
        "Infection with Treatment and Vaccination\n",
        "Interventions. Journal of Applied Mathematics and Physics, 5, 2335-2353.\n",
        "https://doi.org/10.4236/jamp.2017.512191  \n",
        "https://www.scirp.org/pdf/JAMP_2017121414351920.pdf\n",
        "\n",
        "\n",
        "**You must read this scientific publication before execute each parts of codes**\n",
        "\n",
        "<br>\n",
        "\n",
        "Attention:\n",
        "This note book was created for educational purposes.\n",
        "The objectives are as follows:\n",
        "- Understanding, analysis and implementation of a scientific publication\n",
        "\n",
        "**The information in this notebook cannot be used for real-life simulations.**\n",
        "\n"
      ],
      "metadata": {
        "id": "nxRLg2OxTbZ4"
      }
    },
    {
      "cell_type": "markdown",
      "source": [
        "# Datas and python libraries"
      ],
      "metadata": {
        "id": "Y34_f42zj-EA"
      }
    },
    {
      "cell_type": "markdown",
      "source": [
        "## Libraries"
      ],
      "metadata": {
        "id": "LZ6-2jB_kRiX"
      }
    },
    {
      "cell_type": "code",
      "source": [
        "import matplotlib.pyplot as plt\n",
        "import pandas as pnd"
      ],
      "metadata": {
        "id": "uQkG165IvOVx"
      },
      "execution_count": 1,
      "outputs": []
    },
    {
      "cell_type": "code",
      "source": [
        "!pip install geopandas"
      ],
      "metadata": {
        "id": "xJfp4_2_k3uA",
        "colab": {
          "base_uri": "https://localhost:8080/"
        },
        "outputId": "f5118e61-0f51-47df-f51e-6c57e1c47b87"
      },
      "execution_count": 2,
      "outputs": [
        {
          "output_type": "stream",
          "name": "stdout",
          "text": [
            "Looking in indexes: https://pypi.org/simple, https://us-python.pkg.dev/colab-wheels/public/simple/\n",
            "Collecting geopandas\n",
            "  Downloading geopandas-0.10.2-py2.py3-none-any.whl (1.0 MB)\n",
            "\u001b[K     |████████████████████████████████| 1.0 MB 9.8 MB/s \n",
            "\u001b[?25hCollecting fiona>=1.8\n",
            "  Downloading Fiona-1.8.21-cp37-cp37m-manylinux2014_x86_64.whl (16.7 MB)\n",
            "\u001b[K     |████████████████████████████████| 16.7 MB 56.8 MB/s \n",
            "\u001b[?25hCollecting pyproj>=2.2.0\n",
            "  Downloading pyproj-3.2.1-cp37-cp37m-manylinux2010_x86_64.whl (6.3 MB)\n",
            "\u001b[K     |████████████████████████████████| 6.3 MB 34.5 MB/s \n",
            "\u001b[?25hRequirement already satisfied: pandas>=0.25.0 in /usr/local/lib/python3.7/dist-packages (from geopandas) (1.3.5)\n",
            "Requirement already satisfied: shapely>=1.6 in /usr/local/lib/python3.7/dist-packages (from geopandas) (1.8.2)\n",
            "Requirement already satisfied: click>=4.0 in /usr/local/lib/python3.7/dist-packages (from fiona>=1.8->geopandas) (7.1.2)\n",
            "Requirement already satisfied: setuptools in /usr/local/lib/python3.7/dist-packages (from fiona>=1.8->geopandas) (57.4.0)\n",
            "Collecting cligj>=0.5\n",
            "  Downloading cligj-0.7.2-py3-none-any.whl (7.1 kB)\n",
            "Requirement already satisfied: certifi in /usr/local/lib/python3.7/dist-packages (from fiona>=1.8->geopandas) (2022.6.15)\n",
            "Requirement already satisfied: six>=1.7 in /usr/local/lib/python3.7/dist-packages (from fiona>=1.8->geopandas) (1.15.0)\n",
            "Collecting munch\n",
            "  Downloading munch-2.5.0-py2.py3-none-any.whl (10 kB)\n",
            "Collecting click-plugins>=1.0\n",
            "  Downloading click_plugins-1.1.1-py2.py3-none-any.whl (7.5 kB)\n",
            "Requirement already satisfied: attrs>=17 in /usr/local/lib/python3.7/dist-packages (from fiona>=1.8->geopandas) (22.1.0)\n",
            "Requirement already satisfied: python-dateutil>=2.7.3 in /usr/local/lib/python3.7/dist-packages (from pandas>=0.25.0->geopandas) (2.8.2)\n",
            "Requirement already satisfied: numpy>=1.17.3 in /usr/local/lib/python3.7/dist-packages (from pandas>=0.25.0->geopandas) (1.21.6)\n",
            "Requirement already satisfied: pytz>=2017.3 in /usr/local/lib/python3.7/dist-packages (from pandas>=0.25.0->geopandas) (2022.1)\n",
            "Installing collected packages: munch, cligj, click-plugins, pyproj, fiona, geopandas\n",
            "Successfully installed click-plugins-1.1.1 cligj-0.7.2 fiona-1.8.21 geopandas-0.10.2 munch-2.5.0 pyproj-3.2.1\n"
          ]
        }
      ]
    },
    {
      "cell_type": "code",
      "source": [
        "from scipy.integrate import ode\n",
        "from scipy.integrate import odeint\n",
        "from matplotlib.pyplot import figure\n",
        "import numpy as np\n",
        "\n",
        "import networkx as nx"
      ],
      "metadata": {
        "id": "8hN37CpwapTH"
      },
      "execution_count": 3,
      "outputs": []
    },
    {
      "cell_type": "code",
      "source": [
        "from ipywidgets import interact, interactive, fixed, interact_manual\n",
        "import ipywidgets as widgets"
      ],
      "metadata": {
        "id": "ptTsUeX2pYZM"
      },
      "execution_count": 4,
      "outputs": []
    },
    {
      "cell_type": "markdown",
      "source": [
        "## Datas"
      ],
      "metadata": {
        "id": "hK5uFblkkUY-"
      }
    },
    {
      "cell_type": "code",
      "execution_count": 5,
      "metadata": {
        "colab": {
          "base_uri": "https://localhost:8080/"
        },
        "id": "Z0CJ79ncZTTp",
        "outputId": "1c8d154b-5a76-4f80-a9b4-a1ea20f02f8b"
      },
      "outputs": [
        {
          "output_type": "stream",
          "name": "stdout",
          "text": [
            "--2022-08-04 13:59:01--  https://raw.githubusercontent.com/owid/notebooks/main/EdouardMathieu/monkeypox/owid-monkeypox-data.csv\n",
            "Resolving raw.githubusercontent.com (raw.githubusercontent.com)... 185.199.108.133, 185.199.109.133, 185.199.110.133, ...\n",
            "Connecting to raw.githubusercontent.com (raw.githubusercontent.com)|185.199.108.133|:443... connected.\n",
            "HTTP request sent, awaiting response... 200 OK\n",
            "Length: 151427 (148K) [text/plain]\n",
            "Saving to: ‘owid-monkeypox-data.csv’\n",
            "\n",
            "owid-monkeypox-data 100%[===================>] 147.88K  --.-KB/s    in 0.009s  \n",
            "\n",
            "2022-08-04 13:59:01 (15.6 MB/s) - ‘owid-monkeypox-data.csv’ saved [151427/151427]\n",
            "\n"
          ]
        }
      ],
      "source": [
        "#Monkey Pox datas\n",
        "!wget https://raw.githubusercontent.com/owid/notebooks/main/EdouardMathieu/monkeypox/owid-monkeypox-data.csv"
      ]
    },
    {
      "cell_type": "code",
      "source": [
        "#Gps coordinate by countries\n",
        "!wget https://raw.githubusercontent.com/albertyw/avenews/master/old/data/average-latitude-longitude-countries.csv"
      ],
      "metadata": {
        "id": "5w0xV60Mkbn0",
        "colab": {
          "base_uri": "https://localhost:8080/"
        },
        "outputId": "4fd49055-8c7e-4650-e4a3-cad4d5d22653"
      },
      "execution_count": 6,
      "outputs": [
        {
          "output_type": "stream",
          "name": "stdout",
          "text": [
            "--2022-08-04 13:59:05--  https://raw.githubusercontent.com/albertyw/avenews/master/old/data/average-latitude-longitude-countries.csv\n",
            "Resolving raw.githubusercontent.com (raw.githubusercontent.com)... 185.199.108.133, 185.199.109.133, 185.199.110.133, ...\n",
            "Connecting to raw.githubusercontent.com (raw.githubusercontent.com)|185.199.108.133|:443... connected.\n",
            "HTTP request sent, awaiting response... 200 OK\n",
            "Length: 6831 (6.7K) [text/plain]\n",
            "Saving to: ‘average-latitude-longitude-countries.csv’\n",
            "\n",
            "\r          average-l   0%[                    ]       0  --.-KB/s               \raverage-latitude-lo 100%[===================>]   6.67K  --.-KB/s    in 0s      \n",
            "\n",
            "2022-08-04 13:59:05 (73.5 MB/s) - ‘average-latitude-longitude-countries.csv’ saved [6831/6831]\n",
            "\n"
          ]
        }
      ]
    },
    {
      "cell_type": "markdown",
      "source": [
        "# Datas visualization (geopandas and folium)"
      ],
      "metadata": {
        "id": "MdarnzUzkK6p"
      }
    },
    {
      "cell_type": "markdown",
      "source": [
        "##Loading datas"
      ],
      "metadata": {
        "id": "-CjlDDqDkr2B"
      }
    },
    {
      "cell_type": "code",
      "source": [
        "datas = pnd.read_csv(\"owid-monkeypox-data.csv\")\n",
        "datas.head()"
      ],
      "metadata": {
        "colab": {
          "base_uri": "https://localhost:8080/",
          "height": 206
        },
        "id": "o71wfmBHZc3H",
        "outputId": "3a4b207c-967d-4554-a476-691f76797007"
      },
      "execution_count": 7,
      "outputs": [
        {
          "output_type": "execute_result",
          "data": {
            "text/plain": [
              "    location        date  new_cases  new_cases_smoothed  total_cases  \\\n",
              "0    Andorra  2022-07-25          1                 NaN            1   \n",
              "1    Andorra  2022-07-26          2                 NaN            3   \n",
              "2  Argentina  2022-05-27          2                 NaN            2   \n",
              "3  Argentina  2022-05-28          0                 NaN            2   \n",
              "4  Argentina  2022-05-29          0                 NaN            2   \n",
              "\n",
              "   new_cases_per_million  total_cases_per_million  \\\n",
              "0                 12.653                   12.653   \n",
              "1                 25.306                   37.958   \n",
              "2                  0.044                    0.044   \n",
              "3                  0.000                    0.044   \n",
              "4                  0.000                    0.044   \n",
              "\n",
              "   new_cases_smoothed_per_million  new_deaths  new_deaths_smoothed  \\\n",
              "0                             NaN         NaN                  NaN   \n",
              "1                             NaN         NaN                  NaN   \n",
              "2                             NaN         NaN                  NaN   \n",
              "3                             NaN         NaN                  NaN   \n",
              "4                             NaN         NaN                  NaN   \n",
              "\n",
              "   total_deaths  new_deaths_per_million  total_deaths_per_million  \\\n",
              "0           NaN                     NaN                       NaN   \n",
              "1           NaN                     NaN                       NaN   \n",
              "2           NaN                     NaN                       NaN   \n",
              "3           NaN                     NaN                       NaN   \n",
              "4           NaN                     NaN                       NaN   \n",
              "\n",
              "   new_deaths_smoothed_per_million  \n",
              "0                              NaN  \n",
              "1                              NaN  \n",
              "2                              NaN  \n",
              "3                              NaN  \n",
              "4                              NaN  "
            ],
            "text/html": [
              "\n",
              "  <div id=\"df-1f9eaf63-3827-4aef-9d86-750c32b54f42\">\n",
              "    <div class=\"colab-df-container\">\n",
              "      <div>\n",
              "<style scoped>\n",
              "    .dataframe tbody tr th:only-of-type {\n",
              "        vertical-align: middle;\n",
              "    }\n",
              "\n",
              "    .dataframe tbody tr th {\n",
              "        vertical-align: top;\n",
              "    }\n",
              "\n",
              "    .dataframe thead th {\n",
              "        text-align: right;\n",
              "    }\n",
              "</style>\n",
              "<table border=\"1\" class=\"dataframe\">\n",
              "  <thead>\n",
              "    <tr style=\"text-align: right;\">\n",
              "      <th></th>\n",
              "      <th>location</th>\n",
              "      <th>date</th>\n",
              "      <th>new_cases</th>\n",
              "      <th>new_cases_smoothed</th>\n",
              "      <th>total_cases</th>\n",
              "      <th>new_cases_per_million</th>\n",
              "      <th>total_cases_per_million</th>\n",
              "      <th>new_cases_smoothed_per_million</th>\n",
              "      <th>new_deaths</th>\n",
              "      <th>new_deaths_smoothed</th>\n",
              "      <th>total_deaths</th>\n",
              "      <th>new_deaths_per_million</th>\n",
              "      <th>total_deaths_per_million</th>\n",
              "      <th>new_deaths_smoothed_per_million</th>\n",
              "    </tr>\n",
              "  </thead>\n",
              "  <tbody>\n",
              "    <tr>\n",
              "      <th>0</th>\n",
              "      <td>Andorra</td>\n",
              "      <td>2022-07-25</td>\n",
              "      <td>1</td>\n",
              "      <td>NaN</td>\n",
              "      <td>1</td>\n",
              "      <td>12.653</td>\n",
              "      <td>12.653</td>\n",
              "      <td>NaN</td>\n",
              "      <td>NaN</td>\n",
              "      <td>NaN</td>\n",
              "      <td>NaN</td>\n",
              "      <td>NaN</td>\n",
              "      <td>NaN</td>\n",
              "      <td>NaN</td>\n",
              "    </tr>\n",
              "    <tr>\n",
              "      <th>1</th>\n",
              "      <td>Andorra</td>\n",
              "      <td>2022-07-26</td>\n",
              "      <td>2</td>\n",
              "      <td>NaN</td>\n",
              "      <td>3</td>\n",
              "      <td>25.306</td>\n",
              "      <td>37.958</td>\n",
              "      <td>NaN</td>\n",
              "      <td>NaN</td>\n",
              "      <td>NaN</td>\n",
              "      <td>NaN</td>\n",
              "      <td>NaN</td>\n",
              "      <td>NaN</td>\n",
              "      <td>NaN</td>\n",
              "    </tr>\n",
              "    <tr>\n",
              "      <th>2</th>\n",
              "      <td>Argentina</td>\n",
              "      <td>2022-05-27</td>\n",
              "      <td>2</td>\n",
              "      <td>NaN</td>\n",
              "      <td>2</td>\n",
              "      <td>0.044</td>\n",
              "      <td>0.044</td>\n",
              "      <td>NaN</td>\n",
              "      <td>NaN</td>\n",
              "      <td>NaN</td>\n",
              "      <td>NaN</td>\n",
              "      <td>NaN</td>\n",
              "      <td>NaN</td>\n",
              "      <td>NaN</td>\n",
              "    </tr>\n",
              "    <tr>\n",
              "      <th>3</th>\n",
              "      <td>Argentina</td>\n",
              "      <td>2022-05-28</td>\n",
              "      <td>0</td>\n",
              "      <td>NaN</td>\n",
              "      <td>2</td>\n",
              "      <td>0.000</td>\n",
              "      <td>0.044</td>\n",
              "      <td>NaN</td>\n",
              "      <td>NaN</td>\n",
              "      <td>NaN</td>\n",
              "      <td>NaN</td>\n",
              "      <td>NaN</td>\n",
              "      <td>NaN</td>\n",
              "      <td>NaN</td>\n",
              "    </tr>\n",
              "    <tr>\n",
              "      <th>4</th>\n",
              "      <td>Argentina</td>\n",
              "      <td>2022-05-29</td>\n",
              "      <td>0</td>\n",
              "      <td>NaN</td>\n",
              "      <td>2</td>\n",
              "      <td>0.000</td>\n",
              "      <td>0.044</td>\n",
              "      <td>NaN</td>\n",
              "      <td>NaN</td>\n",
              "      <td>NaN</td>\n",
              "      <td>NaN</td>\n",
              "      <td>NaN</td>\n",
              "      <td>NaN</td>\n",
              "      <td>NaN</td>\n",
              "    </tr>\n",
              "  </tbody>\n",
              "</table>\n",
              "</div>\n",
              "      <button class=\"colab-df-convert\" onclick=\"convertToInteractive('df-1f9eaf63-3827-4aef-9d86-750c32b54f42')\"\n",
              "              title=\"Convert this dataframe to an interactive table.\"\n",
              "              style=\"display:none;\">\n",
              "        \n",
              "  <svg xmlns=\"http://www.w3.org/2000/svg\" height=\"24px\"viewBox=\"0 0 24 24\"\n",
              "       width=\"24px\">\n",
              "    <path d=\"M0 0h24v24H0V0z\" fill=\"none\"/>\n",
              "    <path d=\"M18.56 5.44l.94 2.06.94-2.06 2.06-.94-2.06-.94-.94-2.06-.94 2.06-2.06.94zm-11 1L8.5 8.5l.94-2.06 2.06-.94-2.06-.94L8.5 2.5l-.94 2.06-2.06.94zm10 10l.94 2.06.94-2.06 2.06-.94-2.06-.94-.94-2.06-.94 2.06-2.06.94z\"/><path d=\"M17.41 7.96l-1.37-1.37c-.4-.4-.92-.59-1.43-.59-.52 0-1.04.2-1.43.59L10.3 9.45l-7.72 7.72c-.78.78-.78 2.05 0 2.83L4 21.41c.39.39.9.59 1.41.59.51 0 1.02-.2 1.41-.59l7.78-7.78 2.81-2.81c.8-.78.8-2.07 0-2.86zM5.41 20L4 18.59l7.72-7.72 1.47 1.35L5.41 20z\"/>\n",
              "  </svg>\n",
              "      </button>\n",
              "      \n",
              "  <style>\n",
              "    .colab-df-container {\n",
              "      display:flex;\n",
              "      flex-wrap:wrap;\n",
              "      gap: 12px;\n",
              "    }\n",
              "\n",
              "    .colab-df-convert {\n",
              "      background-color: #E8F0FE;\n",
              "      border: none;\n",
              "      border-radius: 50%;\n",
              "      cursor: pointer;\n",
              "      display: none;\n",
              "      fill: #1967D2;\n",
              "      height: 32px;\n",
              "      padding: 0 0 0 0;\n",
              "      width: 32px;\n",
              "    }\n",
              "\n",
              "    .colab-df-convert:hover {\n",
              "      background-color: #E2EBFA;\n",
              "      box-shadow: 0px 1px 2px rgba(60, 64, 67, 0.3), 0px 1px 3px 1px rgba(60, 64, 67, 0.15);\n",
              "      fill: #174EA6;\n",
              "    }\n",
              "\n",
              "    [theme=dark] .colab-df-convert {\n",
              "      background-color: #3B4455;\n",
              "      fill: #D2E3FC;\n",
              "    }\n",
              "\n",
              "    [theme=dark] .colab-df-convert:hover {\n",
              "      background-color: #434B5C;\n",
              "      box-shadow: 0px 1px 3px 1px rgba(0, 0, 0, 0.15);\n",
              "      filter: drop-shadow(0px 1px 2px rgba(0, 0, 0, 0.3));\n",
              "      fill: #FFFFFF;\n",
              "    }\n",
              "  </style>\n",
              "\n",
              "      <script>\n",
              "        const buttonEl =\n",
              "          document.querySelector('#df-1f9eaf63-3827-4aef-9d86-750c32b54f42 button.colab-df-convert');\n",
              "        buttonEl.style.display =\n",
              "          google.colab.kernel.accessAllowed ? 'block' : 'none';\n",
              "\n",
              "        async function convertToInteractive(key) {\n",
              "          const element = document.querySelector('#df-1f9eaf63-3827-4aef-9d86-750c32b54f42');\n",
              "          const dataTable =\n",
              "            await google.colab.kernel.invokeFunction('convertToInteractive',\n",
              "                                                     [key], {});\n",
              "          if (!dataTable) return;\n",
              "\n",
              "          const docLinkHtml = 'Like what you see? Visit the ' +\n",
              "            '<a target=\"_blank\" href=https://colab.research.google.com/notebooks/data_table.ipynb>data table notebook</a>'\n",
              "            + ' to learn more about interactive tables.';\n",
              "          element.innerHTML = '';\n",
              "          dataTable['output_type'] = 'display_data';\n",
              "          await google.colab.output.renderOutput(dataTable, element);\n",
              "          const docLink = document.createElement('div');\n",
              "          docLink.innerHTML = docLinkHtml;\n",
              "          element.appendChild(docLink);\n",
              "        }\n",
              "      </script>\n",
              "    </div>\n",
              "  </div>\n",
              "  "
            ]
          },
          "metadata": {},
          "execution_count": 7
        }
      ]
    },
    {
      "cell_type": "code",
      "source": [
        "gps = pnd.read_csv(\"average-latitude-longitude-countries.csv\",sep=\",\")\n",
        "gps = gps.rename(columns={\"Country\": \"location\"})\n",
        "gps.head(100)"
      ],
      "metadata": {
        "colab": {
          "base_uri": "https://localhost:8080/",
          "height": 423
        },
        "id": "7jRFgh4WcLW3",
        "outputId": "0d745f59-2956-4841-ae4f-24e3b6ee8e9d"
      },
      "execution_count": 8,
      "outputs": [
        {
          "output_type": "execute_result",
          "data": {
            "text/plain": [
              "   ISO 3166 Country Code              location  Latitude  Longitude\n",
              "0                     AD               Andorra     42.50       1.50\n",
              "1                     AE  United Arab Emirates     24.00      54.00\n",
              "2                     AF           Afghanistan     33.00      65.00\n",
              "3                     AG   Antigua and Barbuda     17.05     -61.80\n",
              "4                     AI              Anguilla     18.25     -63.17\n",
              "..                   ...                   ...       ...        ...\n",
              "95                    HR               Croatia     45.17      15.50\n",
              "96                    HT                 Haiti     19.00     -72.42\n",
              "97                    HU               Hungary     47.00      20.00\n",
              "98                    ID             Indonesia     -5.00     120.00\n",
              "99                    IE               Ireland     53.00      -8.00\n",
              "\n",
              "[100 rows x 4 columns]"
            ],
            "text/html": [
              "\n",
              "  <div id=\"df-e41f5a3c-0320-4dc8-9795-1e3fc2af55c3\">\n",
              "    <div class=\"colab-df-container\">\n",
              "      <div>\n",
              "<style scoped>\n",
              "    .dataframe tbody tr th:only-of-type {\n",
              "        vertical-align: middle;\n",
              "    }\n",
              "\n",
              "    .dataframe tbody tr th {\n",
              "        vertical-align: top;\n",
              "    }\n",
              "\n",
              "    .dataframe thead th {\n",
              "        text-align: right;\n",
              "    }\n",
              "</style>\n",
              "<table border=\"1\" class=\"dataframe\">\n",
              "  <thead>\n",
              "    <tr style=\"text-align: right;\">\n",
              "      <th></th>\n",
              "      <th>ISO 3166 Country Code</th>\n",
              "      <th>location</th>\n",
              "      <th>Latitude</th>\n",
              "      <th>Longitude</th>\n",
              "    </tr>\n",
              "  </thead>\n",
              "  <tbody>\n",
              "    <tr>\n",
              "      <th>0</th>\n",
              "      <td>AD</td>\n",
              "      <td>Andorra</td>\n",
              "      <td>42.50</td>\n",
              "      <td>1.50</td>\n",
              "    </tr>\n",
              "    <tr>\n",
              "      <th>1</th>\n",
              "      <td>AE</td>\n",
              "      <td>United Arab Emirates</td>\n",
              "      <td>24.00</td>\n",
              "      <td>54.00</td>\n",
              "    </tr>\n",
              "    <tr>\n",
              "      <th>2</th>\n",
              "      <td>AF</td>\n",
              "      <td>Afghanistan</td>\n",
              "      <td>33.00</td>\n",
              "      <td>65.00</td>\n",
              "    </tr>\n",
              "    <tr>\n",
              "      <th>3</th>\n",
              "      <td>AG</td>\n",
              "      <td>Antigua and Barbuda</td>\n",
              "      <td>17.05</td>\n",
              "      <td>-61.80</td>\n",
              "    </tr>\n",
              "    <tr>\n",
              "      <th>4</th>\n",
              "      <td>AI</td>\n",
              "      <td>Anguilla</td>\n",
              "      <td>18.25</td>\n",
              "      <td>-63.17</td>\n",
              "    </tr>\n",
              "    <tr>\n",
              "      <th>...</th>\n",
              "      <td>...</td>\n",
              "      <td>...</td>\n",
              "      <td>...</td>\n",
              "      <td>...</td>\n",
              "    </tr>\n",
              "    <tr>\n",
              "      <th>95</th>\n",
              "      <td>HR</td>\n",
              "      <td>Croatia</td>\n",
              "      <td>45.17</td>\n",
              "      <td>15.50</td>\n",
              "    </tr>\n",
              "    <tr>\n",
              "      <th>96</th>\n",
              "      <td>HT</td>\n",
              "      <td>Haiti</td>\n",
              "      <td>19.00</td>\n",
              "      <td>-72.42</td>\n",
              "    </tr>\n",
              "    <tr>\n",
              "      <th>97</th>\n",
              "      <td>HU</td>\n",
              "      <td>Hungary</td>\n",
              "      <td>47.00</td>\n",
              "      <td>20.00</td>\n",
              "    </tr>\n",
              "    <tr>\n",
              "      <th>98</th>\n",
              "      <td>ID</td>\n",
              "      <td>Indonesia</td>\n",
              "      <td>-5.00</td>\n",
              "      <td>120.00</td>\n",
              "    </tr>\n",
              "    <tr>\n",
              "      <th>99</th>\n",
              "      <td>IE</td>\n",
              "      <td>Ireland</td>\n",
              "      <td>53.00</td>\n",
              "      <td>-8.00</td>\n",
              "    </tr>\n",
              "  </tbody>\n",
              "</table>\n",
              "<p>100 rows × 4 columns</p>\n",
              "</div>\n",
              "      <button class=\"colab-df-convert\" onclick=\"convertToInteractive('df-e41f5a3c-0320-4dc8-9795-1e3fc2af55c3')\"\n",
              "              title=\"Convert this dataframe to an interactive table.\"\n",
              "              style=\"display:none;\">\n",
              "        \n",
              "  <svg xmlns=\"http://www.w3.org/2000/svg\" height=\"24px\"viewBox=\"0 0 24 24\"\n",
              "       width=\"24px\">\n",
              "    <path d=\"M0 0h24v24H0V0z\" fill=\"none\"/>\n",
              "    <path d=\"M18.56 5.44l.94 2.06.94-2.06 2.06-.94-2.06-.94-.94-2.06-.94 2.06-2.06.94zm-11 1L8.5 8.5l.94-2.06 2.06-.94-2.06-.94L8.5 2.5l-.94 2.06-2.06.94zm10 10l.94 2.06.94-2.06 2.06-.94-2.06-.94-.94-2.06-.94 2.06-2.06.94z\"/><path d=\"M17.41 7.96l-1.37-1.37c-.4-.4-.92-.59-1.43-.59-.52 0-1.04.2-1.43.59L10.3 9.45l-7.72 7.72c-.78.78-.78 2.05 0 2.83L4 21.41c.39.39.9.59 1.41.59.51 0 1.02-.2 1.41-.59l7.78-7.78 2.81-2.81c.8-.78.8-2.07 0-2.86zM5.41 20L4 18.59l7.72-7.72 1.47 1.35L5.41 20z\"/>\n",
              "  </svg>\n",
              "      </button>\n",
              "      \n",
              "  <style>\n",
              "    .colab-df-container {\n",
              "      display:flex;\n",
              "      flex-wrap:wrap;\n",
              "      gap: 12px;\n",
              "    }\n",
              "\n",
              "    .colab-df-convert {\n",
              "      background-color: #E8F0FE;\n",
              "      border: none;\n",
              "      border-radius: 50%;\n",
              "      cursor: pointer;\n",
              "      display: none;\n",
              "      fill: #1967D2;\n",
              "      height: 32px;\n",
              "      padding: 0 0 0 0;\n",
              "      width: 32px;\n",
              "    }\n",
              "\n",
              "    .colab-df-convert:hover {\n",
              "      background-color: #E2EBFA;\n",
              "      box-shadow: 0px 1px 2px rgba(60, 64, 67, 0.3), 0px 1px 3px 1px rgba(60, 64, 67, 0.15);\n",
              "      fill: #174EA6;\n",
              "    }\n",
              "\n",
              "    [theme=dark] .colab-df-convert {\n",
              "      background-color: #3B4455;\n",
              "      fill: #D2E3FC;\n",
              "    }\n",
              "\n",
              "    [theme=dark] .colab-df-convert:hover {\n",
              "      background-color: #434B5C;\n",
              "      box-shadow: 0px 1px 3px 1px rgba(0, 0, 0, 0.15);\n",
              "      filter: drop-shadow(0px 1px 2px rgba(0, 0, 0, 0.3));\n",
              "      fill: #FFFFFF;\n",
              "    }\n",
              "  </style>\n",
              "\n",
              "      <script>\n",
              "        const buttonEl =\n",
              "          document.querySelector('#df-e41f5a3c-0320-4dc8-9795-1e3fc2af55c3 button.colab-df-convert');\n",
              "        buttonEl.style.display =\n",
              "          google.colab.kernel.accessAllowed ? 'block' : 'none';\n",
              "\n",
              "        async function convertToInteractive(key) {\n",
              "          const element = document.querySelector('#df-e41f5a3c-0320-4dc8-9795-1e3fc2af55c3');\n",
              "          const dataTable =\n",
              "            await google.colab.kernel.invokeFunction('convertToInteractive',\n",
              "                                                     [key], {});\n",
              "          if (!dataTable) return;\n",
              "\n",
              "          const docLinkHtml = 'Like what you see? Visit the ' +\n",
              "            '<a target=\"_blank\" href=https://colab.research.google.com/notebooks/data_table.ipynb>data table notebook</a>'\n",
              "            + ' to learn more about interactive tables.';\n",
              "          element.innerHTML = '';\n",
              "          dataTable['output_type'] = 'display_data';\n",
              "          await google.colab.output.renderOutput(dataTable, element);\n",
              "          const docLink = document.createElement('div');\n",
              "          docLink.innerHTML = docLinkHtml;\n",
              "          element.appendChild(docLink);\n",
              "        }\n",
              "      </script>\n",
              "    </div>\n",
              "  </div>\n",
              "  "
            ]
          },
          "metadata": {},
          "execution_count": 8
        }
      ]
    },
    {
      "cell_type": "markdown",
      "source": [
        "## Adding GPS Coordinates"
      ],
      "metadata": {
        "id": "Z6j3AxlphFXR"
      }
    },
    {
      "cell_type": "code",
      "source": [
        "datas_merged = pnd.merge(datas, gps, on=\"location\")\n",
        "datas_merged.head()"
      ],
      "metadata": {
        "colab": {
          "base_uri": "https://localhost:8080/",
          "height": 409
        },
        "id": "J9o5ZjbscYVH",
        "outputId": "58a99856-077d-4824-ebc2-82975c786766"
      },
      "execution_count": 9,
      "outputs": [
        {
          "output_type": "execute_result",
          "data": {
            "text/plain": [
              "    location        date  new_cases  new_cases_smoothed  total_cases  \\\n",
              "0    Andorra  2022-07-25          1                 NaN            1   \n",
              "1    Andorra  2022-07-26          2                 NaN            3   \n",
              "2  Argentina  2022-05-27          2                 NaN            2   \n",
              "3  Argentina  2022-05-28          0                 NaN            2   \n",
              "4  Argentina  2022-05-29          0                 NaN            2   \n",
              "\n",
              "   new_cases_per_million  total_cases_per_million  \\\n",
              "0                 12.653                   12.653   \n",
              "1                 25.306                   37.958   \n",
              "2                  0.044                    0.044   \n",
              "3                  0.000                    0.044   \n",
              "4                  0.000                    0.044   \n",
              "\n",
              "   new_cases_smoothed_per_million  new_deaths  new_deaths_smoothed  \\\n",
              "0                             NaN         NaN                  NaN   \n",
              "1                             NaN         NaN                  NaN   \n",
              "2                             NaN         NaN                  NaN   \n",
              "3                             NaN         NaN                  NaN   \n",
              "4                             NaN         NaN                  NaN   \n",
              "\n",
              "   total_deaths  new_deaths_per_million  total_deaths_per_million  \\\n",
              "0           NaN                     NaN                       NaN   \n",
              "1           NaN                     NaN                       NaN   \n",
              "2           NaN                     NaN                       NaN   \n",
              "3           NaN                     NaN                       NaN   \n",
              "4           NaN                     NaN                       NaN   \n",
              "\n",
              "   new_deaths_smoothed_per_million ISO 3166 Country Code  Latitude  Longitude  \n",
              "0                              NaN                    AD      42.5        1.5  \n",
              "1                              NaN                    AD      42.5        1.5  \n",
              "2                              NaN                    AR     -34.0      -64.0  \n",
              "3                              NaN                    AR     -34.0      -64.0  \n",
              "4                              NaN                    AR     -34.0      -64.0  "
            ],
            "text/html": [
              "\n",
              "  <div id=\"df-dd3a373b-2b5b-4713-9d6e-f61e3cbaae85\">\n",
              "    <div class=\"colab-df-container\">\n",
              "      <div>\n",
              "<style scoped>\n",
              "    .dataframe tbody tr th:only-of-type {\n",
              "        vertical-align: middle;\n",
              "    }\n",
              "\n",
              "    .dataframe tbody tr th {\n",
              "        vertical-align: top;\n",
              "    }\n",
              "\n",
              "    .dataframe thead th {\n",
              "        text-align: right;\n",
              "    }\n",
              "</style>\n",
              "<table border=\"1\" class=\"dataframe\">\n",
              "  <thead>\n",
              "    <tr style=\"text-align: right;\">\n",
              "      <th></th>\n",
              "      <th>location</th>\n",
              "      <th>date</th>\n",
              "      <th>new_cases</th>\n",
              "      <th>new_cases_smoothed</th>\n",
              "      <th>total_cases</th>\n",
              "      <th>new_cases_per_million</th>\n",
              "      <th>total_cases_per_million</th>\n",
              "      <th>new_cases_smoothed_per_million</th>\n",
              "      <th>new_deaths</th>\n",
              "      <th>new_deaths_smoothed</th>\n",
              "      <th>total_deaths</th>\n",
              "      <th>new_deaths_per_million</th>\n",
              "      <th>total_deaths_per_million</th>\n",
              "      <th>new_deaths_smoothed_per_million</th>\n",
              "      <th>ISO 3166 Country Code</th>\n",
              "      <th>Latitude</th>\n",
              "      <th>Longitude</th>\n",
              "    </tr>\n",
              "  </thead>\n",
              "  <tbody>\n",
              "    <tr>\n",
              "      <th>0</th>\n",
              "      <td>Andorra</td>\n",
              "      <td>2022-07-25</td>\n",
              "      <td>1</td>\n",
              "      <td>NaN</td>\n",
              "      <td>1</td>\n",
              "      <td>12.653</td>\n",
              "      <td>12.653</td>\n",
              "      <td>NaN</td>\n",
              "      <td>NaN</td>\n",
              "      <td>NaN</td>\n",
              "      <td>NaN</td>\n",
              "      <td>NaN</td>\n",
              "      <td>NaN</td>\n",
              "      <td>NaN</td>\n",
              "      <td>AD</td>\n",
              "      <td>42.5</td>\n",
              "      <td>1.5</td>\n",
              "    </tr>\n",
              "    <tr>\n",
              "      <th>1</th>\n",
              "      <td>Andorra</td>\n",
              "      <td>2022-07-26</td>\n",
              "      <td>2</td>\n",
              "      <td>NaN</td>\n",
              "      <td>3</td>\n",
              "      <td>25.306</td>\n",
              "      <td>37.958</td>\n",
              "      <td>NaN</td>\n",
              "      <td>NaN</td>\n",
              "      <td>NaN</td>\n",
              "      <td>NaN</td>\n",
              "      <td>NaN</td>\n",
              "      <td>NaN</td>\n",
              "      <td>NaN</td>\n",
              "      <td>AD</td>\n",
              "      <td>42.5</td>\n",
              "      <td>1.5</td>\n",
              "    </tr>\n",
              "    <tr>\n",
              "      <th>2</th>\n",
              "      <td>Argentina</td>\n",
              "      <td>2022-05-27</td>\n",
              "      <td>2</td>\n",
              "      <td>NaN</td>\n",
              "      <td>2</td>\n",
              "      <td>0.044</td>\n",
              "      <td>0.044</td>\n",
              "      <td>NaN</td>\n",
              "      <td>NaN</td>\n",
              "      <td>NaN</td>\n",
              "      <td>NaN</td>\n",
              "      <td>NaN</td>\n",
              "      <td>NaN</td>\n",
              "      <td>NaN</td>\n",
              "      <td>AR</td>\n",
              "      <td>-34.0</td>\n",
              "      <td>-64.0</td>\n",
              "    </tr>\n",
              "    <tr>\n",
              "      <th>3</th>\n",
              "      <td>Argentina</td>\n",
              "      <td>2022-05-28</td>\n",
              "      <td>0</td>\n",
              "      <td>NaN</td>\n",
              "      <td>2</td>\n",
              "      <td>0.000</td>\n",
              "      <td>0.044</td>\n",
              "      <td>NaN</td>\n",
              "      <td>NaN</td>\n",
              "      <td>NaN</td>\n",
              "      <td>NaN</td>\n",
              "      <td>NaN</td>\n",
              "      <td>NaN</td>\n",
              "      <td>NaN</td>\n",
              "      <td>AR</td>\n",
              "      <td>-34.0</td>\n",
              "      <td>-64.0</td>\n",
              "    </tr>\n",
              "    <tr>\n",
              "      <th>4</th>\n",
              "      <td>Argentina</td>\n",
              "      <td>2022-05-29</td>\n",
              "      <td>0</td>\n",
              "      <td>NaN</td>\n",
              "      <td>2</td>\n",
              "      <td>0.000</td>\n",
              "      <td>0.044</td>\n",
              "      <td>NaN</td>\n",
              "      <td>NaN</td>\n",
              "      <td>NaN</td>\n",
              "      <td>NaN</td>\n",
              "      <td>NaN</td>\n",
              "      <td>NaN</td>\n",
              "      <td>NaN</td>\n",
              "      <td>AR</td>\n",
              "      <td>-34.0</td>\n",
              "      <td>-64.0</td>\n",
              "    </tr>\n",
              "  </tbody>\n",
              "</table>\n",
              "</div>\n",
              "      <button class=\"colab-df-convert\" onclick=\"convertToInteractive('df-dd3a373b-2b5b-4713-9d6e-f61e3cbaae85')\"\n",
              "              title=\"Convert this dataframe to an interactive table.\"\n",
              "              style=\"display:none;\">\n",
              "        \n",
              "  <svg xmlns=\"http://www.w3.org/2000/svg\" height=\"24px\"viewBox=\"0 0 24 24\"\n",
              "       width=\"24px\">\n",
              "    <path d=\"M0 0h24v24H0V0z\" fill=\"none\"/>\n",
              "    <path d=\"M18.56 5.44l.94 2.06.94-2.06 2.06-.94-2.06-.94-.94-2.06-.94 2.06-2.06.94zm-11 1L8.5 8.5l.94-2.06 2.06-.94-2.06-.94L8.5 2.5l-.94 2.06-2.06.94zm10 10l.94 2.06.94-2.06 2.06-.94-2.06-.94-.94-2.06-.94 2.06-2.06.94z\"/><path d=\"M17.41 7.96l-1.37-1.37c-.4-.4-.92-.59-1.43-.59-.52 0-1.04.2-1.43.59L10.3 9.45l-7.72 7.72c-.78.78-.78 2.05 0 2.83L4 21.41c.39.39.9.59 1.41.59.51 0 1.02-.2 1.41-.59l7.78-7.78 2.81-2.81c.8-.78.8-2.07 0-2.86zM5.41 20L4 18.59l7.72-7.72 1.47 1.35L5.41 20z\"/>\n",
              "  </svg>\n",
              "      </button>\n",
              "      \n",
              "  <style>\n",
              "    .colab-df-container {\n",
              "      display:flex;\n",
              "      flex-wrap:wrap;\n",
              "      gap: 12px;\n",
              "    }\n",
              "\n",
              "    .colab-df-convert {\n",
              "      background-color: #E8F0FE;\n",
              "      border: none;\n",
              "      border-radius: 50%;\n",
              "      cursor: pointer;\n",
              "      display: none;\n",
              "      fill: #1967D2;\n",
              "      height: 32px;\n",
              "      padding: 0 0 0 0;\n",
              "      width: 32px;\n",
              "    }\n",
              "\n",
              "    .colab-df-convert:hover {\n",
              "      background-color: #E2EBFA;\n",
              "      box-shadow: 0px 1px 2px rgba(60, 64, 67, 0.3), 0px 1px 3px 1px rgba(60, 64, 67, 0.15);\n",
              "      fill: #174EA6;\n",
              "    }\n",
              "\n",
              "    [theme=dark] .colab-df-convert {\n",
              "      background-color: #3B4455;\n",
              "      fill: #D2E3FC;\n",
              "    }\n",
              "\n",
              "    [theme=dark] .colab-df-convert:hover {\n",
              "      background-color: #434B5C;\n",
              "      box-shadow: 0px 1px 3px 1px rgba(0, 0, 0, 0.15);\n",
              "      filter: drop-shadow(0px 1px 2px rgba(0, 0, 0, 0.3));\n",
              "      fill: #FFFFFF;\n",
              "    }\n",
              "  </style>\n",
              "\n",
              "      <script>\n",
              "        const buttonEl =\n",
              "          document.querySelector('#df-dd3a373b-2b5b-4713-9d6e-f61e3cbaae85 button.colab-df-convert');\n",
              "        buttonEl.style.display =\n",
              "          google.colab.kernel.accessAllowed ? 'block' : 'none';\n",
              "\n",
              "        async function convertToInteractive(key) {\n",
              "          const element = document.querySelector('#df-dd3a373b-2b5b-4713-9d6e-f61e3cbaae85');\n",
              "          const dataTable =\n",
              "            await google.colab.kernel.invokeFunction('convertToInteractive',\n",
              "                                                     [key], {});\n",
              "          if (!dataTable) return;\n",
              "\n",
              "          const docLinkHtml = 'Like what you see? Visit the ' +\n",
              "            '<a target=\"_blank\" href=https://colab.research.google.com/notebooks/data_table.ipynb>data table notebook</a>'\n",
              "            + ' to learn more about interactive tables.';\n",
              "          element.innerHTML = '';\n",
              "          dataTable['output_type'] = 'display_data';\n",
              "          await google.colab.output.renderOutput(dataTable, element);\n",
              "          const docLink = document.createElement('div');\n",
              "          docLink.innerHTML = docLinkHtml;\n",
              "          element.appendChild(docLink);\n",
              "        }\n",
              "      </script>\n",
              "    </div>\n",
              "  </div>\n",
              "  "
            ]
          },
          "metadata": {},
          "execution_count": 9
        }
      ]
    },
    {
      "cell_type": "markdown",
      "source": [
        "## France Analysis"
      ],
      "metadata": {
        "id": "QhxklOrRl4mA"
      }
    },
    {
      "cell_type": "code",
      "source": [
        "france_datas = datas_merged[datas_merged['location']==\"France\"]"
      ],
      "metadata": {
        "id": "s7QSF8xUjCbc"
      },
      "execution_count": 10,
      "outputs": []
    },
    {
      "cell_type": "code",
      "source": [
        "france_datas.head()"
      ],
      "metadata": {
        "colab": {
          "base_uri": "https://localhost:8080/",
          "height": 409
        },
        "id": "WV-qE24Ruju6",
        "outputId": "020a1caf-d930-4fc2-af8b-2de42510481d"
      },
      "execution_count": 11,
      "outputs": [
        {
          "output_type": "execute_result",
          "data": {
            "text/plain": [
              "    location        date  new_cases  new_cases_smoothed  total_cases  \\\n",
              "804   France  2022-05-19          1                 NaN            1   \n",
              "805   France  2022-05-20          0                 NaN            1   \n",
              "806   France  2022-05-21          0                 NaN            1   \n",
              "807   France  2022-05-22          0                 NaN            1   \n",
              "808   France  2022-05-23          2                 NaN            3   \n",
              "\n",
              "     new_cases_per_million  total_cases_per_million  \\\n",
              "804                  0.015                    0.015   \n",
              "805                  0.000                    0.015   \n",
              "806                  0.000                    0.015   \n",
              "807                  0.000                    0.015   \n",
              "808                  0.030                    0.044   \n",
              "\n",
              "     new_cases_smoothed_per_million  new_deaths  new_deaths_smoothed  \\\n",
              "804                             NaN         NaN                  NaN   \n",
              "805                             NaN         NaN                  NaN   \n",
              "806                             NaN         NaN                  NaN   \n",
              "807                             NaN         NaN                  NaN   \n",
              "808                             NaN         NaN                  NaN   \n",
              "\n",
              "     total_deaths  new_deaths_per_million  total_deaths_per_million  \\\n",
              "804           NaN                     NaN                       NaN   \n",
              "805           NaN                     NaN                       NaN   \n",
              "806           NaN                     NaN                       NaN   \n",
              "807           NaN                     NaN                       NaN   \n",
              "808           NaN                     NaN                       NaN   \n",
              "\n",
              "     new_deaths_smoothed_per_million ISO 3166 Country Code  Latitude  \\\n",
              "804                              NaN                    FR      46.0   \n",
              "805                              NaN                    FR      46.0   \n",
              "806                              NaN                    FR      46.0   \n",
              "807                              NaN                    FR      46.0   \n",
              "808                              NaN                    FR      46.0   \n",
              "\n",
              "     Longitude  \n",
              "804        2.0  \n",
              "805        2.0  \n",
              "806        2.0  \n",
              "807        2.0  \n",
              "808        2.0  "
            ],
            "text/html": [
              "\n",
              "  <div id=\"df-29468aa2-abc8-4759-84b6-dbe31963f629\">\n",
              "    <div class=\"colab-df-container\">\n",
              "      <div>\n",
              "<style scoped>\n",
              "    .dataframe tbody tr th:only-of-type {\n",
              "        vertical-align: middle;\n",
              "    }\n",
              "\n",
              "    .dataframe tbody tr th {\n",
              "        vertical-align: top;\n",
              "    }\n",
              "\n",
              "    .dataframe thead th {\n",
              "        text-align: right;\n",
              "    }\n",
              "</style>\n",
              "<table border=\"1\" class=\"dataframe\">\n",
              "  <thead>\n",
              "    <tr style=\"text-align: right;\">\n",
              "      <th></th>\n",
              "      <th>location</th>\n",
              "      <th>date</th>\n",
              "      <th>new_cases</th>\n",
              "      <th>new_cases_smoothed</th>\n",
              "      <th>total_cases</th>\n",
              "      <th>new_cases_per_million</th>\n",
              "      <th>total_cases_per_million</th>\n",
              "      <th>new_cases_smoothed_per_million</th>\n",
              "      <th>new_deaths</th>\n",
              "      <th>new_deaths_smoothed</th>\n",
              "      <th>total_deaths</th>\n",
              "      <th>new_deaths_per_million</th>\n",
              "      <th>total_deaths_per_million</th>\n",
              "      <th>new_deaths_smoothed_per_million</th>\n",
              "      <th>ISO 3166 Country Code</th>\n",
              "      <th>Latitude</th>\n",
              "      <th>Longitude</th>\n",
              "    </tr>\n",
              "  </thead>\n",
              "  <tbody>\n",
              "    <tr>\n",
              "      <th>804</th>\n",
              "      <td>France</td>\n",
              "      <td>2022-05-19</td>\n",
              "      <td>1</td>\n",
              "      <td>NaN</td>\n",
              "      <td>1</td>\n",
              "      <td>0.015</td>\n",
              "      <td>0.015</td>\n",
              "      <td>NaN</td>\n",
              "      <td>NaN</td>\n",
              "      <td>NaN</td>\n",
              "      <td>NaN</td>\n",
              "      <td>NaN</td>\n",
              "      <td>NaN</td>\n",
              "      <td>NaN</td>\n",
              "      <td>FR</td>\n",
              "      <td>46.0</td>\n",
              "      <td>2.0</td>\n",
              "    </tr>\n",
              "    <tr>\n",
              "      <th>805</th>\n",
              "      <td>France</td>\n",
              "      <td>2022-05-20</td>\n",
              "      <td>0</td>\n",
              "      <td>NaN</td>\n",
              "      <td>1</td>\n",
              "      <td>0.000</td>\n",
              "      <td>0.015</td>\n",
              "      <td>NaN</td>\n",
              "      <td>NaN</td>\n",
              "      <td>NaN</td>\n",
              "      <td>NaN</td>\n",
              "      <td>NaN</td>\n",
              "      <td>NaN</td>\n",
              "      <td>NaN</td>\n",
              "      <td>FR</td>\n",
              "      <td>46.0</td>\n",
              "      <td>2.0</td>\n",
              "    </tr>\n",
              "    <tr>\n",
              "      <th>806</th>\n",
              "      <td>France</td>\n",
              "      <td>2022-05-21</td>\n",
              "      <td>0</td>\n",
              "      <td>NaN</td>\n",
              "      <td>1</td>\n",
              "      <td>0.000</td>\n",
              "      <td>0.015</td>\n",
              "      <td>NaN</td>\n",
              "      <td>NaN</td>\n",
              "      <td>NaN</td>\n",
              "      <td>NaN</td>\n",
              "      <td>NaN</td>\n",
              "      <td>NaN</td>\n",
              "      <td>NaN</td>\n",
              "      <td>FR</td>\n",
              "      <td>46.0</td>\n",
              "      <td>2.0</td>\n",
              "    </tr>\n",
              "    <tr>\n",
              "      <th>807</th>\n",
              "      <td>France</td>\n",
              "      <td>2022-05-22</td>\n",
              "      <td>0</td>\n",
              "      <td>NaN</td>\n",
              "      <td>1</td>\n",
              "      <td>0.000</td>\n",
              "      <td>0.015</td>\n",
              "      <td>NaN</td>\n",
              "      <td>NaN</td>\n",
              "      <td>NaN</td>\n",
              "      <td>NaN</td>\n",
              "      <td>NaN</td>\n",
              "      <td>NaN</td>\n",
              "      <td>NaN</td>\n",
              "      <td>FR</td>\n",
              "      <td>46.0</td>\n",
              "      <td>2.0</td>\n",
              "    </tr>\n",
              "    <tr>\n",
              "      <th>808</th>\n",
              "      <td>France</td>\n",
              "      <td>2022-05-23</td>\n",
              "      <td>2</td>\n",
              "      <td>NaN</td>\n",
              "      <td>3</td>\n",
              "      <td>0.030</td>\n",
              "      <td>0.044</td>\n",
              "      <td>NaN</td>\n",
              "      <td>NaN</td>\n",
              "      <td>NaN</td>\n",
              "      <td>NaN</td>\n",
              "      <td>NaN</td>\n",
              "      <td>NaN</td>\n",
              "      <td>NaN</td>\n",
              "      <td>FR</td>\n",
              "      <td>46.0</td>\n",
              "      <td>2.0</td>\n",
              "    </tr>\n",
              "  </tbody>\n",
              "</table>\n",
              "</div>\n",
              "      <button class=\"colab-df-convert\" onclick=\"convertToInteractive('df-29468aa2-abc8-4759-84b6-dbe31963f629')\"\n",
              "              title=\"Convert this dataframe to an interactive table.\"\n",
              "              style=\"display:none;\">\n",
              "        \n",
              "  <svg xmlns=\"http://www.w3.org/2000/svg\" height=\"24px\"viewBox=\"0 0 24 24\"\n",
              "       width=\"24px\">\n",
              "    <path d=\"M0 0h24v24H0V0z\" fill=\"none\"/>\n",
              "    <path d=\"M18.56 5.44l.94 2.06.94-2.06 2.06-.94-2.06-.94-.94-2.06-.94 2.06-2.06.94zm-11 1L8.5 8.5l.94-2.06 2.06-.94-2.06-.94L8.5 2.5l-.94 2.06-2.06.94zm10 10l.94 2.06.94-2.06 2.06-.94-2.06-.94-.94-2.06-.94 2.06-2.06.94z\"/><path d=\"M17.41 7.96l-1.37-1.37c-.4-.4-.92-.59-1.43-.59-.52 0-1.04.2-1.43.59L10.3 9.45l-7.72 7.72c-.78.78-.78 2.05 0 2.83L4 21.41c.39.39.9.59 1.41.59.51 0 1.02-.2 1.41-.59l7.78-7.78 2.81-2.81c.8-.78.8-2.07 0-2.86zM5.41 20L4 18.59l7.72-7.72 1.47 1.35L5.41 20z\"/>\n",
              "  </svg>\n",
              "      </button>\n",
              "      \n",
              "  <style>\n",
              "    .colab-df-container {\n",
              "      display:flex;\n",
              "      flex-wrap:wrap;\n",
              "      gap: 12px;\n",
              "    }\n",
              "\n",
              "    .colab-df-convert {\n",
              "      background-color: #E8F0FE;\n",
              "      border: none;\n",
              "      border-radius: 50%;\n",
              "      cursor: pointer;\n",
              "      display: none;\n",
              "      fill: #1967D2;\n",
              "      height: 32px;\n",
              "      padding: 0 0 0 0;\n",
              "      width: 32px;\n",
              "    }\n",
              "\n",
              "    .colab-df-convert:hover {\n",
              "      background-color: #E2EBFA;\n",
              "      box-shadow: 0px 1px 2px rgba(60, 64, 67, 0.3), 0px 1px 3px 1px rgba(60, 64, 67, 0.15);\n",
              "      fill: #174EA6;\n",
              "    }\n",
              "\n",
              "    [theme=dark] .colab-df-convert {\n",
              "      background-color: #3B4455;\n",
              "      fill: #D2E3FC;\n",
              "    }\n",
              "\n",
              "    [theme=dark] .colab-df-convert:hover {\n",
              "      background-color: #434B5C;\n",
              "      box-shadow: 0px 1px 3px 1px rgba(0, 0, 0, 0.15);\n",
              "      filter: drop-shadow(0px 1px 2px rgba(0, 0, 0, 0.3));\n",
              "      fill: #FFFFFF;\n",
              "    }\n",
              "  </style>\n",
              "\n",
              "      <script>\n",
              "        const buttonEl =\n",
              "          document.querySelector('#df-29468aa2-abc8-4759-84b6-dbe31963f629 button.colab-df-convert');\n",
              "        buttonEl.style.display =\n",
              "          google.colab.kernel.accessAllowed ? 'block' : 'none';\n",
              "\n",
              "        async function convertToInteractive(key) {\n",
              "          const element = document.querySelector('#df-29468aa2-abc8-4759-84b6-dbe31963f629');\n",
              "          const dataTable =\n",
              "            await google.colab.kernel.invokeFunction('convertToInteractive',\n",
              "                                                     [key], {});\n",
              "          if (!dataTable) return;\n",
              "\n",
              "          const docLinkHtml = 'Like what you see? Visit the ' +\n",
              "            '<a target=\"_blank\" href=https://colab.research.google.com/notebooks/data_table.ipynb>data table notebook</a>'\n",
              "            + ' to learn more about interactive tables.';\n",
              "          element.innerHTML = '';\n",
              "          dataTable['output_type'] = 'display_data';\n",
              "          await google.colab.output.renderOutput(dataTable, element);\n",
              "          const docLink = document.createElement('div');\n",
              "          docLink.innerHTML = docLinkHtml;\n",
              "          element.appendChild(docLink);\n",
              "        }\n",
              "      </script>\n",
              "    </div>\n",
              "  </div>\n",
              "  "
            ]
          },
          "metadata": {},
          "execution_count": 11
        }
      ]
    },
    {
      "cell_type": "code",
      "source": [
        "france_datas.info()"
      ],
      "metadata": {
        "colab": {
          "base_uri": "https://localhost:8080/"
        },
        "id": "YLsicUFXQIQX",
        "outputId": "272a57c9-41c8-45bb-a0e6-6d8d4042764c"
      },
      "execution_count": 12,
      "outputs": [
        {
          "output_type": "stream",
          "name": "stdout",
          "text": [
            "<class 'pandas.core.frame.DataFrame'>\n",
            "Int64Index: 76 entries, 804 to 879\n",
            "Data columns (total 17 columns):\n",
            " #   Column                           Non-Null Count  Dtype  \n",
            "---  ------                           --------------  -----  \n",
            " 0   location                         76 non-null     object \n",
            " 1   date                             76 non-null     object \n",
            " 2   new_cases                        76 non-null     int64  \n",
            " 3   new_cases_smoothed               70 non-null     float64\n",
            " 4   total_cases                      76 non-null     int64  \n",
            " 5   new_cases_per_million            76 non-null     float64\n",
            " 6   total_cases_per_million          76 non-null     float64\n",
            " 7   new_cases_smoothed_per_million   70 non-null     float64\n",
            " 8   new_deaths                       0 non-null      float64\n",
            " 9   new_deaths_smoothed              0 non-null      float64\n",
            " 10  total_deaths                     0 non-null      float64\n",
            " 11  new_deaths_per_million           0 non-null      float64\n",
            " 12  total_deaths_per_million         0 non-null      float64\n",
            " 13  new_deaths_smoothed_per_million  0 non-null      float64\n",
            " 14  ISO 3166 Country Code            76 non-null     object \n",
            " 15  Latitude                         76 non-null     float64\n",
            " 16  Longitude                        76 non-null     float64\n",
            "dtypes: float64(12), int64(2), object(3)\n",
            "memory usage: 10.7+ KB\n"
          ]
        }
      ]
    },
    {
      "cell_type": "code",
      "source": [
        "france_datas['date'].min()"
      ],
      "metadata": {
        "colab": {
          "base_uri": "https://localhost:8080/",
          "height": 36
        },
        "id": "7C_ZaUveQPtO",
        "outputId": "68ed9df4-db27-4762-d4e4-79afc9b38935"
      },
      "execution_count": 13,
      "outputs": [
        {
          "output_type": "execute_result",
          "data": {
            "text/plain": [
              "'2022-05-19'"
            ],
            "application/vnd.google.colaboratory.intrinsic+json": {
              "type": "string"
            }
          },
          "metadata": {},
          "execution_count": 13
        }
      ]
    },
    {
      "cell_type": "code",
      "source": [
        "france_datas['date'].max()"
      ],
      "metadata": {
        "colab": {
          "base_uri": "https://localhost:8080/",
          "height": 36
        },
        "id": "FoMY0XrZQXHF",
        "outputId": "ac463fc1-4ead-4275-f9b6-63cb053cd3ab"
      },
      "execution_count": 14,
      "outputs": [
        {
          "output_type": "execute_result",
          "data": {
            "text/plain": [
              "'2022-08-02'"
            ],
            "application/vnd.google.colaboratory.intrinsic+json": {
              "type": "string"
            }
          },
          "metadata": {},
          "execution_count": 14
        }
      ]
    },
    {
      "cell_type": "code",
      "source": [
        "france_datas.describe()"
      ],
      "metadata": {
        "colab": {
          "base_uri": "https://localhost:8080/",
          "height": 300
        },
        "id": "K0vMwpr9QrHX",
        "outputId": "36d0860e-80a0-419d-dbc2-31ed14ca3f7c"
      },
      "execution_count": 15,
      "outputs": [
        {
          "output_type": "execute_result",
          "data": {
            "text/plain": [
              "        new_cases  new_cases_smoothed  total_cases  new_cases_per_million  \\\n",
              "count   76.000000           70.000000    76.000000              76.000000   \n",
              "mean    29.486842           28.255143   594.565789               0.437368   \n",
              "std     80.758156           26.154774   652.774373               1.197812   \n",
              "min      0.000000            0.860000     1.000000               0.000000   \n",
              "25%      0.000000            6.467500    62.500000               0.000000   \n",
              "50%      0.000000           21.710000   331.000000               0.000000   \n",
              "75%      3.750000           31.860000   908.250000               0.055750   \n",
              "max    525.000000           93.430000  2241.000000               7.787000   \n",
              "\n",
              "       total_cases_per_million  new_cases_smoothed_per_million  new_deaths  \\\n",
              "count                76.000000                       70.000000         0.0   \n",
              "mean                  8.818487                        0.419114         NaN   \n",
              "std                   9.681922                        0.387929         NaN   \n",
              "min                   0.015000                        0.013000         NaN   \n",
              "25%                   0.927000                        0.095750         NaN   \n",
              "50%                   4.909000                        0.322000         NaN   \n",
              "75%                  13.470750                        0.473000         NaN   \n",
              "max                  33.238000                        1.386000         NaN   \n",
              "\n",
              "       new_deaths_smoothed  total_deaths  new_deaths_per_million  \\\n",
              "count                  0.0           0.0                     0.0   \n",
              "mean                   NaN           NaN                     NaN   \n",
              "std                    NaN           NaN                     NaN   \n",
              "min                    NaN           NaN                     NaN   \n",
              "25%                    NaN           NaN                     NaN   \n",
              "50%                    NaN           NaN                     NaN   \n",
              "75%                    NaN           NaN                     NaN   \n",
              "max                    NaN           NaN                     NaN   \n",
              "\n",
              "       total_deaths_per_million  new_deaths_smoothed_per_million  Latitude  \\\n",
              "count                       0.0                              0.0      76.0   \n",
              "mean                        NaN                              NaN      46.0   \n",
              "std                         NaN                              NaN       0.0   \n",
              "min                         NaN                              NaN      46.0   \n",
              "25%                         NaN                              NaN      46.0   \n",
              "50%                         NaN                              NaN      46.0   \n",
              "75%                         NaN                              NaN      46.0   \n",
              "max                         NaN                              NaN      46.0   \n",
              "\n",
              "       Longitude  \n",
              "count       76.0  \n",
              "mean         2.0  \n",
              "std          0.0  \n",
              "min          2.0  \n",
              "25%          2.0  \n",
              "50%          2.0  \n",
              "75%          2.0  \n",
              "max          2.0  "
            ],
            "text/html": [
              "\n",
              "  <div id=\"df-1e2f0998-4d29-485f-86ef-36df2bb3f511\">\n",
              "    <div class=\"colab-df-container\">\n",
              "      <div>\n",
              "<style scoped>\n",
              "    .dataframe tbody tr th:only-of-type {\n",
              "        vertical-align: middle;\n",
              "    }\n",
              "\n",
              "    .dataframe tbody tr th {\n",
              "        vertical-align: top;\n",
              "    }\n",
              "\n",
              "    .dataframe thead th {\n",
              "        text-align: right;\n",
              "    }\n",
              "</style>\n",
              "<table border=\"1\" class=\"dataframe\">\n",
              "  <thead>\n",
              "    <tr style=\"text-align: right;\">\n",
              "      <th></th>\n",
              "      <th>new_cases</th>\n",
              "      <th>new_cases_smoothed</th>\n",
              "      <th>total_cases</th>\n",
              "      <th>new_cases_per_million</th>\n",
              "      <th>total_cases_per_million</th>\n",
              "      <th>new_cases_smoothed_per_million</th>\n",
              "      <th>new_deaths</th>\n",
              "      <th>new_deaths_smoothed</th>\n",
              "      <th>total_deaths</th>\n",
              "      <th>new_deaths_per_million</th>\n",
              "      <th>total_deaths_per_million</th>\n",
              "      <th>new_deaths_smoothed_per_million</th>\n",
              "      <th>Latitude</th>\n",
              "      <th>Longitude</th>\n",
              "    </tr>\n",
              "  </thead>\n",
              "  <tbody>\n",
              "    <tr>\n",
              "      <th>count</th>\n",
              "      <td>76.000000</td>\n",
              "      <td>70.000000</td>\n",
              "      <td>76.000000</td>\n",
              "      <td>76.000000</td>\n",
              "      <td>76.000000</td>\n",
              "      <td>70.000000</td>\n",
              "      <td>0.0</td>\n",
              "      <td>0.0</td>\n",
              "      <td>0.0</td>\n",
              "      <td>0.0</td>\n",
              "      <td>0.0</td>\n",
              "      <td>0.0</td>\n",
              "      <td>76.0</td>\n",
              "      <td>76.0</td>\n",
              "    </tr>\n",
              "    <tr>\n",
              "      <th>mean</th>\n",
              "      <td>29.486842</td>\n",
              "      <td>28.255143</td>\n",
              "      <td>594.565789</td>\n",
              "      <td>0.437368</td>\n",
              "      <td>8.818487</td>\n",
              "      <td>0.419114</td>\n",
              "      <td>NaN</td>\n",
              "      <td>NaN</td>\n",
              "      <td>NaN</td>\n",
              "      <td>NaN</td>\n",
              "      <td>NaN</td>\n",
              "      <td>NaN</td>\n",
              "      <td>46.0</td>\n",
              "      <td>2.0</td>\n",
              "    </tr>\n",
              "    <tr>\n",
              "      <th>std</th>\n",
              "      <td>80.758156</td>\n",
              "      <td>26.154774</td>\n",
              "      <td>652.774373</td>\n",
              "      <td>1.197812</td>\n",
              "      <td>9.681922</td>\n",
              "      <td>0.387929</td>\n",
              "      <td>NaN</td>\n",
              "      <td>NaN</td>\n",
              "      <td>NaN</td>\n",
              "      <td>NaN</td>\n",
              "      <td>NaN</td>\n",
              "      <td>NaN</td>\n",
              "      <td>0.0</td>\n",
              "      <td>0.0</td>\n",
              "    </tr>\n",
              "    <tr>\n",
              "      <th>min</th>\n",
              "      <td>0.000000</td>\n",
              "      <td>0.860000</td>\n",
              "      <td>1.000000</td>\n",
              "      <td>0.000000</td>\n",
              "      <td>0.015000</td>\n",
              "      <td>0.013000</td>\n",
              "      <td>NaN</td>\n",
              "      <td>NaN</td>\n",
              "      <td>NaN</td>\n",
              "      <td>NaN</td>\n",
              "      <td>NaN</td>\n",
              "      <td>NaN</td>\n",
              "      <td>46.0</td>\n",
              "      <td>2.0</td>\n",
              "    </tr>\n",
              "    <tr>\n",
              "      <th>25%</th>\n",
              "      <td>0.000000</td>\n",
              "      <td>6.467500</td>\n",
              "      <td>62.500000</td>\n",
              "      <td>0.000000</td>\n",
              "      <td>0.927000</td>\n",
              "      <td>0.095750</td>\n",
              "      <td>NaN</td>\n",
              "      <td>NaN</td>\n",
              "      <td>NaN</td>\n",
              "      <td>NaN</td>\n",
              "      <td>NaN</td>\n",
              "      <td>NaN</td>\n",
              "      <td>46.0</td>\n",
              "      <td>2.0</td>\n",
              "    </tr>\n",
              "    <tr>\n",
              "      <th>50%</th>\n",
              "      <td>0.000000</td>\n",
              "      <td>21.710000</td>\n",
              "      <td>331.000000</td>\n",
              "      <td>0.000000</td>\n",
              "      <td>4.909000</td>\n",
              "      <td>0.322000</td>\n",
              "      <td>NaN</td>\n",
              "      <td>NaN</td>\n",
              "      <td>NaN</td>\n",
              "      <td>NaN</td>\n",
              "      <td>NaN</td>\n",
              "      <td>NaN</td>\n",
              "      <td>46.0</td>\n",
              "      <td>2.0</td>\n",
              "    </tr>\n",
              "    <tr>\n",
              "      <th>75%</th>\n",
              "      <td>3.750000</td>\n",
              "      <td>31.860000</td>\n",
              "      <td>908.250000</td>\n",
              "      <td>0.055750</td>\n",
              "      <td>13.470750</td>\n",
              "      <td>0.473000</td>\n",
              "      <td>NaN</td>\n",
              "      <td>NaN</td>\n",
              "      <td>NaN</td>\n",
              "      <td>NaN</td>\n",
              "      <td>NaN</td>\n",
              "      <td>NaN</td>\n",
              "      <td>46.0</td>\n",
              "      <td>2.0</td>\n",
              "    </tr>\n",
              "    <tr>\n",
              "      <th>max</th>\n",
              "      <td>525.000000</td>\n",
              "      <td>93.430000</td>\n",
              "      <td>2241.000000</td>\n",
              "      <td>7.787000</td>\n",
              "      <td>33.238000</td>\n",
              "      <td>1.386000</td>\n",
              "      <td>NaN</td>\n",
              "      <td>NaN</td>\n",
              "      <td>NaN</td>\n",
              "      <td>NaN</td>\n",
              "      <td>NaN</td>\n",
              "      <td>NaN</td>\n",
              "      <td>46.0</td>\n",
              "      <td>2.0</td>\n",
              "    </tr>\n",
              "  </tbody>\n",
              "</table>\n",
              "</div>\n",
              "      <button class=\"colab-df-convert\" onclick=\"convertToInteractive('df-1e2f0998-4d29-485f-86ef-36df2bb3f511')\"\n",
              "              title=\"Convert this dataframe to an interactive table.\"\n",
              "              style=\"display:none;\">\n",
              "        \n",
              "  <svg xmlns=\"http://www.w3.org/2000/svg\" height=\"24px\"viewBox=\"0 0 24 24\"\n",
              "       width=\"24px\">\n",
              "    <path d=\"M0 0h24v24H0V0z\" fill=\"none\"/>\n",
              "    <path d=\"M18.56 5.44l.94 2.06.94-2.06 2.06-.94-2.06-.94-.94-2.06-.94 2.06-2.06.94zm-11 1L8.5 8.5l.94-2.06 2.06-.94-2.06-.94L8.5 2.5l-.94 2.06-2.06.94zm10 10l.94 2.06.94-2.06 2.06-.94-2.06-.94-.94-2.06-.94 2.06-2.06.94z\"/><path d=\"M17.41 7.96l-1.37-1.37c-.4-.4-.92-.59-1.43-.59-.52 0-1.04.2-1.43.59L10.3 9.45l-7.72 7.72c-.78.78-.78 2.05 0 2.83L4 21.41c.39.39.9.59 1.41.59.51 0 1.02-.2 1.41-.59l7.78-7.78 2.81-2.81c.8-.78.8-2.07 0-2.86zM5.41 20L4 18.59l7.72-7.72 1.47 1.35L5.41 20z\"/>\n",
              "  </svg>\n",
              "      </button>\n",
              "      \n",
              "  <style>\n",
              "    .colab-df-container {\n",
              "      display:flex;\n",
              "      flex-wrap:wrap;\n",
              "      gap: 12px;\n",
              "    }\n",
              "\n",
              "    .colab-df-convert {\n",
              "      background-color: #E8F0FE;\n",
              "      border: none;\n",
              "      border-radius: 50%;\n",
              "      cursor: pointer;\n",
              "      display: none;\n",
              "      fill: #1967D2;\n",
              "      height: 32px;\n",
              "      padding: 0 0 0 0;\n",
              "      width: 32px;\n",
              "    }\n",
              "\n",
              "    .colab-df-convert:hover {\n",
              "      background-color: #E2EBFA;\n",
              "      box-shadow: 0px 1px 2px rgba(60, 64, 67, 0.3), 0px 1px 3px 1px rgba(60, 64, 67, 0.15);\n",
              "      fill: #174EA6;\n",
              "    }\n",
              "\n",
              "    [theme=dark] .colab-df-convert {\n",
              "      background-color: #3B4455;\n",
              "      fill: #D2E3FC;\n",
              "    }\n",
              "\n",
              "    [theme=dark] .colab-df-convert:hover {\n",
              "      background-color: #434B5C;\n",
              "      box-shadow: 0px 1px 3px 1px rgba(0, 0, 0, 0.15);\n",
              "      filter: drop-shadow(0px 1px 2px rgba(0, 0, 0, 0.3));\n",
              "      fill: #FFFFFF;\n",
              "    }\n",
              "  </style>\n",
              "\n",
              "      <script>\n",
              "        const buttonEl =\n",
              "          document.querySelector('#df-1e2f0998-4d29-485f-86ef-36df2bb3f511 button.colab-df-convert');\n",
              "        buttonEl.style.display =\n",
              "          google.colab.kernel.accessAllowed ? 'block' : 'none';\n",
              "\n",
              "        async function convertToInteractive(key) {\n",
              "          const element = document.querySelector('#df-1e2f0998-4d29-485f-86ef-36df2bb3f511');\n",
              "          const dataTable =\n",
              "            await google.colab.kernel.invokeFunction('convertToInteractive',\n",
              "                                                     [key], {});\n",
              "          if (!dataTable) return;\n",
              "\n",
              "          const docLinkHtml = 'Like what you see? Visit the ' +\n",
              "            '<a target=\"_blank\" href=https://colab.research.google.com/notebooks/data_table.ipynb>data table notebook</a>'\n",
              "            + ' to learn more about interactive tables.';\n",
              "          element.innerHTML = '';\n",
              "          dataTable['output_type'] = 'display_data';\n",
              "          await google.colab.output.renderOutput(dataTable, element);\n",
              "          const docLink = document.createElement('div');\n",
              "          docLink.innerHTML = docLinkHtml;\n",
              "          element.appendChild(docLink);\n",
              "        }\n",
              "      </script>\n",
              "    </div>\n",
              "  </div>\n",
              "  "
            ]
          },
          "metadata": {},
          "execution_count": 15
        }
      ]
    },
    {
      "cell_type": "code",
      "source": [
        "plt.plot(france_datas[\"new_cases\"])"
      ],
      "metadata": {
        "colab": {
          "base_uri": "https://localhost:8080/",
          "height": 283
        },
        "id": "Aizqmow4QxB0",
        "outputId": "a1015b08-4515-4609-d46d-87890719563f"
      },
      "execution_count": 16,
      "outputs": [
        {
          "output_type": "execute_result",
          "data": {
            "text/plain": [
              "[<matplotlib.lines.Line2D at 0x7fb3e12f3510>]"
            ]
          },
          "metadata": {},
          "execution_count": 16
        },
        {
          "output_type": "display_data",
          "data": {
            "text/plain": [
              "<Figure size 432x288 with 1 Axes>"
            ],
            "image/png": "[encoded data removed]"
          },
          "metadata": {
            "needs_background": "light"
          }
        }
      ]
    },
    {
      "cell_type": "code",
      "source": [
        "plt.plot(france_datas[\"total_cases\"])"
      ],
      "metadata": {
        "colab": {
          "base_uri": "https://localhost:8080/",
          "height": 283
        },
        "id": "VvYZQc1eu-P5",
        "outputId": "79c95984-d884-4574-d55d-338252396a36"
      },
      "execution_count": 17,
      "outputs": [
        {
          "output_type": "execute_result",
          "data": {
            "text/plain": [
              "[<matplotlib.lines.Line2D at 0x7fb3e0e50cd0>]"
            ]
          },
          "metadata": {},
          "execution_count": 17
        },
        {
          "output_type": "display_data",
          "data": {
            "text/plain": [
              "<Figure size 432x288 with 1 Axes>"
            ],
            "image/png": "[encoded data removed]"
          },
          "metadata": {
            "needs_background": "light"
          }
        }
      ]
    },
    {
      "cell_type": "markdown",
      "source": [
        "## Geopandas and Folium visualization"
      ],
      "metadata": {
        "id": "S_K9gQQhXb88"
      }
    },
    {
      "cell_type": "markdown",
      "source": [
        "### Group by location, aggregation by total_cases\n"
      ],
      "metadata": {
        "id": "gDWiOu7JXmxt"
      }
    },
    {
      "cell_type": "code",
      "source": [
        "grouped_datas = datas_merged.groupby(['location','Longitude','Latitude'])['total_cases'].agg('sum')\n",
        "grouped_datas = grouped_datas.to_frame()\n",
        "grouped_datas = grouped_datas.add_suffix('_Count').reset_index()\n",
        "grouped_datas.head()"
      ],
      "metadata": {
        "colab": {
          "base_uri": "https://localhost:8080/",
          "height": 206
        },
        "id": "162Z2VoeYB-A",
        "outputId": "3ceb9247-cc19-4d3e-f12e-306f3fcc6aa8"
      },
      "execution_count": 18,
      "outputs": [
        {
          "output_type": "execute_result",
          "data": {
            "text/plain": [
              "    location  Longitude  Latitude  total_cases_Count\n",
              "0    Andorra       1.50     42.50                  4\n",
              "1  Argentina     -64.00    -34.00                424\n",
              "2  Australia     133.00    -27.00               1080\n",
              "3    Austria      13.33     47.33               2978\n",
              "4   Barbados     -59.53     13.17                  1"
            ],
            "text/html": [
              "\n",
              "  <div id=\"df-d12a2042-ed44-4259-9f08-7842dfeda754\">\n",
              "    <div class=\"colab-df-container\">\n",
              "      <div>\n",
              "<style scoped>\n",
              "    .dataframe tbody tr th:only-of-type {\n",
              "        vertical-align: middle;\n",
              "    }\n",
              "\n",
              "    .dataframe tbody tr th {\n",
              "        vertical-align: top;\n",
              "    }\n",
              "\n",
              "    .dataframe thead th {\n",
              "        text-align: right;\n",
              "    }\n",
              "</style>\n",
              "<table border=\"1\" class=\"dataframe\">\n",
              "  <thead>\n",
              "    <tr style=\"text-align: right;\">\n",
              "      <th></th>\n",
              "      <th>location</th>\n",
              "      <th>Longitude</th>\n",
              "      <th>Latitude</th>\n",
              "      <th>total_cases_Count</th>\n",
              "    </tr>\n",
              "  </thead>\n",
              "  <tbody>\n",
              "    <tr>\n",
              "      <th>0</th>\n",
              "      <td>Andorra</td>\n",
              "      <td>1.50</td>\n",
              "      <td>42.50</td>\n",
              "      <td>4</td>\n",
              "    </tr>\n",
              "    <tr>\n",
              "      <th>1</th>\n",
              "      <td>Argentina</td>\n",
              "      <td>-64.00</td>\n",
              "      <td>-34.00</td>\n",
              "      <td>424</td>\n",
              "    </tr>\n",
              "    <tr>\n",
              "      <th>2</th>\n",
              "      <td>Australia</td>\n",
              "      <td>133.00</td>\n",
              "      <td>-27.00</td>\n",
              "      <td>1080</td>\n",
              "    </tr>\n",
              "    <tr>\n",
              "      <th>3</th>\n",
              "      <td>Austria</td>\n",
              "      <td>13.33</td>\n",
              "      <td>47.33</td>\n",
              "      <td>2978</td>\n",
              "    </tr>\n",
              "    <tr>\n",
              "      <th>4</th>\n",
              "      <td>Barbados</td>\n",
              "      <td>-59.53</td>\n",
              "      <td>13.17</td>\n",
              "      <td>1</td>\n",
              "    </tr>\n",
              "  </tbody>\n",
              "</table>\n",
              "</div>\n",
              "      <button class=\"colab-df-convert\" onclick=\"convertToInteractive('df-d12a2042-ed44-4259-9f08-7842dfeda754')\"\n",
              "              title=\"Convert this dataframe to an interactive table.\"\n",
              "              style=\"display:none;\">\n",
              "        \n",
              "  <svg xmlns=\"http://www.w3.org/2000/svg\" height=\"24px\"viewBox=\"0 0 24 24\"\n",
              "       width=\"24px\">\n",
              "    <path d=\"M0 0h24v24H0V0z\" fill=\"none\"/>\n",
              "    <path d=\"M18.56 5.44l.94 2.06.94-2.06 2.06-.94-2.06-.94-.94-2.06-.94 2.06-2.06.94zm-11 1L8.5 8.5l.94-2.06 2.06-.94-2.06-.94L8.5 2.5l-.94 2.06-2.06.94zm10 10l.94 2.06.94-2.06 2.06-.94-2.06-.94-.94-2.06-.94 2.06-2.06.94z\"/><path d=\"M17.41 7.96l-1.37-1.37c-.4-.4-.92-.59-1.43-.59-.52 0-1.04.2-1.43.59L10.3 9.45l-7.72 7.72c-.78.78-.78 2.05 0 2.83L4 21.41c.39.39.9.59 1.41.59.51 0 1.02-.2 1.41-.59l7.78-7.78 2.81-2.81c.8-.78.8-2.07 0-2.86zM5.41 20L4 18.59l7.72-7.72 1.47 1.35L5.41 20z\"/>\n",
              "  </svg>\n",
              "      </button>\n",
              "      \n",
              "  <style>\n",
              "    .colab-df-container {\n",
              "      display:flex;\n",
              "      flex-wrap:wrap;\n",
              "      gap: 12px;\n",
              "    }\n",
              "\n",
              "    .colab-df-convert {\n",
              "      background-color: #E8F0FE;\n",
              "      border: none;\n",
              "      border-radius: 50%;\n",
              "      cursor: pointer;\n",
              "      display: none;\n",
              "      fill: #1967D2;\n",
              "      height: 32px;\n",
              "      padding: 0 0 0 0;\n",
              "      width: 32px;\n",
              "    }\n",
              "\n",
              "    .colab-df-convert:hover {\n",
              "      background-color: #E2EBFA;\n",
              "      box-shadow: 0px 1px 2px rgba(60, 64, 67, 0.3), 0px 1px 3px 1px rgba(60, 64, 67, 0.15);\n",
              "      fill: #174EA6;\n",
              "    }\n",
              "\n",
              "    [theme=dark] .colab-df-convert {\n",
              "      background-color: #3B4455;\n",
              "      fill: #D2E3FC;\n",
              "    }\n",
              "\n",
              "    [theme=dark] .colab-df-convert:hover {\n",
              "      background-color: #434B5C;\n",
              "      box-shadow: 0px 1px 3px 1px rgba(0, 0, 0, 0.15);\n",
              "      filter: drop-shadow(0px 1px 2px rgba(0, 0, 0, 0.3));\n",
              "      fill: #FFFFFF;\n",
              "    }\n",
              "  </style>\n",
              "\n",
              "      <script>\n",
              "        const buttonEl =\n",
              "          document.querySelector('#df-d12a2042-ed44-4259-9f08-7842dfeda754 button.colab-df-convert');\n",
              "        buttonEl.style.display =\n",
              "          google.colab.kernel.accessAllowed ? 'block' : 'none';\n",
              "\n",
              "        async function convertToInteractive(key) {\n",
              "          const element = document.querySelector('#df-d12a2042-ed44-4259-9f08-7842dfeda754');\n",
              "          const dataTable =\n",
              "            await google.colab.kernel.invokeFunction('convertToInteractive',\n",
              "                                                     [key], {});\n",
              "          if (!dataTable) return;\n",
              "\n",
              "          const docLinkHtml = 'Like what you see? Visit the ' +\n",
              "            '<a target=\"_blank\" href=https://colab.research.google.com/notebooks/data_table.ipynb>data table notebook</a>'\n",
              "            + ' to learn more about interactive tables.';\n",
              "          element.innerHTML = '';\n",
              "          dataTable['output_type'] = 'display_data';\n",
              "          await google.colab.output.renderOutput(dataTable, element);\n",
              "          const docLink = document.createElement('div');\n",
              "          docLink.innerHTML = docLinkHtml;\n",
              "          element.appendChild(docLink);\n",
              "        }\n",
              "      </script>\n",
              "    </div>\n",
              "  </div>\n",
              "  "
            ]
          },
          "metadata": {},
          "execution_count": 18
        }
      ]
    },
    {
      "cell_type": "markdown",
      "source": [
        "### Visualization"
      ],
      "metadata": {
        "id": "me_dNafUXuEz"
      }
    },
    {
      "cell_type": "code",
      "source": [
        "#Geo pandas Geometry Points creation\n",
        "import geopandas\n",
        "gdf = geopandas.GeoDataFrame(grouped_datas, geometry=geopandas.points_from_xy(grouped_datas.Longitude, grouped_datas.Latitude))\n",
        "\n",
        "gdf.head()"
      ],
      "metadata": {
        "colab": {
          "base_uri": "https://localhost:8080/",
          "height": 206
        },
        "id": "CK23fk5dVg_Q",
        "outputId": "fc6935c2-d3f2-44e1-d15d-3b415d7b172d"
      },
      "execution_count": 19,
      "outputs": [
        {
          "output_type": "execute_result",
          "data": {
            "text/plain": [
              "    location  Longitude  Latitude  total_cases_Count  \\\n",
              "0    Andorra       1.50     42.50                  4   \n",
              "1  Argentina     -64.00    -34.00                424   \n",
              "2  Australia     133.00    -27.00               1080   \n",
              "3    Austria      13.33     47.33               2978   \n",
              "4   Barbados     -59.53     13.17                  1   \n",
              "\n",
              "                      geometry  \n",
              "0     POINT (1.50000 42.50000)  \n",
              "1  POINT (-64.00000 -34.00000)  \n",
              "2  POINT (133.00000 -27.00000)  \n",
              "3    POINT (13.33000 47.33000)  \n",
              "4   POINT (-59.53000 13.17000)  "
            ],
            "text/html": [
              "\n",
              "  <div id=\"df-fa7798ab-1032-4d9a-8c9b-cd8f64a94c93\">\n",
              "    <div class=\"colab-df-container\">\n",
              "      <div>\n",
              "<style scoped>\n",
              "    .dataframe tbody tr th:only-of-type {\n",
              "        vertical-align: middle;\n",
              "    }\n",
              "\n",
              "    .dataframe tbody tr th {\n",
              "        vertical-align: top;\n",
              "    }\n",
              "\n",
              "    .dataframe thead th {\n",
              "        text-align: right;\n",
              "    }\n",
              "</style>\n",
              "<table border=\"1\" class=\"dataframe\">\n",
              "  <thead>\n",
              "    <tr style=\"text-align: right;\">\n",
              "      <th></th>\n",
              "      <th>location</th>\n",
              "      <th>Longitude</th>\n",
              "      <th>Latitude</th>\n",
              "      <th>total_cases_Count</th>\n",
              "      <th>geometry</th>\n",
              "    </tr>\n",
              "  </thead>\n",
              "  <tbody>\n",
              "    <tr>\n",
              "      <th>0</th>\n",
              "      <td>Andorra</td>\n",
              "      <td>1.50</td>\n",
              "      <td>42.50</td>\n",
              "      <td>4</td>\n",
              "      <td>POINT (1.50000 42.50000)</td>\n",
              "    </tr>\n",
              "    <tr>\n",
              "      <th>1</th>\n",
              "      <td>Argentina</td>\n",
              "      <td>-64.00</td>\n",
              "      <td>-34.00</td>\n",
              "      <td>424</td>\n",
              "      <td>POINT (-64.00000 -34.00000)</td>\n",
              "    </tr>\n",
              "    <tr>\n",
              "      <th>2</th>\n",
              "      <td>Australia</td>\n",
              "      <td>133.00</td>\n",
              "      <td>-27.00</td>\n",
              "      <td>1080</td>\n",
              "      <td>POINT (133.00000 -27.00000)</td>\n",
              "    </tr>\n",
              "    <tr>\n",
              "      <th>3</th>\n",
              "      <td>Austria</td>\n",
              "      <td>13.33</td>\n",
              "      <td>47.33</td>\n",
              "      <td>2978</td>\n",
              "      <td>POINT (13.33000 47.33000)</td>\n",
              "    </tr>\n",
              "    <tr>\n",
              "      <th>4</th>\n",
              "      <td>Barbados</td>\n",
              "      <td>-59.53</td>\n",
              "      <td>13.17</td>\n",
              "      <td>1</td>\n",
              "      <td>POINT (-59.53000 13.17000)</td>\n",
              "    </tr>\n",
              "  </tbody>\n",
              "</table>\n",
              "</div>\n",
              "      <button class=\"colab-df-convert\" onclick=\"convertToInteractive('df-fa7798ab-1032-4d9a-8c9b-cd8f64a94c93')\"\n",
              "              title=\"Convert this dataframe to an interactive table.\"\n",
              "              style=\"display:none;\">\n",
              "        \n",
              "  <svg xmlns=\"http://www.w3.org/2000/svg\" height=\"24px\"viewBox=\"0 0 24 24\"\n",
              "       width=\"24px\">\n",
              "    <path d=\"M0 0h24v24H0V0z\" fill=\"none\"/>\n",
              "    <path d=\"M18.56 5.44l.94 2.06.94-2.06 2.06-.94-2.06-.94-.94-2.06-.94 2.06-2.06.94zm-11 1L8.5 8.5l.94-2.06 2.06-.94-2.06-.94L8.5 2.5l-.94 2.06-2.06.94zm10 10l.94 2.06.94-2.06 2.06-.94-2.06-.94-.94-2.06-.94 2.06-2.06.94z\"/><path d=\"M17.41 7.96l-1.37-1.37c-.4-.4-.92-.59-1.43-.59-.52 0-1.04.2-1.43.59L10.3 9.45l-7.72 7.72c-.78.78-.78 2.05 0 2.83L4 21.41c.39.39.9.59 1.41.59.51 0 1.02-.2 1.41-.59l7.78-7.78 2.81-2.81c.8-.78.8-2.07 0-2.86zM5.41 20L4 18.59l7.72-7.72 1.47 1.35L5.41 20z\"/>\n",
              "  </svg>\n",
              "      </button>\n",
              "      \n",
              "  <style>\n",
              "    .colab-df-container {\n",
              "      display:flex;\n",
              "      flex-wrap:wrap;\n",
              "      gap: 12px;\n",
              "    }\n",
              "\n",
              "    .colab-df-convert {\n",
              "      background-color: #E8F0FE;\n",
              "      border: none;\n",
              "      border-radius: 50%;\n",
              "      cursor: pointer;\n",
              "      display: none;\n",
              "      fill: #1967D2;\n",
              "      height: 32px;\n",
              "      padding: 0 0 0 0;\n",
              "      width: 32px;\n",
              "    }\n",
              "\n",
              "    .colab-df-convert:hover {\n",
              "      background-color: #E2EBFA;\n",
              "      box-shadow: 0px 1px 2px rgba(60, 64, 67, 0.3), 0px 1px 3px 1px rgba(60, 64, 67, 0.15);\n",
              "      fill: #174EA6;\n",
              "    }\n",
              "\n",
              "    [theme=dark] .colab-df-convert {\n",
              "      background-color: #3B4455;\n",
              "      fill: #D2E3FC;\n",
              "    }\n",
              "\n",
              "    [theme=dark] .colab-df-convert:hover {\n",
              "      background-color: #434B5C;\n",
              "      box-shadow: 0px 1px 3px 1px rgba(0, 0, 0, 0.15);\n",
              "      filter: drop-shadow(0px 1px 2px rgba(0, 0, 0, 0.3));\n",
              "      fill: #FFFFFF;\n",
              "    }\n",
              "  </style>\n",
              "\n",
              "      <script>\n",
              "        const buttonEl =\n",
              "          document.querySelector('#df-fa7798ab-1032-4d9a-8c9b-cd8f64a94c93 button.colab-df-convert');\n",
              "        buttonEl.style.display =\n",
              "          google.colab.kernel.accessAllowed ? 'block' : 'none';\n",
              "\n",
              "        async function convertToInteractive(key) {\n",
              "          const element = document.querySelector('#df-fa7798ab-1032-4d9a-8c9b-cd8f64a94c93');\n",
              "          const dataTable =\n",
              "            await google.colab.kernel.invokeFunction('convertToInteractive',\n",
              "                                                     [key], {});\n",
              "          if (!dataTable) return;\n",
              "\n",
              "          const docLinkHtml = 'Like what you see? Visit the ' +\n",
              "            '<a target=\"_blank\" href=https://colab.research.google.com/notebooks/data_table.ipynb>data table notebook</a>'\n",
              "            + ' to learn more about interactive tables.';\n",
              "          element.innerHTML = '';\n",
              "          dataTable['output_type'] = 'display_data';\n",
              "          await google.colab.output.renderOutput(dataTable, element);\n",
              "          const docLink = document.createElement('div');\n",
              "          docLink.innerHTML = docLinkHtml;\n",
              "          element.appendChild(docLink);\n",
              "        }\n",
              "      </script>\n",
              "    </div>\n",
              "  </div>\n",
              "  "
            ]
          },
          "metadata": {},
          "execution_count": 19
        }
      ]
    },
    {
      "cell_type": "code",
      "source": [
        "import folium\n",
        "from folium import plugins\n",
        "\n",
        "map = folium.Map(location = [15,30], tiles='Cartodb dark_matter', zoom_start = 2)\n",
        "heat_data = [[point.xy[1][0], point.xy[0][0]] for point in gdf.geometry ]\n",
        "\n",
        "heat_data\n",
        "plugins.HeatMap(heat_data).add_to(map)\n",
        "\n",
        "map"
      ],
      "metadata": {
        "colab": {
          "base_uri": "https://localhost:8080/",
          "height": 1000
        },
        "id": "giZUSTx6aKZO",
        "outputId": "42c4f0c1-8b7d-4498-fe40-fc057fbc496c"
      },
      "execution_count": 20,
      "outputs": [
        {
          "output_type": "execute_result",
          "data": {
            "text/plain": [
              "<folium.folium.Map at 0x7fb3d9f408d0>"
            ],
            "text/html": [
              "<div style=\"width:100%;\"><div style=\"position:relative;width:100%;height:0;padding-bottom:60%;\"><span style=\"color:#565656\">Make this Notebook Trusted to load map: File -> Trust Notebook</span><iframe srcdoc=\"&lt;!DOCTYPE html&gt;\n",
              "&lt;head&gt;    \n",
              "    &lt;meta http-equiv=&quot;content-type&quot; content=&quot;text/html; charset=UTF-8&quot; /&gt;\n",
              "    \n",
              "        &lt;script&gt;\n",
              "            L_NO_TOUCH = false;\n",
              "            L_DISABLE_3D = false;\n",
              "        &lt;/script&gt;\n",
              "    \n",
              "    &lt;style&gt;html, body {width: 100%;height: 100%;margin: 0;padding: 0;}&lt;/style&gt;\n",
              "    &lt;style&gt;#map {position:absolute;top:0;bottom:0;right:0;left:0;}&lt;/style&gt;\n",
              "    &lt;script src=&quot;https://cdn.jsdelivr.net/npm/leaflet@1.6.0/dist/leaflet.js&quot;&gt;&lt;/script&gt;\n",
              "    &lt;script src=&quot;https://code.jquery.com/jquery-1.12.4.min.js&quot;&gt;&lt;/script&gt;\n",
              "    &lt;script src=&quot;https://maxcdn.bootstrapcdn.com/bootstrap/3.2.0/js/bootstrap.min.js&quot;&gt;&lt;/script&gt;\n",
              "    &lt;script src=&quot;https://cdnjs.cloudflare.com/ajax/libs/Leaflet.awesome-markers/2.0.2/leaflet.awesome-markers.js&quot;&gt;&lt;/script&gt;\n",
              "    &lt;link rel=&quot;stylesheet&quot; href=&quot;https://cdn.jsdelivr.net/npm/leaflet@1.6.0/dist/leaflet.css&quot;/&gt;\n",
              "    &lt;link rel=&quot;stylesheet&quot; href=&quot;https://maxcdn.bootstrapcdn.com/bootstrap/3.2.0/css/bootstrap.min.css&quot;/&gt;\n",
              "    &lt;link rel=&quot;stylesheet&quot; href=&quot;https://maxcdn.bootstrapcdn.com/bootstrap/3.2.0/css/bootstrap-theme.min.css&quot;/&gt;\n",
              "    &lt;link rel=&quot;stylesheet&quot; href=&quot;https://maxcdn.bootstrapcdn.com/font-awesome/4.6.3/css/font-awesome.min.css&quot;/&gt;\n",
              "    &lt;link rel=&quot;stylesheet&quot; href=&quot;https://cdnjs.cloudflare.com/ajax/libs/Leaflet.awesome-markers/2.0.2/leaflet.awesome-markers.css&quot;/&gt;\n",
              "    &lt;link rel=&quot;stylesheet&quot; href=&quot;https://cdn.jsdelivr.net/gh/python-visualization/folium/folium/templates/leaflet.awesome.rotate.min.css&quot;/&gt;\n",
              "    \n",
              "            &lt;meta name=&quot;viewport&quot; content=&quot;width=device-width,\n",
              "                initial-scale=1.0, maximum-scale=1.0, user-scalable=no&quot; /&gt;\n",
              "            &lt;style&gt;\n",
              "                #map_841f054d6d79d3850b06d9705176479c {\n",
              "                    position: relative;\n",
              "                    width: 100.0%;\n",
              "                    height: 100.0%;\n",
              "                    left: 0.0%;\n",
              "                    top: 0.0%;\n",
              "                }\n",
              "            &lt;/style&gt;\n",
              "        \n",
              "    &lt;script src=&quot;https://cdn.jsdelivr.net/gh/python-visualization/folium@master/folium/templates/leaflet_heat.min.js&quot;&gt;&lt;/script&gt;\n",
              "&lt;/head&gt;\n",
              "&lt;body&gt;    \n",
              "    \n",
              "            &lt;div class=&quot;folium-map&quot; id=&quot;map_841f054d6d79d3850b06d9705176479c&quot; &gt;&lt;/div&gt;\n",
              "        \n",
              "&lt;/body&gt;\n",
              "&lt;script&gt;    \n",
              "    \n",
              "            var map_841f054d6d79d3850b06d9705176479c = L.map(\n",
              "                &quot;map_841f054d6d79d3850b06d9705176479c&quot;,\n",
              "                {\n",
              "                    center: [15.0, 30.0],\n",
              "                    crs: L.CRS.EPSG3857,\n",
              "                    zoom: 2,\n",
              "                    zoomControl: true,\n",
              "                    preferCanvas: false,\n",
              "                }\n",
              "            );\n",
              "\n",
              "            \n",
              "\n",
              "        \n",
              "    \n",
              "            var tile_layer_d1681ec2b1a1f366b4807fc85f1d7b02 = L.tileLayer(\n",
              "                &quot;https://cartodb-basemaps-{s}.global.ssl.fastly.net/dark_all/{z}/{x}/{y}.png&quot;,\n",
              "                {&quot;attribution&quot;: &quot;\\u0026copy; \\u003ca href=\\&quot;http://www.openstreetmap.org/copyright\\&quot;\\u003eOpenStreetMap\\u003c/a\\u003e contributors \\u0026copy; \\u003ca href=\\&quot;http://cartodb.com/attributions\\&quot;\\u003eCartoDB\\u003c/a\\u003e, CartoDB \\u003ca href =\\&quot;http://cartodb.com/attributions\\&quot;\\u003eattributions\\u003c/a\\u003e&quot;, &quot;detectRetina&quot;: false, &quot;maxNativeZoom&quot;: 18, &quot;maxZoom&quot;: 18, &quot;minZoom&quot;: 0, &quot;noWrap&quot;: false, &quot;opacity&quot;: 1, &quot;subdomains&quot;: &quot;abc&quot;, &quot;tms&quot;: false}\n",
              "            ).addTo(map_841f054d6d79d3850b06d9705176479c);\n",
              "        \n",
              "    \n",
              "            var heat_map_c49b3262364d039a8a5883963cb8689b = L.heatLayer(\n",
              "                [[42.5, 1.5], [-34.0, -64.0], [-27.0, 133.0], [47.33, 13.33], [13.17, -59.53], [50.83, 4.0], [9.5, 2.25], [32.33, -64.75], [-17.0, -65.0], [44.0, 18.0], [-10.0, -55.0], [43.0, 25.0], [6.0, 12.0], [60.0, -95.0], [7.0, 21.0], [-30.0, -71.0], [35.0, 105.0], [4.0, -72.0], [10.0, -84.0], [45.17, 15.5], [35.0, 33.0], [56.0, 10.0], [19.0, -70.67], [-2.0, -77.5], [59.0, 26.0], [64.0, 26.0], [46.0, 2.0], [42.0, 43.5], [51.0, 9.0], [8.0, -2.0], [39.0, 22.0], [15.5, -90.25], [47.0, 20.0], [65.0, -18.0], [20.0, 77.0], [53.0, -8.0], [31.5, 34.75], [42.83, 12.83], [18.25, -77.5], [36.0, 138.0], [57.0, 25.0], [33.83, 35.83], [56.0, 24.0], [49.75, 6.17], [35.83, 14.58], [23.0, -102.0], [42.0, 19.0], [32.0, -5.0], [52.5, 5.75], [-21.5, 165.5], [-41.0, 174.0], [10.0, 8.0], [62.0, 10.0], [9.0, -80.0], [-10.0, -76.0], [13.0, 122.0], [52.0, 20.0], [39.5, -8.0], [18.25, -66.5], [25.5, 51.25], [46.0, 25.0], [25.0, 45.0], [44.0, 21.0], [1.37, 103.8], [48.67, 19.5], [46.0, 15.0], [-29.0, 24.0], [40.0, -4.0], [15.0, 30.0], [62.0, 15.0], [47.0, 8.0], [23.5, 121.0], [15.0, 100.0], [39.0, 35.0], [24.0, 54.0], [54.0, -2.0], [38.0, -97.0], [-33.0, -56.0], [8.0, -66.0]],\n",
              "                {&quot;blur&quot;: 15, &quot;maxZoom&quot;: 18, &quot;minOpacity&quot;: 0.5, &quot;radius&quot;: 25}\n",
              "            ).addTo(map_841f054d6d79d3850b06d9705176479c);\n",
              "        \n",
              "&lt;/script&gt;\" style=\"position:absolute;width:100%;height:100%;left:0;top:0;border:none !important;\" allowfullscreen webkitallowfullscreen mozallowfullscreen></iframe></div></div>"
            ]
          },
          "metadata": {},
          "execution_count": 20
        }
      ]
    },
    {
      "cell_type": "markdown",
      "source": [
        "# Modeling an epidemic"
      ],
      "metadata": {
        "id": "kLlcIQaYmwyN"
      }
    },
    {
      "cell_type": "markdown",
      "source": [
        "## SIR model"
      ],
      "metadata": {
        "id": "1PPT0SRixo_W"
      }
    },
    {
      "cell_type": "markdown",
      "source": [
        "### Understanding the SIR model"
      ],
      "metadata": {
        "id": "rSyDLQxPKBFD"
      }
    },
    {
      "cell_type": "markdown",
      "source": [
        "> For more information on this part, i invite you to read this paper : https://www.tnstate.edu/mathematics/mathreu/filesreu/GroupProjectSIR.pdf"
      ],
      "metadata": {
        "id": "ItQIhILj8lLr"
      }
    },
    {
      "cell_type": "markdown",
      "source": [
        "The SIR model divides the population into three compartments\n",
        "\n",
        "- S : Susceptible (Not yet infected)\n",
        "- I : Invected\n",
        "- R : Recovered\n",
        "\n"
      ],
      "metadata": {
        "id": "Z3bgWMulxy9k"
      }
    },
    {
      "cell_type": "markdown",
      "source": [
        "Each compartment is initialized with **percentage** of population it contains\n",
        "\n",
        "- S : 300 (30%)\n",
        "- I : 500 (50%)\n",
        "- R : 200 (20%) \n",
        "\n",
        "The total population corresponds to S+I+R = 300+500+200 = 1000 = 100%"
      ],
      "metadata": {
        "id": "hsqtsQH60pDN"
      }
    },
    {
      "cell_type": "code",
      "source": [
        "G = nx.DiGraph()\n",
        "G.add_edges_from([('S', 'I'), ('I', 'R')])\n",
        "\n",
        "pos = {'S': [0,0],\n",
        "       'I': [1,0],\n",
        "       'R': [2,0],\n",
        "       }\n",
        "\n",
        "plt.figure(1,figsize=(6,6))\n",
        "ax = plt.axes([0,0,1,1], frameon=False)\n",
        "nx.draw_networkx_labels(G, pos,font_color=\"white\")\n",
        "nx.draw_networkx_nodes(G, pos, node_size = 2500)\n",
        "nx.draw_networkx_edges(G, pos, arrows=True)\n",
        "nx.draw_networkx_edge_labels(\n",
        "    G, pos,\n",
        "    edge_labels={('S', 'I'): '$\\lambda$', \n",
        "                 ('I', 'R'): '$p$', \n",
        "                 },\n",
        "    font_color='red',\n",
        "    font_size=20\n",
        ")\n",
        "plt.title(\"SIR model\")\n",
        "plt.show()\n"
      ],
      "metadata": {
        "colab": {
          "base_uri": "https://localhost:8080/",
          "height": 479
        },
        "id": "o2jssP-uDXLF",
        "outputId": "4f0b48d2-ecf5-4382-9873-075017503bb6"
      },
      "execution_count": 23,
      "outputs": [
        {
          "output_type": "display_data",
          "data": {
            "text/plain": [
              "<Figure size 432x432 with 1 Axes>"
            ],
            "image/png": "[encoded data removed]"
          },
          "metadata": {}
        }
      ]
    },
    {
      "cell_type": "markdown",
      "source": [
        "**The model then gives rules** explaining **how these percentages change over time** - that is, essentially \"how fast\" a person will on average move from class S to class I (being infected), and then from class I to class R (being cured). For the simplest SIR models, the following rules are used:"
      ],
      "metadata": {
        "id": "Cp1y6PeG1lFw"
      }
    },
    {
      "cell_type": "markdown",
      "source": [
        "$\\frac{dS(t)}{dt} = -\\lambda I(t)S(t)$. "
      ],
      "metadata": {
        "id": "c8tckuPY4pc2"
      }
    },
    {
      "cell_type": "markdown",
      "source": [
        "**The proportion of susceptible (i.e. not yet infected) individuals decreases in proportion to the product of the proportion of susceptible and infected individuals**.   \n",
        "The underlying intuition is that the more infected individuals there are, the more likely it is that a susceptible individual will be infected.   \n",
        "The $I(t)S(t)$ product measures the \"encounters\" between infected and susceptible individuals.   \n",
        "This equation is regulated by a parameter $\\lambda$ that depends in practice on many factors: contagiousness of the disease, social distancing measures, confinement.   \n",
        "$\\lambda$ is called the **strength of infection**. If $\\lambda=0$, it means that there is no contagion at all: no new infected individuals appear. The greater the $\\lambda$, the greater the contagion."
      ],
      "metadata": {
        "id": "DiZH8OlZ6zXC"
      }
    },
    {
      "cell_type": "markdown",
      "source": [
        "$\\frac{dR(t)}{dt} = \\rho I(t)$. \n",
        "\n",
        "This means that **the rate of recovered individuals varies in proportion to the rate of infected individuals** ($\\frac{dR(t)}{dt}$ being the rate of change of R - called its derivative in mathematics).   \n",
        "In other words, within a small time interval, **a certain fixed proportion of those infected will be recovered**.   \n",
        "This proportion is regulated by the parameter $\\rho$, called the **recover rate**:  \n",
        "if $\\rho=0$, it means that nobody is revovered - the proportion of individuals in R does not change. If $\\rho$ is \"large\", it means that the recover is \"fast\".\n"
      ],
      "metadata": {
        "id": "wCtoif1s3qB0"
      }
    },
    {
      "cell_type": "markdown",
      "source": [
        "$\\frac{dI(t)}{dt} = \\lambda I(t)S(t) - \\rho I(t)$. "
      ],
      "metadata": {
        "id": "8vWvotG67WD2"
      }
    },
    {
      "cell_type": "markdown",
      "source": [
        "**The variation of infected individuals corresponds to new arrivals from the susceptible compartment (infection), and departures to the recovered compartment (R).**"
      ],
      "metadata": {
        "id": "kBOodMr-9TO8"
      }
    },
    {
      "cell_type": "markdown",
      "source": [
        "We then obtain what is called **a system of differential equations**\n",
        "\n",
        "\\begin{equation}\n",
        "\\left\\{\n",
        "    \\begin{array}{ll}\n",
        "        \\frac{dS(t)}{dt} = -\\lambda I(t)S(t)  \\\\\n",
        "        \\frac{dI(t)}{dt} = \\lambda I(t)S(t) - \\rho I(t) \\\\\n",
        "        \\frac{dR(t)}{dt} = \\rho I(t)\n",
        "    \\end{array}\n",
        "\\right.\n",
        "\\end{equation}\n",
        "\n",
        "**In this model, we assume that total population is constant.**\n",
        "\n",
        ">In mathematics, a differential equation is an equation that relates one or more unknown functions and their derivatives  (Unknows are equations not values)  \n",
        "> **A differential equation is an equation that describes the variation of a quantity over time**.     \n",
        "> A system simply means the presence of several equations.\n",
        "\n",
        "This system can be resolved by the **Euler's method**"
      ],
      "metadata": {
        "id": "erjYxesbuB6D"
      }
    },
    {
      "cell_type": "markdown",
      "source": [
        "#### Using number of individuals in each population classes instead of percentages\n",
        "\n",
        "As mentioned, the previous differential equations require specifying the percentage of population in each compartment S,I,R\n",
        "\n",
        "The differential equations below allow to use the number of individuals per compartment"
      ],
      "metadata": {
        "id": "Is9eMP_v3Zju"
      }
    },
    {
      "cell_type": "markdown",
      "source": [
        "\\begin{equation}\n",
        "\\left\\{\n",
        "    \\begin{array}{ll}\n",
        "        \\frac{dS(t)}{dt} = -\\frac{\\lambda S(t)}{N}I(t)  \\\\\n",
        "        \\frac{dI(t)}{dt} = \\frac{\\lambda S(t)}{N} - \\rho I(t) \\\\\n",
        "        \\frac{dR(t)}{dt} = \\rho I(t)\n",
        "    \\end{array}\n",
        "\\right.\n",
        "\\end{equation}"
      ],
      "metadata": {
        "id": "HDoo9H6X3mwa"
      }
    },
    {
      "cell_type": "markdown",
      "source": [
        "### Euler's method for solving the SIR model "
      ],
      "metadata": {
        "id": "ewKUEY0zKFx5"
      }
    },
    {
      "cell_type": "markdown",
      "source": [
        "The idea of Euler's Method: If we have a \"slope formula,\" i.e., a way to calculate  dy/dt  at any point  (t,y),  then we can generate a sequence of y-values, (In our case, the \"slopes-formulas\" are $\\frac{dS(t)}{dt}$, $\\frac{dI(t)}{dt}$, $\\frac{dR(t)}{dt}$)"
      ],
      "metadata": {
        "id": "Roe_cx6CKiCc"
      }
    },
    {
      "cell_type": "markdown",
      "source": [
        "y starting from a given  $y0$  and computing each rise as slope x run. That is, $y_0, y_1,y_2...$"
      ],
      "metadata": {
        "id": "5AoutzH_KpwB"
      }
    },
    {
      "cell_type": "markdown",
      "source": [
        "\\begin{equation}\n",
        "y_n = y_{n-1} + slope_{n-1} + \\Delta t\n",
        "\\end{equation}\n",
        "\n",
        "$\\Delta t$ is a suitably small step size in the time domain. "
      ],
      "metadata": {
        "id": "6X-5Sx5PMoCE"
      }
    },
    {
      "cell_type": "markdown",
      "source": [
        "Euler equations:  \n",
        "\\begin{equation}\n",
        "Sn = S_{n-1} + (\\frac{dS(t)}{dt})_{n-1}*\\Delta t\n",
        "\\end{equation}\n",
        "\\begin{equation}\n",
        "Sn = S_{n-1} + (-\\lambda S_{n-1}I_{n-1})*\\Delta t\n",
        "\\end{equation}\n",
        "\n",
        "<br><br>\n",
        "\\begin{equation}\n",
        "In = I_{n-1} + (\\frac{dI(t)}{dt})_{n-1}*\\Delta t\n",
        "\\end{equation}\n",
        "\\begin{equation}\n",
        "In = I_{n-1} + (-\\lambda S_{n-1}I_{n-1} - \\rho I_{n-1})*\\Delta t\n",
        "\\end{equation}\n",
        "\n",
        "\n",
        "<br><br>\n",
        "\\begin{equation}\n",
        "Rn = R_{n-1} + (\\frac{dR(t)}{dt})_{n-1}*\\Delta t\n",
        "\\end{equation}\n",
        "\\begin{equation}\n",
        "Rn = R_{n-1} + (\\rho I_{n-1})*\\Delta t\n",
        "\\end{equation}"
      ],
      "metadata": {
        "id": "xbGmQILkNSz0"
      }
    },
    {
      "cell_type": "code",
      "source": [
        "#Model parameters\n",
        "S_init = 30\n",
        "I_init = 50\n",
        "R_init = 20\n",
        "Lambda = 0.60\n",
        "rho = 0.20\n",
        "\n",
        "#Convert initials values to percentage (Necessary for the calculation)\n",
        "N = S_init + I_init + R_init\n",
        "S_init = S_init / N\n",
        "I_init = I_init / N\n",
        "R_init = R_init / N\n",
        "\n",
        "#Modeling duration\n",
        "days = 100\n",
        "deltaT = 1\n",
        "\n",
        "#Initialization of results\n",
        "S = np.zeros(days+1)\n",
        "I = np.zeros(days+1)\n",
        "R = np.zeros(days+1)\n",
        "\n",
        "#On the first day of the modeling, each compartment has its initial value\n",
        "S[0] = S_init\n",
        "I[0] = I_init\n",
        "R[0] = R_init\n",
        "\n",
        "#Euler's Method\n",
        "def EulerMethod(S,I,R,days,Lambda,Rho,deltaT):\n",
        "  for day in range(days):\n",
        "    n=day+1\n",
        "    S[n] = S[n-1] + (-Lambda*S[n-1]*I[n-1])*deltaT\n",
        "    I[n] = I[n-1] + (Lambda*S[n-1]*I[n-1] - rho*I[n-1])*deltaT\n",
        "    R[n] = R[n-1] + (rho*I[n-1])*deltaT\n",
        "\n",
        "  return S,I,R\n",
        "\n",
        "#Modeling with Euler's method\n",
        "S,I,R = EulerMethod(S,I,R,days,Lambda,rho,deltaT)\n",
        "\n",
        "#Convert percent values of S, I , R return by the Euler's method to real values\n",
        "S = np.multiply(S,N)\n",
        "I = np.multiply(I,N)\n",
        "R = np.multiply(R,N)"
      ],
      "metadata": {
        "id": "r_XtS6ORPdvk"
      },
      "execution_count": 24,
      "outputs": []
    },
    {
      "cell_type": "code",
      "source": [
        "plt.figure(figsize=(10,10))\n",
        "titre = \"SIR Model\"\n",
        "plt.title(titre.upper())\n",
        "plt.autoscale(enable=True, axis='both', tight=None)\n",
        "plt.plot(S,'grey',label=\"Susceptibles\")\n",
        "plt.plot(I,'red',label=\"Infected\")\n",
        "plt.plot(R,'green',label=\"Recovered\")\n",
        "plt.grid(b=True, which='major', c='#bbbbbb', lw=1, ls='-')\n",
        "\n",
        "plt.xlabel('Time (days)')\n",
        "plt.ylabel('Population')\n",
        "legend = plt.legend()\n",
        "legend.get_frame().set_alpha(0.5)\n",
        "\n",
        "plt.show()\n"
      ],
      "metadata": {
        "colab": {
          "base_uri": "https://localhost:8080/",
          "height": 621
        },
        "id": "PO-FrmAMcLOc",
        "outputId": "96036a51-01ab-4e35-de31-2e2d08375eb0"
      },
      "execution_count": 25,
      "outputs": [
        {
          "output_type": "display_data",
          "data": {
            "text/plain": [
              "<Figure size 720x720 with 1 Axes>"
            ],
            "image/png": "[encoded data removed]"
          },
          "metadata": {
            "needs_background": "light"
          }
        }
      ]
    },
    {
      "cell_type": "code",
      "source": [
        "def getDatas(day):\n",
        "    x = ['Population']\n",
        "    Sday = [S[day]]\n",
        "    Iday = [I[day]]\n",
        "    Rday = [R[day]]\n",
        "\n",
        "    print(\"S (number)=\",Sday[0])\n",
        "    print(\"I (number)=\",Iday[0])\n",
        "    print(\"R (number)=\",Rday[0])\n",
        "  \n",
        "    plt.figure(figsize=(10,10))\n",
        "    plt.bar(x, Sday, color='grey',label=\"Population in S (Number of individuals)\")\n",
        "    plt.bar(x, Iday, bottom=Sday, color='r',label=\"Population in I (Number of individuals)\")\n",
        "    plt.bar(x, Rday, bottom=Iday, color='g',label=\"Population in R (Number of individuals)\")\n",
        "    plt.legend()\n",
        "    plt.show()\n",
        "    \n",
        "interact(getDatas, day=widgets.IntSlider(min=1, max=days, step=1, value=1));"
      ],
      "metadata": {
        "colab": {
          "base_uri": "https://localhost:8080/",
          "height": 679,
          "referenced_widgets": [
            "c95b38d03cf4484aaa315f6c981859f8",
            "46ec6b16ba6c484a95d10d5a41f32ae0",
            "a8c0f1ecf58e470b956aedc912a0f0e7",
            "8645012a436f49a6802509b334a3c4a5",
            "7770224644704a3d95bde7aaed14789c",
            "09cc7df03a55475f8c3f269ff8a824ce",
            "d5b9e75e33a24316bf98086e41a4a0a8"
          ]
        },
        "id": "rGXh_QuXphKX",
        "outputId": "79403923-175a-489a-f07e-6d2e6405d085"
      },
      "execution_count": 34,
      "outputs": [
        {
          "output_type": "display_data",
          "data": {
            "text/plain": [
              "interactive(children=(IntSlider(value=1, description='day', min=1), Output()), _dom_classes=('widget-interact'…"
            ],
            "application/vnd.jupyter.widget-view+json": {
              "version_major": 2,
              "version_minor": 0,
              "model_id": "c95b38d03cf4484aaa315f6c981859f8"
            }
          },
          "metadata": {}
        }
      ]
    },
    {
      "cell_type": "markdown",
      "source": [
        "### Using odeint method (Ordinary Differential Equation) from Scipy package"
      ],
      "metadata": {
        "id": "591kLYDZLDuA"
      }
    },
    {
      "cell_type": "markdown",
      "source": [
        "> Documentation of the method : https://docs.scipy.org/doc/scipy/reference/generated/scipy.integrate.odeint.html"
      ],
      "metadata": {
        "id": "cvOaa_JJ0NiO"
      }
    },
    {
      "cell_type": "markdown",
      "source": [
        "\\begin{equation}\n",
        "\\left\\{\n",
        "    \\begin{array}{ll}\n",
        "        \\frac{dS(t)}{dt} = -\\lambda I(t)S(t)  \\\\\n",
        "        \\frac{dI(t)}{dt} = \\lambda I(t)S(t) - \\rho I(t) \\\\\n",
        "        \\frac{dR(t)}{dt} = \\rho I(t)\n",
        "    \\end{array}\n",
        "\\right.\n",
        "\\end{equation}"
      ],
      "metadata": {
        "id": "Tz8nPO0_vmFS"
      }
    },
    {
      "cell_type": "code",
      "source": [
        "#Function for modeling\n",
        "def SIRmodel(y,t,Lambda,rho):\n",
        "    S,I,R = y #Values to modeling \n",
        "    Smodeling = -Lambda*I*S\n",
        "    Imodeling = Lambda*I*S - rho*I\n",
        "    Rmodeling = rho*I\n",
        "\n",
        "    return Smodeling,Imodeling,Rmodeling\n",
        "\n",
        "\n",
        "#parameters\n",
        "#We use percentages for each classes, because we use differential equations requiring this format\n",
        "#CF: \"Using number of individual in each population class instead of percentage\" of the note book \n",
        "S= 0.3\n",
        "I= 0.5\n",
        "R= 0.2\n",
        "days = np.linspace(0,100,100)\n",
        "Lambda = 0.60\n",
        "rho = 0.20\n",
        "\n",
        "#Using Odeint for modeling\n",
        "modeling = odeint(SIRmodel,\n",
        "                   [S,I,R], #y parameters of the SIR fonction (Subpopulation to be modelized)\n",
        "                   days,#t parameter of the SIR function (numbers of days in our case)\n",
        "                   args=(Lambda,rho) #all parameters used for modeling\n",
        "                   )\n"
      ],
      "metadata": {
        "id": "XX1oc6m_tz8c"
      },
      "execution_count": 35,
      "outputs": []
    },
    {
      "cell_type": "code",
      "source": [
        "S,I,R = modeling.T\n",
        "\n",
        "plt.figure(figsize=(10,10))\n",
        "titre = \"SIR Model\"\n",
        "plt.title(titre.upper())\n",
        "plt.autoscale(enable=True, axis='both', tight=None)\n",
        "plt.plot(S,'grey',label=\"Susceptibles\")\n",
        "plt.plot(I,'red',label=\"Infected\")\n",
        "plt.plot(R,'green',label=\"Recovered\")\n",
        "plt.grid(b=True, which='major', c='#bbbbbb', lw=1, ls='-')\n",
        "\n",
        "plt.xlabel('Time (days)')\n",
        "plt.ylabel('Population')\n",
        "legend = plt.legend()\n",
        "legend.get_frame().set_alpha(0.5)\n",
        "\n",
        "plt.show()"
      ],
      "metadata": {
        "colab": {
          "base_uri": "https://localhost:8080/",
          "height": 621
        },
        "id": "QKw_rlwK0ByD",
        "outputId": "28a19a68-877d-45a1-eb03-f219b21dfdd8"
      },
      "execution_count": 36,
      "outputs": [
        {
          "output_type": "display_data",
          "data": {
            "text/plain": [
              "<Figure size 720x720 with 1 Axes>"
            ],
            "image/png": "[encoded data removed]"
          },
          "metadata": {
            "needs_background": "light"
          }
        }
      ]
    },
    {
      "cell_type": "markdown",
      "source": [
        "# Modeling the transmission dynamic of the Monkeypox with treatment and vaccination interventions"
      ],
      "metadata": {
        "id": "YRtY9pNklEWW"
      }
    },
    {
      "cell_type": "markdown",
      "source": [
        "This work is based on: \n",
        "\n",
        "> Usman, S. and\n",
        "Adamu, I.I. (2017) Modeling the Transmission Dynamics of the Monkeypox Virus\n",
        "Infection with Treatment and Vaccination\n",
        "Interventions. Journal of Applied Mathematics and Physics, 5, 2335-2353.\n",
        "https://doi.org/10.4236/jamp.2017.512191  \n",
        "https://www.scirp.org/pdf/JAMP_2017121414351920.pdf"
      ],
      "metadata": {
        "id": "2LgajrxvlHv-"
      }
    },
    {
      "cell_type": "markdown",
      "source": [
        "## Description of the SVEIR compartmental model "
      ],
      "metadata": {
        "id": "GhSR2dLZmEZi"
      }
    },
    {
      "cell_type": "markdown",
      "source": [
        "The SVEIR model is an example of a compartmental model, i.e. the population is divided into several categories.\n",
        "For a given population, we study the size of five sub-populations over time t"
      ],
      "metadata": {
        "id": "i26fVBAEiASh"
      }
    },
    {
      "cell_type": "markdown",
      "source": [
        "The model explained in the paper divides the host population into two; \n",
        "- The non-human primates and/or some wild rodents, \n",
        "- The humans host population\n",
        "\n",
        "**These two populations are linked because the human is contaminated by the non-human class**"
      ],
      "metadata": {
        "id": "sgBzkSnemHr5"
      }
    },
    {
      "cell_type": "markdown",
      "source": [
        "![image.png](data:image/png;base64,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)"
      ],
      "metadata": {
        "id": "w6BmU2HuH3rB"
      }
    },
    {
      "cell_type": "markdown",
      "source": [
        "## Name of model parameters"
      ],
      "metadata": {
        "id": "PsBGPSIbnKim"
      }
    },
    {
      "cell_type": "markdown",
      "source": [
        "### Non-human population (monkey)"
      ],
      "metadata": {
        "id": "MEfInSqUqadD"
      }
    },
    {
      "cell_type": "markdown",
      "source": [
        "\\begin{equation}\n",
        "n = \\text{ Non-human}\n",
        "\\end{equation}\n",
        "\n",
        "\\begin{equation}\n",
        "N_n = \\text{ Initial population of non-human}\n",
        "\\end{equation}\n",
        "\n",
        "\\begin{equation}\n",
        "S_n = \\text{ Susceptible subpopulation}\n",
        "\\end{equation}\n",
        "\n",
        "\\begin{equation}\n",
        "E_n = \\text{Exposed/Latent subpopulation}\n",
        "\\end{equation}\n",
        "\n",
        "\\begin{equation}\n",
        "I_n = \\text{Infected subpopulation}\n",
        "\\end{equation}\n",
        "\n",
        "\\begin{equation}\n",
        "R_n = \\text{Recovered subpopulation}\n",
        "\\end{equation}\n",
        "\n",
        "<b>Informations<b>\n",
        "\n",
        "\\begin{equation}\n",
        "\\Lambda_n = \\text{Constant birth rate}\n",
        "\\end{equation}\n",
        "\n",
        "\n",
        "\n",
        "\n",
        "Compartments transitions parameters\n",
        "\n",
        "\\begin{equation}\n",
        "\\lambda_n = \\text{Transition rate from Susceptible to Expected }\n",
        "\\end{equation}\n",
        "\n",
        "\\begin{equation}\n",
        "\\lambda_n = \\beta_{n1} \\frac{I_n}{N_n}\n",
        "\\end{equation}\n",
        "\n",
        "\\begin{equation}\n",
        "\\beta_{n1} = \\text{is the product of effective contact rate and probability of the non-human primate getting infected per contact}\n",
        "\\end{equation}\n",
        "\n",
        "\\begin{equation}\n",
        "v_n = \\text{Transition rate from Exposed to Infected}\n",
        "\\end{equation}\n",
        "\\begin{equation}\n",
        "d_n = \\text{Death rate after infection}\n",
        "\\end{equation}\n",
        "\\begin{equation}\n",
        "\\rho_n = \\text{Transition rate from Infected to Recovered}\n",
        "\\end{equation}\n",
        "\\begin{equation}\n",
        "\\mu_n = \\text{Natural mortality rate}\n",
        "\\end{equation}\n",
        "\n"
      ],
      "metadata": {
        "id": "57OUSTClmjzh"
      }
    },
    {
      "cell_type": "markdown",
      "source": [
        "### Human population"
      ],
      "metadata": {
        "id": "kKhcGtM1qgEj"
      }
    },
    {
      "cell_type": "markdown",
      "source": [
        "\\begin{equation}\n",
        "h = \\text{human}\n",
        "\\end{equation}\n",
        "\n",
        "\\begin{equation}\n",
        "N_h = \\text{ Initial population of human}\n",
        "\\end{equation}\n",
        "\n",
        "\\begin{equation}\n",
        "S_h = \\text{ Susceptible subpopulation}\n",
        "\\end{equation}\n",
        "\n",
        "\\begin{equation}\n",
        "V_h = \\text{ Vaccinated subpopulation}\n",
        "\\end{equation}\n",
        "\n",
        "\\begin{equation}\n",
        "E_n = \\text{Exposed/Latent subpopulation}\n",
        "\\end{equation}\n",
        "\n",
        "\\begin{equation}\n",
        "I_n = \\text{Infected subpopulation}\n",
        "\\end{equation}\n",
        "\n",
        "\\begin{equation}\n",
        "R_n = \\text{Recovered subpopulation}\n",
        "\\end{equation}\n",
        "\n",
        "<b>Informations<b>\n",
        "\n",
        "\\begin{equation}\n",
        "\\Lambda_h = \\text{Constant birth and migration rate}\n",
        "\\end{equation}\n",
        "\n",
        "\n",
        "\n",
        "Compartments transitions parameters\n",
        "\n",
        "\\begin{equation}\n",
        "\\lambda_h = \\text{Transition rate between Susceptible to Exposed }\n",
        "\\end{equation}\n",
        "\n",
        "\\begin{equation}\n",
        "\\lambda_h = \\beta_{n2} \\frac{I_n}{N_n} \\beta_{h}\\frac{I_h}{N_h}\n",
        "\\end{equation}\n",
        "\n",
        ">This introduces a dependency of the non-human and human models, because the parameters $I_n$ and $N$, belonging to the non-human model are used in the human model.\n",
        "\n",
        "> This allows to take into account the human contamination by the animal\n",
        "\n",
        "\\begin{equation}\n",
        "\\beta_{n2} = \\text{Is the product of the effective contact rate and probability of the }  \n",
        "\\end{equation}\n",
        "\\begin{equation}\n",
        "\\text {human being infected per contact with an infectious non-human primate animal}\n",
        "\\end{equation}\n",
        "<br>\n",
        "\n",
        "\n",
        "\\begin{equation}\n",
        "\\beta_{h} = \\text{Is the product of the effective contact rate and the probability of the human being infected with monkeypox virus}\n",
        "\\end{equation}\n",
        "\\begin{equation}\n",
        "\\text{after getting into contact with an infectious human per contact}\n",
        "\\end{equation}\n",
        "\n",
        "<br>\n",
        " \n",
        "\\begin{equation}\n",
        "\\alpha_n = \\text{Vaccination transition rate between Susceptible to Vaccined}\n",
        "\\end{equation}\n",
        "\n",
        "\\begin{equation}\n",
        "v_h = \\text{Transition rate from Exposed to Infected}\n",
        "\\end{equation}\n",
        "\\begin{equation}\n",
        "d_h = \\text{Death rate after infection}\n",
        "\\end{equation}\n",
        "\\begin{equation}\n",
        "\\rho_h = \\text{Transition rate from Infected to Recovered}\n",
        "\\end{equation}\n",
        "\\begin{equation}\n",
        "\\mu_h = \\text{Natural mortality rate}\n",
        "\\end{equation}\n",
        "\n",
        "\n"
      ],
      "metadata": {
        "id": "55leI2mwsldq"
      }
    },
    {
      "cell_type": "markdown",
      "source": [
        "## Differentials equations and modeling"
      ],
      "metadata": {
        "id": "lU6UCOSj_-eC"
      }
    },
    {
      "cell_type": "markdown",
      "source": [
        "The derivatives allow us to know the variation (i.e. whether it is increasing or decreasing) of the functions S, V,E, I and R as a function of time t, in order to describe their evolution over time."
      ],
      "metadata": {
        "id": "nDxNesaLmfiM"
      }
    },
    {
      "cell_type": "code",
      "source": [
        "#Period of modelisation : 150 Months\n",
        "months = np.linspace(0,150,150)"
      ],
      "metadata": {
        "id": "1eyroCFGbIYH"
      },
      "execution_count": 41,
      "outputs": []
    },
    {
      "cell_type": "markdown",
      "source": [
        "\n",
        "\n",
        "```\n",
        "# Ce texte est au format code\n",
        "```\n",
        "\n",
        "### Non human population"
      ],
      "metadata": {
        "id": "zKu9vU8pmsaT"
      }
    },
    {
      "cell_type": "markdown",
      "source": [
        "#### Parameters"
      ],
      "metadata": {
        "id": "PVi2uaB3nOUc"
      }
    },
    {
      "cell_type": "markdown",
      "source": [
        "\n",
        "\\begin{equation}\n",
        "  \\Lambda_n = 0.2\n",
        "\\end{equation}\n",
        "\\begin{equation}\n",
        "  \\mu_n = 0.1\n",
        "\\end{equation}\n",
        "\\begin{equation}\n",
        "  d_n = 0.2\n",
        "\\end{equation}\n",
        "\\begin{equation}\n",
        "  \\rho_n = 0.3\n",
        "\\end{equation}\n",
        "\\begin{equation}\n",
        "  v_n = 0.3\n",
        "\\end{equation}\n",
        "\\begin{equation}\n",
        "  \\beta_{n1} = 0.0027\n",
        "\\end{equation}\n",
        "\\begin{equation}\n",
        "  \\beta_{n2} = 0.00252\n",
        "\\end{equation}\n",
        "<br>"
      ],
      "metadata": {
        "id": "bnoAWPTGnQv7"
      }
    },
    {
      "cell_type": "code",
      "source": [
        "Lambda_n = 0.2\n",
        "mu_n = 0.1\n",
        "d_n = 0.2\n",
        "rho_n=0.3\n",
        "v_n = 0.3\n",
        "beta_n1 = 0.0027\n",
        "beta_n2= 0.00252"
      ],
      "metadata": {
        "id": "oQTPkatyG6XD"
      },
      "execution_count": 38,
      "outputs": []
    },
    {
      "cell_type": "markdown",
      "source": [
        "\n",
        "\n",
        "\\begin{equation}\n",
        "  S_n = 250\n",
        "\\end{equation}\n",
        "\\begin{equation}\n",
        "  E_n = 125\n",
        "\\end{equation}\n",
        "\\begin{equation}\n",
        "  I_n = 75\n",
        "\\end{equation}\n",
        "\\begin{equation}\n",
        "  R_n = 50\n",
        "\\end{equation}\n",
        "\\begin{equation}\n",
        "  N_n = S_n + E_n + I_n + R_n\n",
        "\\end{equation}\n",
        "\n",
        "<br>\n"
      ],
      "metadata": {
        "id": "calv7OMNranM"
      }
    },
    {
      "cell_type": "code",
      "source": [
        "S_n = 250\n",
        "E_n = 125\n",
        "I_n = 75\n",
        "R_n = 50\n",
        "N_n = S_n+E_n+I_n+R_n"
      ],
      "metadata": {
        "id": "JD41rKslHT6k"
      },
      "execution_count": 39,
      "outputs": []
    },
    {
      "cell_type": "markdown",
      "source": [
        "#### Susceptible non-human subpopulation differential equation"
      ],
      "metadata": {
        "id": "syA9PeXpm2ZM"
      }
    },
    {
      "cell_type": "markdown",
      "source": [
        "\\begin{equation}\n",
        "  \\frac{dS_n(t)}{dt} = \\Lambda_n - (\\mu_n+\\lambda_n)S_n(t)\n",
        "\\end{equation}"
      ],
      "metadata": {
        "id": "bwyZM935E65n"
      }
    },
    {
      "cell_type": "markdown",
      "source": [
        "#### Exposed non-human subpopulation differential equation"
      ],
      "metadata": {
        "id": "DGxg6auNx8fI"
      }
    },
    {
      "cell_type": "markdown",
      "source": [
        "\\begin{equation}\n",
        "  \\frac{dE_n(t)}{dt} = \\lambda_nS_n(t)-(\\mu_n+v_n)E_n(t)\n",
        "\\end{equation}"
      ],
      "metadata": {
        "id": "5egE8TYgyEYb"
      }
    },
    {
      "cell_type": "markdown",
      "source": [
        "#### Infected non-human subpopulation differential equation"
      ],
      "metadata": {
        "id": "3NJf8e0yvQVh"
      }
    },
    {
      "cell_type": "markdown",
      "source": [
        "\\begin{equation}\n",
        "  \\frac{dI_n(t)}{dt} = v_nE_n(t)-(\\mu_n+d_n+p_n)I_n(t)\n",
        "\\end{equation}"
      ],
      "metadata": {
        "id": "Bd7fCZjovWt0"
      }
    },
    {
      "cell_type": "markdown",
      "source": [
        "#### Recovered non-human subpopulation differential equation"
      ],
      "metadata": {
        "id": "Fl9aWt2Hk3ST"
      }
    },
    {
      "cell_type": "markdown",
      "source": [
        "\\begin{equation}\n",
        "  \\frac{dR_n(t)}{dt} = \\rho_nI_n-\\mu_nR_n(t)\n",
        "\\end{equation}"
      ],
      "metadata": {
        "id": "YBbdUyUpfAt2"
      }
    },
    {
      "cell_type": "markdown",
      "source": [
        "#### SEIR Modeling for non-human population"
      ],
      "metadata": {
        "id": "JeplaLwJe1pc"
      }
    },
    {
      "cell_type": "code",
      "source": [
        "def SEIR(y,t,Lambda_n,mu_n,d_n,rho_n,v_n,beta_n1,N_n):\n",
        "\n",
        "  S_n,E_n,I_n,R_n = y\n",
        "\n",
        "  lambda_n = beta_n1*(I_n/N_n)\n",
        "\n",
        "  S_nModeling = Lambda_n-(mu_n+lambda_n)*S_n\n",
        "  E_nModeling = lambda_n*S_n-(mu_n+v_n)*E_n\n",
        "  I_nModeling = v_n*E_n-(mu_n+d_n+rho_n)*I_n\n",
        "  R_nModeling = rho_n*I_n - mu_n*R_n\n",
        "\n",
        "  return S_nModeling,E_nModeling,I_nModeling,R_nModeling\n",
        "\n",
        "\n",
        "NonHumanModeling = odeint(SEIR,\n",
        "                   [S_n,E_n,I_n,R_n], #y parameters of the SEIR fonction (Subpopulation to be modelized)\n",
        "                   months,#t parameter of the SEIR function (150 months in our case)\n",
        "                   args=(Lambda_n,mu_n,d_n,rho_n,v_n,beta_n1,N_n) #all parameters used for modelisation\n",
        "                   )"
      ],
      "metadata": {
        "id": "JvSNKkOegJaM"
      },
      "execution_count": 42,
      "outputs": []
    },
    {
      "cell_type": "code",
      "source": [
        "SnModeling, EnModeling, InModeling, RnModeling = NonHumanModeling.T\n",
        "\n",
        "\n",
        "figure(figsize=(8, 6), dpi=80)\n",
        "plt.plot(months,SnModeling,'grey',label=\"Susceptibles\")\n",
        "plt.title(\"MonkeyPox - Susceptible Non-Humain subpopulation\")\n",
        "plt.ylabel(\"Sn(t)\")\n",
        "plt.xlabel(\"Time (months)\")\n",
        "plt.show()\n",
        "\n",
        "figure(figsize=(8, 6), dpi=80)\n",
        "plt.plot(months,EnModeling,'orange',label=\"Exposed\")\n",
        "plt.title(\"MonkeyPox - Exposed Non-Humain subpopulation\")\n",
        "plt.ylabel(\"En(t)\")\n",
        "plt.xlabel(\"Time (months)\")\n",
        "plt.show()\n",
        "\n",
        "figure(figsize=(8, 6), dpi=80)\n",
        "plt.plot(months,InModeling,'red',label=\"Exposed\")\n",
        "plt.title(\"MonkeyPox - Infected Non-Humain subpopulation\")\n",
        "plt.ylabel(\"In(t)\")\n",
        "plt.xlabel(\"Time (months)\")\n",
        "plt.show()\n",
        "\n",
        "figure(figsize=(8, 6), dpi=80)\n",
        "plt.plot(months,RnModeling,'green',label=\"Exposed\")\n",
        "plt.title(\"MonkeyPox - Recovered Non-Humain subpopulation\")\n",
        "plt.ylabel(\"Rn(t)\")\n",
        "plt.xlabel(\"Time (months)\")\n",
        "plt.show()\n",
        "\n",
        "\n",
        "plt.figure(figsize=(10,10))\n",
        "titre = \"Monkeypox - Non human\"\n",
        "plt.title(titre.upper())\n",
        "plt.autoscale(enable=True, axis='both', tight=None)\n",
        "plt.plot(months,SnModeling,'grey',label=\"Susceptibles\")\n",
        "plt.plot(months,EnModeling,'orange',label=\"Exposed\")\n",
        "plt.plot(months,InModeling,'red',label=\"Infected\")\n",
        "plt.plot(months,RnModeling,'green',label=\"Recovered\")\n",
        "plt.grid(b=True, which='major', c='#bbbbbb', lw=1, ls='-')\n",
        "\n",
        "plt.xlabel('Time (months)')\n",
        "plt.ylabel('Population')\n",
        "legend = plt.legend()\n",
        "legend.get_frame().set_alpha(0.5)\n",
        "\n",
        "plt.show()"
      ],
      "metadata": {
        "colab": {
          "base_uri": "https://localhost:8080/",
          "height": 1000
        },
        "id": "wTICgmqsgVlQ",
        "outputId": "2068a6b5-fdb6-4789-b134-4fe24b4ea257"
      },
      "execution_count": 43,
      "outputs": [
        {
          "output_type": "display_data",
          "data": {
            "text/plain": [
              "<Figure size 640x480 with 1 Axes>"
            ],
            "image/png": "[encoded data removed]"
          },
          "metadata": {
            "needs_background": "light"
          }
        },
        {
          "output_type": "display_data",
          "data": {
            "text/plain": [
              "<Figure size 640x480 with 1 Axes>"
            ],
            "image/png": "[encoded data removed]"
          },
          "metadata": {
            "needs_background": "light"
          }
        },
        {
          "output_type": "display_data",
          "data": {
            "text/plain": [
              "<Figure size 640x480 with 1 Axes>"
            ],
            "image/png": "[encoded data removed]"
          },
          "metadata": {
            "needs_background": "light"
          }
        },
        {
          "output_type": "display_data",
          "data": {
            "text/plain": [
              "<Figure size 640x480 with 1 Axes>"
            ],
            "image/png": "[encoded data removed]"
          },
          "metadata": {
            "needs_background": "light"
          }
        },
        {
          "output_type": "display_data",
          "data": {
            "text/plain": [
              "<Figure size 720x720 with 1 Axes>"
            ],
            "image/png": "[encoded data removed]"
          },
          "metadata": {
            "needs_background": "light"
          }
        }
      ]
    },
    {
      "cell_type": "markdown",
      "source": [
        "#### R0 (Reproduction rate) for non-human\n",
        "\n",
        "> The reproduction rate $R0$ is the average number of secondary cases produced by an infectious individual during its period of infection.\n",
        "\n",
        "Impact on the $I(t)$ curve :\n",
        "\n",
        "> **if $R0$>1, then $I(t)$ grows, reaches its maximum and then decreases to 0 when t tends to +∞: it is an epidemic**.  \n",
        "Otherwise, $I(t)$ decreases directly to 0 when $t$ tends to +∞: there is no epidemic."
      ],
      "metadata": {
        "id": "e1cmPL8g1CDI"
      }
    },
    {
      "cell_type": "markdown",
      "source": [
        "\\begin{equation}\n",
        "R_{0,n} = \\frac{v_n\\beta_{n1}}{(\\mu_n+d_n+\\rho_n)*(\\mu_n+v_n)}\n",
        "\\end{equation}"
      ],
      "metadata": {
        "id": "Kr8o7g8p1yGA"
      }
    },
    {
      "cell_type": "code",
      "source": [
        "plt.figure(figsize=(6,6))\n",
        "titre = \"Monkeypox - Non human Infected\"\n",
        "plt.title(titre.upper())\n",
        "plt.plot(months,InModeling,'red',label=\"Infected\")\n",
        "plt.grid(b=True, which='major', c='#bbbbbb', lw=1, ls='-')"
      ],
      "metadata": {
        "colab": {
          "base_uri": "https://localhost:8080/",
          "height": 390
        },
        "id": "9nWDf-LuTzk6",
        "outputId": "443780da-e06a-49a1-c179-4204397dab87"
      },
      "execution_count": 50,
      "outputs": [
        {
          "output_type": "display_data",
          "data": {
            "text/plain": [
              "<Figure size 432x432 with 1 Axes>"
            ],
            "image/png": "[encoded data removed]"
          },
          "metadata": {
            "needs_background": "light"
          }
        }
      ]
    },
    {
      "cell_type": "markdown",
      "source": [
        "$I(t)$ decrease directly there is non epidemic"
      ],
      "metadata": {
        "id": "HDTkaIpX3wCQ"
      }
    },
    {
      "cell_type": "code",
      "source": [
        "R0_n = (v_n*beta_n1) / ((mu_n+d_n+rho_n)*(mu_n+v_n))\n",
        "print(\"R0 for non-human\",R0_n)"
      ],
      "metadata": {
        "colab": {
          "base_uri": "https://localhost:8080/"
        },
        "id": "Hz_zEfNW1jdB",
        "outputId": "237215ce-0a55-4d8a-ef86-8aa11c7e92b3"
      },
      "execution_count": 89,
      "outputs": [
        {
          "output_type": "stream",
          "name": "stdout",
          "text": [
            "R0 for non-human 0.0033749999999999995\n"
          ]
        }
      ]
    },
    {
      "cell_type": "code",
      "source": [
        "if(R0_n < 1 ):\n",
        "  print(\"No epidemic\")\n",
        "else:\n",
        "  print(\"Epidemic !!\")"
      ],
      "metadata": {
        "colab": {
          "base_uri": "https://localhost:8080/"
        },
        "id": "4hRYzdAD6rB0",
        "outputId": "334551d8-caf2-4812-8b82-8ffbe376c529"
      },
      "execution_count": 88,
      "outputs": [
        {
          "output_type": "stream",
          "name": "stdout",
          "text": [
            "No epidemic\n"
          ]
        }
      ]
    },
    {
      "cell_type": "markdown",
      "source": [
        "### Human population with vaccine treatment"
      ],
      "metadata": {
        "id": "RbePo4ll62ne"
      }
    },
    {
      "cell_type": "markdown",
      "source": [
        "#### Parameters"
      ],
      "metadata": {
        "id": "2zaeFYub9AI0"
      }
    },
    {
      "cell_type": "markdown",
      "source": [
        "\\begin{equation}\n",
        "  \\Lambda_h = 0.029\n",
        "\\end{equation}\n",
        "\\begin{equation}\n",
        "  \\mu_h = 0.02\n",
        "\\end{equation}\n",
        "\\begin{equation}\n",
        "  d_h = 0.1\n",
        "\\end{equation}\n",
        "\\begin{equation}\n",
        "  \\rho_h = 0.83\n",
        "\\end{equation}\n",
        "\\begin{equation}\n",
        "  v_h = 0.095\n",
        "\\end{equation}\n",
        "\\begin{equation}\n",
        "  \\alpha_h = 0.1\n",
        "\\end{equation}\n",
        "\\begin{equation}\n",
        "  \\beta_{n2} = 0.00252\n",
        "\\end{equation}\n",
        "\\begin{equation}\n",
        "  \\beta_{h} = 0.000063\n",
        "\\end{equation}\n",
        "<br>"
      ],
      "metadata": {
        "id": "9wHLHwFT9CWV"
      }
    },
    {
      "cell_type": "code",
      "source": [
        "Lambda_h = 0.029\n",
        "mu_h = 0.02\n",
        "d_h = 0.1\n",
        "rho_h=0.83\n",
        "v_h = 0.095\n",
        "alpha_h= 0.1\n",
        "beta_n2= 0.00252\n",
        "beta_h = 0.000063"
      ],
      "metadata": {
        "id": "Q_gMAUWb9o8f"
      },
      "execution_count": 54,
      "outputs": []
    },
    {
      "cell_type": "markdown",
      "source": [
        "\\begin{equation}\n",
        "  S_h = 8000\n",
        "\\end{equation}\n",
        "\\begin{equation}\n",
        "  V_h = 5000\n",
        "\\end{equation}\n",
        "\\begin{equation}\n",
        "  E_h = 3000\n",
        "\\end{equation}\n",
        "\\begin{equation}\n",
        "  I_h = 2000\n",
        "\\end{equation}\n",
        "\\begin{equation}\n",
        "  R_h = 2000\n",
        "\\end{equation}\n",
        "\\begin{equation}\n",
        "  N_h = S_h + V_h+ E_h + I_h + R_h\n",
        "\\end{equation}\n",
        "\n",
        "<br>\n"
      ],
      "metadata": {
        "id": "cu5q8Rz-96EE"
      }
    },
    {
      "cell_type": "code",
      "source": [
        "S_h = 8000\n",
        "V_h = 5000\n",
        "E_h = 3000\n",
        "I_h = 2000\n",
        "R_h = 2000\n",
        "N_h = S_h+V_h+E_h+I_h+R_h"
      ],
      "metadata": {
        "id": "WD8t48UI95bc"
      },
      "execution_count": 56,
      "outputs": []
    },
    {
      "cell_type": "markdown",
      "source": [
        "#### Susceptible human subpopulation differential equation"
      ],
      "metadata": {
        "id": "dG3AIAPH7g31"
      }
    },
    {
      "cell_type": "markdown",
      "source": [
        "\\begin{equation}\n",
        "  \\frac{dS_h(t)}{dt} = \\Lambda_h-(\\mu_h+\\lambda_h+\\alpha_h)S_h(t)\n",
        "\\end{equation}\n"
      ],
      "metadata": {
        "id": "Qc6H9oCx7m--"
      }
    },
    {
      "cell_type": "markdown",
      "source": [
        "#### Vaccined human subpopulation differential equation"
      ],
      "metadata": {
        "id": "E9PVImtwDnp0"
      }
    },
    {
      "cell_type": "markdown",
      "source": [
        "\\begin{equation}\n",
        "  \\frac{dV_h(t)}{dt} = \\alpha_hS_h(t)-\\mu_hV_h(t)\n",
        "\\end{equation}"
      ],
      "metadata": {
        "id": "wo1Lpib0Dsb0"
      }
    },
    {
      "cell_type": "markdown",
      "source": [
        "#### Exposed human subpopulation differential equation"
      ],
      "metadata": {
        "id": "7eFFbDJKFYjc"
      }
    },
    {
      "cell_type": "markdown",
      "source": [
        "\\begin{equation}\n",
        "  \\frac{dV_h(t)}{dt} = \\lambda_hS_h(T)-(\\mu_h+v_h)E_h(t)\n",
        "\\end{equation}"
      ],
      "metadata": {
        "id": "YHmrcazFFhZ7"
      }
    },
    {
      "cell_type": "markdown",
      "source": [
        "#### Infected human subpopulation differential equation"
      ],
      "metadata": {
        "id": "Lh1_vxJxGlzn"
      }
    },
    {
      "cell_type": "markdown",
      "source": [
        "\\begin{equation}\n",
        "  \\frac{dI_h(t)}{dt} = v_hE_h(t)-(u_h+d_h+\\rho_h)I_h(t)\n",
        "\\end{equation}"
      ],
      "metadata": {
        "id": "0aHgvcGfHukl"
      }
    },
    {
      "cell_type": "markdown",
      "source": [
        "#### Recovered humain subpopulation differential equation"
      ],
      "metadata": {
        "id": "s1fTmIlUIh19"
      }
    },
    {
      "cell_type": "markdown",
      "source": [
        "\\begin{equation}\n",
        "  \\frac{dR_h(t)}{dt} = \\rho_hI_h(t)-\\mu_hR_h(t)\n",
        "\\end{equation}"
      ],
      "metadata": {
        "id": "dft5WoSGImpk"
      }
    },
    {
      "cell_type": "markdown",
      "source": [
        "#### SVEIR Modeling (with vaccine) for human population"
      ],
      "metadata": {
        "id": "TcophRBTjePH"
      }
    },
    {
      "cell_type": "markdown",
      "source": [
        "Do not forget that the parameter needs to take into account the sub-population of infected non-human individuals.  \n",
        "This population In, evolves with time.   \n",
        "**Therefore, we must take into account the modeling of the non-human population in the human modeling**"
      ],
      "metadata": {
        "id": "dYBYXWWynfwO"
      }
    },
    {
      "cell_type": "code",
      "source": [
        "def SVEIR(y,t,Lambda_n,mu_n,d_n,rho_n,v_n,beta_n1,N_n,Lambda_h,mu_h,d_h,rho_h,v_h,alpha_h,beta_n2,beta_h,N_h):\n",
        "\n",
        "  S_n,E_n,I_n,R_n,S_h,V_h,E_h,I_h,R_h = y\n",
        "\n",
        "  #Non Human modelisation\n",
        "  lambda_n = beta_n1*(I_n/N_n)\n",
        "  S_nModeling = Lambda_n-(mu_n+lambda_n)*S_n\n",
        "  E_nModeling = lambda_n*S_n-(mu_n+v_n)*E_n\n",
        "  I_nModeling = v_n*E_n-(mu_n+d_n+rho_n)*I_n\n",
        "  R_nModeling = rho_n*I_n - mu_n*R_n\n",
        "\n",
        "  #Human modelisation\n",
        "  lambda_h = beta_n2*(I_n/N_n)+beta_h*(I_h/N_h) #Use I_n (non human infected)\n",
        "\n",
        "  S_hModeling = Lambda_h-(mu_h+lambda_h+alpha_h)*S_h\n",
        "  V_hModeling = alpha_h*S_h - mu_h*V_h\n",
        "  E_hModeling = lambda_h*S_h-(mu_h+v_h)*E_h\n",
        "  I_hModeling = v_h*E_h-(mu_h+d_h+rho_h)*I_h\n",
        "  R_hModeling = rho_h*I_h - mu_h*R_h\n",
        "\n",
        "  return S_nModeling,E_nModeling,I_nModeling,R_nModeling,S_hModeling,V_hModeling,E_hModeling,I_hModeling,R_hModeling\n",
        "\n",
        "\n",
        "HumanModeling = odeint(SVEIR,\n",
        "                   [S_n,E_n,I_n,R_n,S_h,V_h,E_h,I_h,R_h], #y parameters of the SVEIR fonction (Subpopulation to be modelized)\n",
        "                   months,#t parameter of the SEIR function (150 months in our case)\n",
        "                   args=(Lambda_n,mu_n,d_n,rho_n,v_n,beta_n1,N_n,Lambda_h,mu_h,d_h,rho_h,v_h,alpha_h,beta_n2,beta_h,N_h) #all parameters used for modelisation\n",
        "                   )"
      ],
      "metadata": {
        "id": "UdwcZws_jjVZ"
      },
      "execution_count": 59,
      "outputs": []
    },
    {
      "cell_type": "code",
      "source": [
        "SnModeling, EnModeling, InModeling, RnModeling,ShModeling, VhModeling,EhModeling, IhModeling, RhModeling = HumanModeling.T\n",
        "\n",
        "\n",
        "figure(figsize=(8, 6), dpi=80)\n",
        "plt.plot(months,ShModeling,'grey',label=\"Susceptibles\")\n",
        "plt.title(\"MonkeyPox - Susceptible human subpopulation\")\n",
        "plt.ylabel(\"Sh(t)\")\n",
        "plt.xlabel(\"Time (months)\")\n",
        "plt.show()\n",
        "\n",
        "figure(figsize=(8, 6), dpi=80)\n",
        "plt.plot(months,VhModeling,'blue',label=\"Vaccinated\")\n",
        "plt.title(\"MonkeyPox - Vaccinated human subpopulation\")\n",
        "plt.ylabel(\"Vn(t)\")\n",
        "plt.xlabel(\"Time (months)\")\n",
        "plt.show()\n",
        "\n",
        "\n",
        "figure(figsize=(8, 6), dpi=80)\n",
        "plt.plot(months,EhModeling,'orange',label=\"Exposed\")\n",
        "plt.title(\"MonkeyPox - Exposed human subpopulation\")\n",
        "plt.ylabel(\"Eh(t)\")\n",
        "plt.xlabel(\"Time (months)\")\n",
        "plt.show()\n",
        "\n",
        "figure(figsize=(8, 6), dpi=80)\n",
        "plt.plot(months,IhModeling,'red',label=\"Infected\")\n",
        "plt.title(\"MonkeyPox - Infected non-human subpopulation\")\n",
        "plt.ylabel(\"Ih(t)\")\n",
        "plt.xlabel(\"Time (months)\")\n",
        "plt.show()\n",
        "\n",
        "figure(figsize=(8, 6), dpi=80)\n",
        "plt.plot(months,RhModeling,'green',label=\"Recovered\")\n",
        "plt.title(\"MonkeyPox - Recovered human subpopulation\")\n",
        "plt.ylabel(\"Rh(t)\")\n",
        "plt.xlabel(\"Time (months)\")\n",
        "plt.show()\n",
        "\n",
        "\n",
        "\n",
        "plt.figure(figsize=(10,10))\n",
        "titre = \"Monkeypox - human\"\n",
        "plt.title(titre.upper())\n",
        "plt.autoscale(enable=True, axis='both', tight=None)\n",
        "plt.plot(months,ShModeling,'grey',label=\"Susceptibles\")\n",
        "plt.plot(months,VhModeling,'blue',label=\"Vaccinated\")\n",
        "plt.plot(months,EhModeling,'orange',label=\"Exposed\")\n",
        "plt.plot(months,IhModeling,'red',label=\"Infected\")\n",
        "plt.plot(months,RhModeling,'green',label=\"Recovered\")\n",
        "plt.grid(b=True, which='major', c='#bbbbbb', lw=1, ls='-')\n",
        "\n",
        "plt.xlabel('Time (months)')\n",
        "plt.ylabel('Population')\n",
        "legend = plt.legend()\n",
        "legend.get_frame().set_alpha(0.5)\n",
        "\n",
        "plt.show()"
      ],
      "metadata": {
        "colab": {
          "base_uri": "https://localhost:8080/",
          "height": 1000
        },
        "id": "IJLXWh-lmk4E",
        "outputId": "d7786b1c-820c-46c3-f102-7d6562aa8f5d"
      },
      "execution_count": 60,
      "outputs": [
        {
          "output_type": "display_data",
          "data": {
            "text/plain": [
              "<Figure size 640x480 with 1 Axes>"
            ],
            "image/png": "[encoded data removed]"
          },
          "metadata": {
            "needs_background": "light"
          }
        },
        {
          "output_type": "display_data",
          "data": {
            "text/plain": [
              "<Figure size 640x480 with 1 Axes>"
            ],
            "image/png": "[encoded data removed]"
          },
          "metadata": {
            "needs_background": "light"
          }
        },
        {
          "output_type": "display_data",
          "data": {
            "text/plain": [
              "<Figure size 640x480 with 1 Axes>"
            ],
            "image/png": "[encoded data removed]"
          },
          "metadata": {
            "needs_background": "light"
          }
        },
        {
          "output_type": "display_data",
          "data": {
            "text/plain": [
              "<Figure size 640x480 with 1 Axes>"
            ],
            "image/png": "[encoded data removed]"
          },
          "metadata": {
            "needs_background": "light"
          }
        },
        {
          "output_type": "display_data",
          "data": {
            "text/plain": [
              "<Figure size 640x480 with 1 Axes>"
            ],
            "image/png": "[encoded data removed]"
          },
          "metadata": {
            "needs_background": "light"
          }
        },
        {
          "output_type": "display_data",
          "data": {
            "text/plain": [
              "<Figure size 720x720 with 1 Axes>"
            ],
            "image/png": "[encoded data removed]"
          },
          "metadata": {
            "needs_background": "light"
          }
        }
      ]
    },
    {
      "cell_type": "markdown",
      "source": [
        "Extracts of the paper\n",
        "- The susceptible human population decreasing exponentially while the vaccinated human population was growing expotientially up\n",
        "- The treatment intervention caused the recovered class to grow exponentially up\n",
        "\n",
        "\n"
      ],
      "metadata": {
        "id": "vJcB3lh3N58Y"
      }
    },
    {
      "cell_type": "markdown",
      "source": [
        "#### R0 for human population"
      ],
      "metadata": {
        "id": "g8cf1qjKLq4o"
      }
    },
    {
      "cell_type": "markdown",
      "source": [
        "\\begin{equation}\n",
        "  R_{0,h} = \\frac{v_h\\beta_h\\mu_h}{(\\mu_h+d_h+\\rho_h)(\\mu_h+v_h)(\\alpha_h+\\mu_h)}\n",
        "\\end{equation}"
      ],
      "metadata": {
        "id": "TJozqMVMLvqh"
      }
    },
    {
      "cell_type": "code",
      "source": [
        "R0_h = (v_h*beta_h*mu_h)/((mu_h+d_h+rho_h)*(mu_h+v_h)*(alpha_h+mu_h))\n",
        "print(\"R0 for human\",R0_h)"
      ],
      "metadata": {
        "colab": {
          "base_uri": "https://localhost:8080/"
        },
        "id": "HoTibg4YMSSZ",
        "outputId": "57fd3e8e-3098-42a1-d1b7-dbbf397ad03c"
      },
      "execution_count": 61,
      "outputs": [
        {
          "output_type": "stream",
          "name": "stdout",
          "text": [
            "R0 for human 9.130434782608697e-06\n"
          ]
        }
      ]
    },
    {
      "cell_type": "code",
      "source": [
        "if(R0_h < 1 ):\n",
        "  print(\"No epidemic\")\n",
        "else:\n",
        "  print(\"Epidemic !!\")"
      ],
      "metadata": {
        "colab": {
          "base_uri": "https://localhost:8080/"
        },
        "id": "puOmNFoPT7OA",
        "outputId": "6de22b05-9590-4183-f3c1-c939c95a0b97"
      },
      "execution_count": 87,
      "outputs": [
        {
          "output_type": "stream",
          "name": "stdout",
          "text": [
            "No epidemic\n"
          ]
        }
      ]
    },
    {
      "cell_type": "markdown",
      "source": [
        "#Interactive modeling"
      ],
      "metadata": {
        "id": "JeD52ScYWEqj"
      }
    },
    {
      "cell_type": "code",
      "source": [
        "def SVEIR(y,t,Lambda_n,mu_n,d_n,rho_n,v_n,beta_n1,N_n,Lambda_h,mu_h,d_h,rho_h,v_h,alpha_h,beta_n2,beta_h,N_h):\n",
        "\n",
        "  S_n,E_n,I_n,R_n,S_h,V_h,E_h,I_h,R_h = y\n",
        "\n",
        "  lambda_n = beta_n1*(I_n/N_n)\n",
        "  S_nModeling = Lambda_n-(mu_n+lambda_n)*S_n\n",
        "  E_nModeling = lambda_n*S_n-(mu_n+v_n)*E_n\n",
        "  I_nModeling = v_n*E_n-(mu_n+d_n+rho_n)*I_n\n",
        "  R_nModeling = rho_n*I_n - mu_n*R_n\n",
        "\n",
        "  lambda_h = beta_n2*(I_n/N_n)+beta_h*(I_h/N_h) #Use I_n (non human infected)\n",
        "\n",
        "  S_hModeling = Lambda_h-(mu_h+lambda_h+alpha_h)*S_h\n",
        "  V_hModeling = alpha_h*S_h - mu_h*V_h\n",
        "  E_hModeling = lambda_h*S_h-(mu_h+v_h)*E_h\n",
        "  I_hModeling = v_h*E_h-(mu_h+d_h+rho_h)*I_h\n",
        "  R_hModeling = rho_h*I_h - mu_h*R_h\n",
        "\n",
        "  return S_nModeling,E_nModeling,I_nModeling,R_nModeling,S_hModeling,V_hModeling,E_hModeling,I_hModeling,R_hModeling\n",
        "\n",
        "\n",
        "def modeling(Lambda_n,mu_n,d_n,rho_n,v_n,beta_n1,N_n,Lambda_h,mu_h,d_h,rho_h,v_h,alpha_h,beta_n2,beta_h,N_h):\n",
        "  HumanModeling = odeint(SVEIR,\n",
        "                    [S_n,E_n,I_n,R_n,S_h,V_h,E_h,I_h,R_h], #y parameters of the SVEIR fonction (Subpopulation to be modelized)\n",
        "                    months,#t parameter of the SEIR function (150 months in our case)\n",
        "                    args=(Lambda_n,mu_n,d_n,rho_n,v_n,beta_n1,N_n,Lambda_h,mu_h,d_h,rho_h,v_h,alpha_h,beta_n2,beta_h,N_h) #all parameters used for modelisation\n",
        "                    )\n",
        "  \n",
        "\n",
        "  R0_n = (v_n*beta_n1) / ((mu_n+d_n+rho_n)*(mu_n+v_n))\n",
        "  print(\"R0 for non-human: \",R0_n)\n",
        "  \n",
        "  R0_h = (v_h*beta_h*mu_h)/((mu_h+d_h+rho_h)*(mu_h+v_h)*(alpha_h+mu_h))\n",
        "  print(\"R0 for human: \",R0_h)\n",
        "\n",
        "  R0 = max(R0_n,R0_h)\n",
        "  print(\"R0 :\",R0)\n",
        "\n",
        "  if(R0 < 1 ):\n",
        "    print(\"No epidemic\")\n",
        "  else:\n",
        "    print(\"Epidemic !!\")\n",
        "\n",
        "  SnModeling, EnModeling, InModeling, RnModeling,ShModeling, VhModeling,EhModeling, IhModeling, RhModeling = HumanModeling.T\n",
        "\n",
        "  plt.figure(figsize=(10,10))\n",
        "  title = \"Monkeypox - human\"\n",
        "  plt.title(title.upper())\n",
        "  plt.autoscale(enable=True, axis='both', tight=None)\n",
        "  plt.plot(months,ShModeling,'grey',label=\"Susceptibles\")\n",
        "  plt.plot(months,VhModeling,'blue',label=\"Vaccinated\")\n",
        "  plt.plot(months,EhModeling,'orange',label=\"Exposed\")\n",
        "  plt.plot(months,IhModeling,'red',label=\"Infected\")\n",
        "  plt.plot(months,RhModeling,'green',label=\"Recovered\")\n",
        "  plt.grid(b=True, which='major', c='#bbbbbb', lw=1, ls='-')\n",
        "\n",
        "  plt.xlabel('Time (months)')\n",
        "  plt.ylabel('Population')\n",
        "  legend = plt.legend()\n",
        "  legend.get_frame().set_alpha(0.5)\n",
        "\n",
        "  plt.show()\n"
      ],
      "metadata": {
        "id": "jari9XcuWIBW"
      },
      "execution_count": 86,
      "outputs": []
    },
    {
      "cell_type": "code",
      "source": [
        "#Non human population\n",
        "S_n = 250\n",
        "E_n = 125\n",
        "I_n = 75\n",
        "R_n = 50\n",
        "N_n = S_n+E_n+I_n+R_n\n",
        "\n",
        "#Non human parameters\n",
        "Lambda_n = 0.2\n",
        "mu_n = 0.1\n",
        "d_n = 0.2\n",
        "rho_n=0.3\n",
        "v_n = 0.3\n",
        "beta_n1 = 0.0027\n",
        "beta_n2= 0.00252\n",
        "\n",
        "\n",
        "#Human population\n",
        "S_h = 8000\n",
        "V_h = 5000\n",
        "E_h = 3000\n",
        "I_h = 2000\n",
        "R_h = 2000\n",
        "N_h = S_h+V_h+E_h+I_h+R_h\n",
        "\n",
        "#Human parameters\n",
        "Lambda_h = 0.029\n",
        "mu_h = 0.02\n",
        "d_h = 0.1\n",
        "rho_h=0.83\n",
        "v_h = 0.095\n",
        "alpha_h= 0.1\n",
        "beta_n2= 0.00252\n",
        "beta_h = 0.000063\n",
        "\n"
      ],
      "metadata": {
        "id": "o4umlP0SW4QD"
      },
      "execution_count": 72,
      "outputs": []
    },
    {
      "cell_type": "markdown",
      "source": [
        "Interactivity focuses on the parameters involved in the calculation of R0 in order to identify their value to trigger an epidemic (R0 > 1)\n",
        "\n",
        "$R0 = max(R0_n,R0_h)$\n",
        "\n"
      ],
      "metadata": {
        "id": "hLRWL71iXMwq"
      }
    },
    {
      "cell_type": "markdown",
      "source": [
        "To obtain an epidemic we must:  \n",
        "On the non-human parameters\n",
        "- Decrease $\\rho_p$ : The percentage of invected individuals to become recovered\n",
        "- Increase $v_n$ : The percentage of exposed individuals to become infected\n",
        "- Increase : $\\lambda_n$ (therefore $\\beta_n1$) : The percentage of susceptible individuals to become exposed\n",
        "\n",
        "On the human parameters\n",
        "- Decrease $\\rho_h$ : The percentage of invected individuals to become recovered\n",
        "- Increase $v_h$ : The percentage of exposed individuals to become infected\n",
        "- Increase : $\\lambda_n$ (therefore $\\beta_n2$ and $\\beta_h$) : The percentage of susceptible individuals to become exposed\n",
        "- Decrease $\\alpha_h$ : The percentage of susceptible individuals to become vaccinated\n"
      ],
      "metadata": {
        "id": "FF0bTm2nfIs_"
      }
    },
    {
      "cell_type": "code",
      "source": [
        "#All parameters have been modified to support an epidemic\n",
        "\n",
        "interact(modeling,\n",
        "         Lambda_n=widgets.FloatSlider(min=0, max=1, step=0.05, value=0.20),\n",
        "         mu_n = widgets.FloatSlider(min=0, max=1, step=0.05, value=0.10),\n",
        "         d_n = widgets.FloatSlider(min=0, max=1, step=0.05, value=0.20),\n",
        "         rho_n = widgets.FloatSlider(min=0, max=1, step=0.05, value=0),\n",
        "         v_n = widgets.FloatSlider(min=0, max=1, step=0.05, value=1),\n",
        "         beta_n1 = widgets.FloatSlider(min=0, max=1, step=0.05, value=0.60),\n",
        "         N_n = N_n,\n",
        "         Lambda_h=widgets.FloatSlider(min=0, max=1, step=0.05, value=0.03),\n",
        "         mu_h= widgets.FloatSlider(min=0, max=1, step=0.05, value=0.02),\n",
        "         d_h = widgets.FloatSlider(min=0, max=1, step=0.05, value=0.10),\n",
        "         rho_h = widgets.FloatSlider(min=0, max=1, step=0.05, value=0.05),\n",
        "         v_h = widgets.FloatSlider(min=0, max=1, step=0.05, value=0.85),\n",
        "         alpha_h = widgets.FloatSlider(min=0, max=1, step=0.05, value=0.05),\n",
        "         beta_n2 = widgets.FloatSlider(min=0, max=1, step=0.05, value=0.20),\n",
        "         beta_h = widgets.FloatSlider(min=0, max=1, step=0.05, value=0),\n",
        "         N_h = N_h );\n",
        "\n",
        "\n"
      ],
      "metadata": {
        "colab": {
          "base_uri": "https://localhost:8080/",
          "height": 1000,
          "referenced_widgets": [
            "0f1c74e09483400493658261fd8899ba",
            "b7ccd21fd1ee46e7a8b7395dc6c3d468",
            "169b4aac9c45437a8afe64b66c37a5a0",
            "91b2f29da774414a9c73dc1ede177bd2",
            "c3d84f9b67d943d996264fdac9b30a19",
            "16dcb726fc984f5c8c30a99616f33ced",
            "92fa122c48c541839f2d7db4506265f8",
            "c197eaf1d50343718b16cb4079bd0fb0",
            "abd92b1f920e43889d3c51cacd9cd0a6",
            "91ad2122b2b048c3951061d6da0c9125",
            "d809850d0468470ebf33a05eaaedaaa3",
            "dd3442e6e7944e05adbe3518ea38cbd1",
            "de57af523ef84e05994d3aa7466ae215",
            "bcf6a5eb5b864aec9e65237f79fafa0f",
            "124c7f1a91404153bf8c78eef5f0eb87",
            "9418611ead8f43f2b62c75755446f680",
            "11b5afed31b045c28ebb8948336af7da",
            "4aa05ecff3ce4c4aa65f52b725fb7cc1",
            "7ce6af5c25b54a0dabeaedd59769a479",
            "5ebbf814389643c581d530f8c6cdd813",
            "122e8182fdee4ca9912ae4076ece6aaf",
            "3e0130fddd7d407ca197915903c70b4b",
            "1583cd9214d44f149853eb579fa792de",
            "cd4e4bf1adfa49d5a3784cad32bc42c2",
            "8db42054d8624af0a79f6d873253c597",
            "82117ba6e48a4b2ab8a3117c8536966a",
            "3a4e2ef66ca7498a98ff9446ab01cfc4",
            "d06e1642e0aa4842b2f2b07b2710e295",
            "103eb01e6b064f1d81c7a12d785bb8a1",
            "3421f5b694e4491ea56b33b1af681b70",
            "a9cd8ed511e94c0c9ba2899882724451",
            "f377361b7c404dbc8c4eb8361604d5ab",
            "2b2b4d44d7804bca81c279794b134d49",
            "fffcb3ed01f94f37aa263301089fa986",
            "1997472fd391477c9b1b29271a8f0d72",
            "a8da4db1148d46b3a96c064856252e6a",
            "0cbb9a4c67ce41cdbd2e85bdda3ea33b",
            "c0861dbbd347410eaeb37bd0abb70bc4",
            "5e8ad09421034a67a7f4779839d4168d",
            "87633cd8519a4a6aa5701d29bf482d72",
            "32c52a51def24c5a9392c7952d2cd0b1",
            "46b9bb0e2f0e4540a4048472a1845fef",
            "5f4f0dc82bd94eefb7f9f1c3fe14d718",
            "d1aa1a26533d4980b3dcb09df4162ea8",
            "b68e8b6035384a63803d550d50b3d0df",
            "ffb935338e324620acaa113ced47657a",
            "3250b412dc9c43638bc717badd488ab1",
            "8681570db8bb41b08cc110fe13766958",
            "05904699a6ba42debe26217e3cefcd83",
            "70642cc77674492daf96d40610fa4729",
            "df513e3520a84ad880d784ddb3115f1f",
            "1900e778811646daa0e4983ab37cab77"
          ]
        },
        "id": "mXqEB7PAX7Ct",
        "outputId": "cce7e925-162b-4510-d50b-c305b4fd1a7c"
      },
      "execution_count": 85,
      "outputs": [
        {
          "output_type": "display_data",
          "data": {
            "text/plain": [
              "interactive(children=(FloatSlider(value=0.2, description='Lambda_n', max=1.0, step=0.05), FloatSlider(value=0.…"
            ],
            "application/vnd.jupyter.widget-view+json": {
              "version_major": 2,
              "version_minor": 0,
              "model_id": "0f1c74e09483400493658261fd8899ba"
            }
          },
          "metadata": {}
        }
      ]
    },
    {
      "cell_type": "markdown",
      "source": [
        "# Sources"
      ],
      "metadata": {
        "id": "NvRQlbRQPKqB"
      }
    },
    {
      "cell_type": "markdown",
      "source": [
        "Documents:  \n",
        "https://www.scirp.org/pdf/JAMP_2017121414351920.pdf  \n",
        "https://www.tnstate.edu/mathematics/mathreu/filesreu/GroupProjectSIR.pdf\n",
        "<br><br>\n",
        "Websites :  \n",
        "http://mpechaud.fr/scripts/SIR/SIR.html  \n",
        "https://www.maa.org/press/periodicals/loci/joma/the-sir-model-for-spread-of-disease-eulers-method-for-systems\n",
        "https://hplgit.github.io/prog4comp/doc/pub/._p4c-bootstrap-Python021.html"
      ],
      "metadata": {
        "id": "EJDJMdfKPNAF"
      }
    }
  ]
}